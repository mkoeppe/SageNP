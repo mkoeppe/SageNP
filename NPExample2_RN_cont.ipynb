{
 "cells": [
  {
   "cell_type": "code",
   "execution_count": 1,
   "id": "bc8950dc",
   "metadata": {},
   "outputs": [
    {
     "name": "stdout",
     "output_type": "stream",
     "text": [
      "Inverting tetrad...\n"
     ]
    },
    {
     "data": {
      "text/html": [
       "<html>\\(\\displaystyle \\verb|The|\\verb| |\\verb|metric:|\\)</html>"
      ],
      "text/latex": [
       "$\\displaystyle \\verb|The|\\verb| |\\verb|metric:|$"
      ],
      "text/plain": [
       "'The metric:'"
      ]
     },
     "metadata": {},
     "output_type": "display_data"
    },
    {
     "data": {
      "text/html": [
       "<html>\\(\\displaystyle g = \\left( -\\frac{Q^{2} - 2 \\, M r + r^{2}}{r^{2}} \\right) \\mathrm{d} t\\otimes \\mathrm{d} t + \\left( \\frac{r^{2}}{Q^{2} - 2 \\, M r + r^{2}} \\right) \\mathrm{d} r\\otimes \\mathrm{d} r + r^{2} \\mathrm{d} {\\theta}\\otimes \\mathrm{d} {\\theta} + r^{2} \\sin\\left({\\theta}\\right)^{2} \\mathrm{d} {\\phi}\\otimes \\mathrm{d} {\\phi}\\)</html>"
      ],
      "text/latex": [
       "$\\displaystyle g = \\left( -\\frac{Q^{2} - 2 \\, M r + r^{2}}{r^{2}} \\right) \\mathrm{d} t\\otimes \\mathrm{d} t + \\left( \\frac{r^{2}}{Q^{2} - 2 \\, M r + r^{2}} \\right) \\mathrm{d} r\\otimes \\mathrm{d} r + r^{2} \\mathrm{d} {\\theta}\\otimes \\mathrm{d} {\\theta} + r^{2} \\sin\\left({\\theta}\\right)^{2} \\mathrm{d} {\\phi}\\otimes \\mathrm{d} {\\phi}$"
      ],
      "text/plain": [
       "g = -(Q^2 - 2*M*r + r^2)/r^2 dt⊗dt + r^2/(Q^2 - 2*M*r + r^2) dr⊗dr + r^2 dth⊗dth + r^2*sin(th)^2 dph⊗dph"
      ]
     },
     "metadata": {},
     "output_type": "display_data"
    }
   ],
   "source": [
    "# Example notebook for the Newman-Penrose calculations with SageMath (SageManifolds)\n",
    "\n",
    "# Example Notebooks:\n",
    "# NPExample1_Schw_cov: Example notebook for the Schwarzschild metric. Null tetrad with covariant elements\n",
    "# NPExample2_RN_cont (this one): Example notebook for the Reissner-Nordstrom metric. Null tetrad with contravariant elements\n",
    "# NPExample3_StatSph_cov: Example notebook for the static spherical metric. Null tetrad with covariant elements\n",
    "\n",
    "\n",
    "####################################################\n",
    "# Newman-Penrose Calculations                      # \n",
    "####################################################\n",
    "# Code by:                                         #\n",
    "# Tolga Birkandan (Corr.: birkandant@itu.edu.tr)   #\n",
    "# Emir Baysazan                                    #\n",
    "# Pelin Ozturk                                     #\n",
    "# Based on SageMath (SageManifolds)                #\n",
    "####################################################\n",
    "# Reference:                                       #\n",
    "# Stephani H., Kramer D., MacCallum, M. A. H.,     #\n",
    "# Hoenselaers C., Herlt E.,                        #\n",
    "# \"Exact Solutions of Einstein's Field Equations\", #\n",
    "# 2nd ed. (2003), Cambridge,                       #\n",
    "# Cambridge University Press.                      #\n",
    "####################################################\n",
    "# NOTATION:                                        #\n",
    "# Metric signature: (- + + +)                      #\n",
    "# Ref. book uses (k,l,m,mbar)                      #\n",
    "# The code uses  (l,n,m,mbar)                      #\n",
    "# Therefore set k->l, l->n in the ref. book        #\n",
    "# l*n = -1, m*mbar = 1                             #\n",
    "# g = -2*l*n + 2*m*mbar                            #\n",
    "# g = [0  1  0  0]                                 #\n",
    "#     [1  0  0  0]                                 #\n",
    "#     [0  0  0 -1]                                 #\n",
    "#     [0  0 -1  0]                                 #\n",
    "####################################################\n",
    "\n",
    "\n",
    "# The code needs an input file for the null-tetrad. The following part shows the content of the \"RN_contr_input.sage\" file:\n",
    "\n",
    "##########################################################################\n",
    "# Reissner-Nordstrom (with contravariant null vectors)\n",
    "# Chandrasekhar p. 225\n",
    "# YOU CAN CHANGE THIS PART ACCORDING TO YOUR METRIC\n",
    "# Define the coordinates\n",
    "###################################################\n",
    "# {t=0, r=1, theta(=th)=2, phi=3} with ranges (CO = Coordinates)\n",
    "#CO.<t,r,th,ph> = Man.chart(r't r:(0,+oo) th:(0,pi):\\theta ph:(0,2*pi):\\phi')\n",
    "###################################################\n",
    "# Define the metric functions\n",
    "#var('M,Q')\n",
    "#Delta=function('Delta',imag_part_func=0)(r)\n",
    "#Delta=r^2-2*M*r+Q^2\n",
    "###################################################\n",
    "# Enter null tetrad elements\n",
    "#lNPvecup=[(r^2)/Delta,1,0,0]\n",
    "#nNPvecup=[1/2,-Delta/(2*r^2),0,0]\n",
    "#mNPvecup=[0,0,1/(r*sqrt(2)),I*csc(th)/(r*sqrt(2))]\n",
    "#mbarNPvecup=[0,0,1/(r*sqrt(2)),-I*csc(th)/(r*sqrt(2))]\n",
    "#invert_tetradNP()\n",
    "##########################################################################\n",
    "\n",
    "# Here, the null tetrad is given by the contravariant elements. \n",
    "# It is transformed into a covariant tetrad with the command \"invert_tetradNP()\" at the end of the input file.\n",
    "\n",
    "################################################################################################\n",
    "reset()\n",
    "\n",
    "# Enter the name of the input file without extension. The code will add *.sage extension itself. \n",
    "inputfile=\"RN_contr_input\"\n",
    "\n",
    "# Load the main code:\n",
    "load(\"NP_maincode.sage\")\n",
    "\n",
    "# The code calculates the metric once it is run"
   ]
  },
  {
   "cell_type": "code",
   "execution_count": 2,
   "id": "ee4ba963",
   "metadata": {},
   "outputs": [
    {
     "name": "stdout",
     "output_type": "stream",
     "text": [
      "Testing null tetrad...\n",
      "PASSED\n"
     ]
    }
   ],
   "source": [
    "# Test the null-tetrad using l*n = -1, m*mbar = 1 and the others zero.\n",
    "\n",
    "test_nulltetrad()"
   ]
  },
  {
   "cell_type": "code",
   "execution_count": 3,
   "id": "9c6a5912-5220-4c4f-b56e-01d65bf873e8",
   "metadata": {},
   "outputs": [
    {
     "data": {
      "text/html": [
       "<html>\\(\\displaystyle \\left[-1, \\frac{r^{2}}{Q^{2} - 2 \\, M r + r^{2}}, 0, 0\\right]\\)</html>"
      ],
      "text/latex": [
       "$\\displaystyle \\left[-1, \\frac{r^{2}}{Q^{2} - 2 \\, M r + r^{2}}, 0, 0\\right]$"
      ],
      "text/plain": [
       "[-1, r^2/(Q^2 - 2*M*r + r^2), 0, 0]"
      ]
     },
     "metadata": {},
     "output_type": "display_data"
    },
    {
     "data": {
      "text/html": [
       "<html>\\(\\displaystyle \\left[-\\frac{Q^{2} - 2 \\, M r + r^{2}}{2 \\, r^{2}}, -\\frac{1}{2}, 0, 0\\right]\\)</html>"
      ],
      "text/latex": [
       "$\\displaystyle \\left[-\\frac{Q^{2} - 2 \\, M r + r^{2}}{2 \\, r^{2}}, -\\frac{1}{2}, 0, 0\\right]$"
      ],
      "text/plain": [
       "[-1/2*(Q^2 - 2*M*r + r^2)/r^2, -1/2, 0, 0]"
      ]
     },
     "metadata": {},
     "output_type": "display_data"
    },
    {
     "data": {
      "text/html": [
       "<html>\\(\\displaystyle \\left[0, 0, \\frac{1}{2} \\, \\sqrt{2} r, \\frac{1}{2} i \\, \\sqrt{2} r \\sin\\left({\\theta}\\right)\\right]\\)</html>"
      ],
      "text/latex": [
       "$\\displaystyle \\left[0, 0, \\frac{1}{2} \\, \\sqrt{2} r, \\frac{1}{2} i \\, \\sqrt{2} r \\sin\\left({\\theta}\\right)\\right]$"
      ],
      "text/plain": [
       "[0, 0, 1/2*sqrt(2)*r, 1/2*I*sqrt(2)*r*sin(th)]"
      ]
     },
     "metadata": {},
     "output_type": "display_data"
    },
    {
     "data": {
      "text/html": [
       "<html>\\(\\displaystyle \\left[0, 0, \\frac{1}{2} \\, \\sqrt{2} r, -\\frac{1}{2} i \\, \\sqrt{2} r \\sin\\left({\\theta}\\right)\\right]\\)</html>"
      ],
      "text/latex": [
       "$\\displaystyle \\left[0, 0, \\frac{1}{2} \\, \\sqrt{2} r, -\\frac{1}{2} i \\, \\sqrt{2} r \\sin\\left({\\theta}\\right)\\right]$"
      ],
      "text/plain": [
       "[0, 0, 1/2*sqrt(2)*r, -1/2*I*sqrt(2)*r*sin(th)]"
      ]
     },
     "metadata": {},
     "output_type": "display_data"
    }
   ],
   "source": [
    "# Display the covariant null-tetrad elements\n",
    "\n",
    "show(lNP[:])\n",
    "show(nNP[:])\n",
    "show(mNP[:])\n",
    "show(mbarNP[:])"
   ]
  },
  {
   "cell_type": "code",
   "execution_count": 4,
   "id": "bfd77138-086d-45a1-ba66-078ae446a941",
   "metadata": {},
   "outputs": [
    {
     "data": {
      "text/html": [
       "<html>\\(\\displaystyle \\left[\\frac{r^{2}}{Q^{2} - 2 \\, M r + r^{2}}, 1, 0, 0\\right]\\)</html>"
      ],
      "text/latex": [
       "$\\displaystyle \\left[\\frac{r^{2}}{Q^{2} - 2 \\, M r + r^{2}}, 1, 0, 0\\right]$"
      ],
      "text/plain": [
       "[r^2/(Q^2 - 2*M*r + r^2), 1, 0, 0]"
      ]
     },
     "metadata": {},
     "output_type": "display_data"
    },
    {
     "data": {
      "text/html": [
       "<html>\\(\\displaystyle \\left[\\frac{1}{2}, -\\frac{Q^{2} - 2 \\, M r + r^{2}}{2 \\, r^{2}}, 0, 0\\right]\\)</html>"
      ],
      "text/latex": [
       "$\\displaystyle \\left[\\frac{1}{2}, -\\frac{Q^{2} - 2 \\, M r + r^{2}}{2 \\, r^{2}}, 0, 0\\right]$"
      ],
      "text/plain": [
       "[1/2, -1/2*(Q^2 - 2*M*r + r^2)/r^2, 0, 0]"
      ]
     },
     "metadata": {},
     "output_type": "display_data"
    },
    {
     "data": {
      "text/html": [
       "<html>\\(\\displaystyle \\left[0, 0, \\frac{\\sqrt{2}}{2 \\, r}, \\frac{i \\, \\sqrt{2} \\csc\\left({\\theta}\\right)}{2 \\, r}\\right]\\)</html>"
      ],
      "text/latex": [
       "$\\displaystyle \\left[0, 0, \\frac{\\sqrt{2}}{2 \\, r}, \\frac{i \\, \\sqrt{2} \\csc\\left({\\theta}\\right)}{2 \\, r}\\right]$"
      ],
      "text/plain": [
       "[0, 0, 1/2*sqrt(2)/r, 1/2*I*sqrt(2)*csc(th)/r]"
      ]
     },
     "metadata": {},
     "output_type": "display_data"
    },
    {
     "data": {
      "text/html": [
       "<html>\\(\\displaystyle \\left[0, 0, \\frac{\\sqrt{2}}{2 \\, r}, -\\frac{i \\, \\sqrt{2} \\csc\\left({\\theta}\\right)}{2 \\, r}\\right]\\)</html>"
      ],
      "text/latex": [
       "$\\displaystyle \\left[0, 0, \\frac{\\sqrt{2}}{2 \\, r}, -\\frac{i \\, \\sqrt{2} \\csc\\left({\\theta}\\right)}{2 \\, r}\\right]$"
      ],
      "text/plain": [
       "[0, 0, 1/2*sqrt(2)/r, -1/2*I*sqrt(2)*csc(th)/r]"
      ]
     },
     "metadata": {},
     "output_type": "display_data"
    }
   ],
   "source": [
    "# Display the contravariant null-tetrad elements\n",
    "\n",
    "show(lupNP[:])\n",
    "show(nupNP[:])\n",
    "show(mupNP[:])\n",
    "show(mbarupNP[:])"
   ]
  },
  {
   "cell_type": "code",
   "execution_count": 5,
   "id": "50376e0d-da46-43f5-a1dc-510a53f9319f",
   "metadata": {},
   "outputs": [
    {
     "name": "stdout",
     "output_type": "stream",
     "text": [
      "Calculating spin coefficients...\n"
     ]
    },
    {
     "data": {
      "text/html": [
       "<html>\\(\\displaystyle \\verb|kappaNP=| 0\\)</html>"
      ],
      "text/latex": [
       "$\\displaystyle \\verb|kappaNP=| 0$"
      ],
      "text/plain": [
       "'kappaNP=' 0"
      ]
     },
     "metadata": {},
     "output_type": "display_data"
    },
    {
     "data": {
      "text/html": [
       "<html>\\(\\displaystyle \\verb|tauNP=| 0\\)</html>"
      ],
      "text/latex": [
       "$\\displaystyle \\verb|tauNP=| 0$"
      ],
      "text/plain": [
       "'tauNP=' 0"
      ]
     },
     "metadata": {},
     "output_type": "display_data"
    },
    {
     "data": {
      "text/html": [
       "<html>\\(\\displaystyle \\verb|sigmaNP=| 0\\)</html>"
      ],
      "text/latex": [
       "$\\displaystyle \\verb|sigmaNP=| 0$"
      ],
      "text/plain": [
       "'sigmaNP=' 0"
      ]
     },
     "metadata": {},
     "output_type": "display_data"
    },
    {
     "data": {
      "text/html": [
       "<html>\\(\\displaystyle \\verb|rhoNP=| -\\frac{1}{r}\\)</html>"
      ],
      "text/latex": [
       "$\\displaystyle \\verb|rhoNP=| -\\frac{1}{r}$"
      ],
      "text/plain": [
       "'rhoNP=' -1/r"
      ]
     },
     "metadata": {},
     "output_type": "display_data"
    },
    {
     "data": {
      "text/html": [
       "<html>\\(\\displaystyle \\verb|piNP=| 0\\)</html>"
      ],
      "text/latex": [
       "$\\displaystyle \\verb|piNP=| 0$"
      ],
      "text/plain": [
       "'piNP=' 0"
      ]
     },
     "metadata": {},
     "output_type": "display_data"
    },
    {
     "data": {
      "text/html": [
       "<html>\\(\\displaystyle \\verb|nuNP=| 0\\)</html>"
      ],
      "text/latex": [
       "$\\displaystyle \\verb|nuNP=| 0$"
      ],
      "text/plain": [
       "'nuNP=' 0"
      ]
     },
     "metadata": {},
     "output_type": "display_data"
    },
    {
     "data": {
      "text/html": [
       "<html>\\(\\displaystyle \\verb|muNP=| -\\frac{Q^{2} - 2 \\, M r + r^{2}}{2 \\, r^{3}}\\)</html>"
      ],
      "text/latex": [
       "$\\displaystyle \\verb|muNP=| -\\frac{Q^{2} - 2 \\, M r + r^{2}}{2 \\, r^{3}}$"
      ],
      "text/plain": [
       "'muNP=' -1/2*(Q^2 - 2*M*r + r^2)/r^3"
      ]
     },
     "metadata": {},
     "output_type": "display_data"
    },
    {
     "data": {
      "text/html": [
       "<html>\\(\\displaystyle \\verb|lambdaNP=| 0\\)</html>"
      ],
      "text/latex": [
       "$\\displaystyle \\verb|lambdaNP=| 0$"
      ],
      "text/plain": [
       "'lambdaNP=' 0"
      ]
     },
     "metadata": {},
     "output_type": "display_data"
    },
    {
     "data": {
      "text/html": [
       "<html>\\(\\displaystyle \\verb|epsilonNP=| 0\\)</html>"
      ],
      "text/latex": [
       "$\\displaystyle \\verb|epsilonNP=| 0$"
      ],
      "text/plain": [
       "'epsilonNP=' 0"
      ]
     },
     "metadata": {},
     "output_type": "display_data"
    },
    {
     "data": {
      "text/html": [
       "<html>\\(\\displaystyle \\verb|gammaNP=| -\\frac{Q^{2} - M r}{2 \\, r^{3}}\\)</html>"
      ],
      "text/latex": [
       "$\\displaystyle \\verb|gammaNP=| -\\frac{Q^{2} - M r}{2 \\, r^{3}}$"
      ],
      "text/plain": [
       "'gammaNP=' -1/2*(Q^2 - M*r)/r^3"
      ]
     },
     "metadata": {},
     "output_type": "display_data"
    },
    {
     "data": {
      "text/html": [
       "<html>\\(\\displaystyle \\verb|betaNP=| \\frac{\\sqrt{2} \\cos\\left({\\theta}\\right)}{4 \\, r \\sin\\left({\\theta}\\right)}\\)</html>"
      ],
      "text/latex": [
       "$\\displaystyle \\verb|betaNP=| \\frac{\\sqrt{2} \\cos\\left({\\theta}\\right)}{4 \\, r \\sin\\left({\\theta}\\right)}$"
      ],
      "text/plain": [
       "'betaNP=' 1/4*sqrt(2)*cos(th)/(r*sin(th))"
      ]
     },
     "metadata": {},
     "output_type": "display_data"
    },
    {
     "data": {
      "text/html": [
       "<html>\\(\\displaystyle \\verb|alphaNP=| -\\frac{\\sqrt{2} \\cos\\left({\\theta}\\right)}{4 \\, r \\sin\\left({\\theta}\\right)}\\)</html>"
      ],
      "text/latex": [
       "$\\displaystyle \\verb|alphaNP=| -\\frac{\\sqrt{2} \\cos\\left({\\theta}\\right)}{4 \\, r \\sin\\left({\\theta}\\right)}$"
      ],
      "text/plain": [
       "'alphaNP=' -1/4*sqrt(2)*cos(th)/(r*sin(th))"
      ]
     },
     "metadata": {},
     "output_type": "display_data"
    }
   ],
   "source": [
    "# Calculate and display the spin coefficients\n",
    "\n",
    "calculate_spincoefficients()\n",
    "show_spincoefficients()"
   ]
  },
  {
   "cell_type": "code",
   "execution_count": 6,
   "id": "c9607fe6-8f5e-49a5-9433-1b430ab61a0e",
   "metadata": {},
   "outputs": [
    {
     "data": {
      "text/html": [
       "<html>\\(\\displaystyle \\frac{r^{2} \\frac{\\partial}{\\partial t}f\\left(t, r, {\\theta}, {\\phi}\\right) + {\\left(Q^{2} - 2 \\, M r + r^{2}\\right)} \\frac{\\partial}{\\partial r}f\\left(t, r, {\\theta}, {\\phi}\\right)}{Q^{2} - 2 \\, M r + r^{2}}\\)</html>"
      ],
      "text/latex": [
       "$\\displaystyle \\frac{r^{2} \\frac{\\partial}{\\partial t}f\\left(t, r, {\\theta}, {\\phi}\\right) + {\\left(Q^{2} - 2 \\, M r + r^{2}\\right)} \\frac{\\partial}{\\partial r}f\\left(t, r, {\\theta}, {\\phi}\\right)}{Q^{2} - 2 \\, M r + r^{2}}$"
      ],
      "text/plain": [
       "(r^2*diff(f(t, r, th, ph), t) + (Q^2 - 2*M*r + r^2)*diff(f(t, r, th, ph), r))/(Q^2 - 2*M*r + r^2)"
      ]
     },
     "metadata": {},
     "output_type": "display_data"
    },
    {
     "data": {
      "text/html": [
       "<html>\\(\\displaystyle \\frac{r^{2} \\frac{\\partial}{\\partial t}f\\left(t, r, {\\theta}, {\\phi}\\right) - {\\left(Q^{2} - 2 \\, M r + r^{2}\\right)} \\frac{\\partial}{\\partial r}f\\left(t, r, {\\theta}, {\\phi}\\right)}{2 \\, r^{2}}\\)</html>"
      ],
      "text/latex": [
       "$\\displaystyle \\frac{r^{2} \\frac{\\partial}{\\partial t}f\\left(t, r, {\\theta}, {\\phi}\\right) - {\\left(Q^{2} - 2 \\, M r + r^{2}\\right)} \\frac{\\partial}{\\partial r}f\\left(t, r, {\\theta}, {\\phi}\\right)}{2 \\, r^{2}}$"
      ],
      "text/plain": [
       "1/2*(r^2*diff(f(t, r, th, ph), t) - (Q^2 - 2*M*r + r^2)*diff(f(t, r, th, ph), r))/r^2"
      ]
     },
     "metadata": {},
     "output_type": "display_data"
    },
    {
     "data": {
      "text/html": [
       "<html>\\(\\displaystyle \\frac{\\sqrt{2} \\sin\\left({\\theta}\\right) \\frac{\\partial}{\\partial {\\theta}}f\\left(t, r, {\\theta}, {\\phi}\\right) + i \\, \\sqrt{2} \\frac{\\partial}{\\partial {\\phi}}f\\left(t, r, {\\theta}, {\\phi}\\right)}{2 \\, r \\sin\\left({\\theta}\\right)}\\)</html>"
      ],
      "text/latex": [
       "$\\displaystyle \\frac{\\sqrt{2} \\sin\\left({\\theta}\\right) \\frac{\\partial}{\\partial {\\theta}}f\\left(t, r, {\\theta}, {\\phi}\\right) + i \\, \\sqrt{2} \\frac{\\partial}{\\partial {\\phi}}f\\left(t, r, {\\theta}, {\\phi}\\right)}{2 \\, r \\sin\\left({\\theta}\\right)}$"
      ],
      "text/plain": [
       "1/2*(sqrt(2)*sin(th)*diff(f(t, r, th, ph), th) + I*sqrt(2)*diff(f(t, r, th, ph), ph))/(r*sin(th))"
      ]
     },
     "metadata": {},
     "output_type": "display_data"
    },
    {
     "data": {
      "text/html": [
       "<html>\\(\\displaystyle \\frac{\\sqrt{2} \\sin\\left({\\theta}\\right) \\frac{\\partial}{\\partial {\\theta}}f\\left(t, r, {\\theta}, {\\phi}\\right) - i \\, \\sqrt{2} \\frac{\\partial}{\\partial {\\phi}}f\\left(t, r, {\\theta}, {\\phi}\\right)}{2 \\, r \\sin\\left({\\theta}\\right)}\\)</html>"
      ],
      "text/latex": [
       "$\\displaystyle \\frac{\\sqrt{2} \\sin\\left({\\theta}\\right) \\frac{\\partial}{\\partial {\\theta}}f\\left(t, r, {\\theta}, {\\phi}\\right) - i \\, \\sqrt{2} \\frac{\\partial}{\\partial {\\phi}}f\\left(t, r, {\\theta}, {\\phi}\\right)}{2 \\, r \\sin\\left({\\theta}\\right)}$"
      ],
      "text/plain": [
       "1/2*(sqrt(2)*sin(th)*diff(f(t, r, th, ph), th) - I*sqrt(2)*diff(f(t, r, th, ph), ph))/(r*sin(th))"
      ]
     },
     "metadata": {},
     "output_type": "display_data"
    }
   ],
   "source": [
    "# Let us define a function of all coordinates \n",
    "f=Man.scalar_field(function('f')(*CO))\n",
    "\n",
    "# Use this functions with the directional derivatives:\n",
    "show(DlNP(f).expr())\n",
    "show(DeltanNP(f).expr())\n",
    "show(deltamNP(f).expr())\n",
    "show(deltambarNP(f).expr())"
   ]
  },
  {
   "cell_type": "code",
   "execution_count": 7,
   "id": "8e6514cd-4bd1-44fc-91a5-1e5d3b327799",
   "metadata": {},
   "outputs": [
    {
     "data": {
      "text/html": [
       "<html>\\(\\displaystyle -\\frac{{\\left(Q^{2} r^{2} - M r^{3}\\right)} \\frac{\\partial}{\\partial t}f\\left(t, r, {\\theta}, {\\phi}\\right) + {\\left(Q^{4} - 3 \\, M Q^{2} r - M r^{3} + {\\left(2 \\, M^{2} + Q^{2}\\right)} r^{2}\\right)} \\frac{\\partial}{\\partial r}f\\left(t, r, {\\theta}, {\\phi}\\right)}{Q^{2} r^{3} - 2 \\, M r^{4} + r^{5}}\\)</html>"
      ],
      "text/latex": [
       "$\\displaystyle -\\frac{{\\left(Q^{2} r^{2} - M r^{3}\\right)} \\frac{\\partial}{\\partial t}f\\left(t, r, {\\theta}, {\\phi}\\right) + {\\left(Q^{4} - 3 \\, M Q^{2} r - M r^{3} + {\\left(2 \\, M^{2} + Q^{2}\\right)} r^{2}\\right)} \\frac{\\partial}{\\partial r}f\\left(t, r, {\\theta}, {\\phi}\\right)}{Q^{2} r^{3} - 2 \\, M r^{4} + r^{5}}$"
      ],
      "text/plain": [
       "-((Q^2*r^2 - M*r^3)*diff(f(t, r, th, ph), t) + (Q^4 - 3*M*Q^2*r - M*r^3 + (2*M^2 + Q^2)*r^2)*diff(f(t, r, th, ph), r))/(Q^2*r^3 - 2*M*r^4 + r^5)"
      ]
     },
     "metadata": {},
     "output_type": "display_data"
    },
    {
     "data": {
      "text/html": [
       "<html>\\(\\displaystyle \\frac{\\sqrt{2} \\sin\\left({\\theta}\\right) \\frac{\\partial}{\\partial {\\theta}}f\\left(t, r, {\\theta}, {\\phi}\\right) + i \\, \\sqrt{2} \\frac{\\partial}{\\partial {\\phi}}f\\left(t, r, {\\theta}, {\\phi}\\right)}{2 \\, r^{2} \\sin\\left({\\theta}\\right)}\\)</html>"
      ],
      "text/latex": [
       "$\\displaystyle \\frac{\\sqrt{2} \\sin\\left({\\theta}\\right) \\frac{\\partial}{\\partial {\\theta}}f\\left(t, r, {\\theta}, {\\phi}\\right) + i \\, \\sqrt{2} \\frac{\\partial}{\\partial {\\phi}}f\\left(t, r, {\\theta}, {\\phi}\\right)}{2 \\, r^{2} \\sin\\left({\\theta}\\right)}$"
      ],
      "text/plain": [
       "1/2*(sqrt(2)*sin(th)*diff(f(t, r, th, ph), th) + I*sqrt(2)*diff(f(t, r, th, ph), ph))/(r^2*sin(th))"
      ]
     },
     "metadata": {},
     "output_type": "display_data"
    },
    {
     "data": {
      "text/html": [
       "<html>\\(\\displaystyle -\\frac{{\\left(\\sqrt{2} Q^{2} - 2 \\, \\sqrt{2} M r + \\sqrt{2} r^{2}\\right)} \\sin\\left({\\theta}\\right) \\frac{\\partial}{\\partial {\\theta}}f\\left(t, r, {\\theta}, {\\phi}\\right) + {\\left(i \\, \\sqrt{2} Q^{2} - 2 i \\, \\sqrt{2} M r + i \\, \\sqrt{2} r^{2}\\right)} \\frac{\\partial}{\\partial {\\phi}}f\\left(t, r, {\\theta}, {\\phi}\\right)}{4 \\, r^{4} \\sin\\left({\\theta}\\right)}\\)</html>"
      ],
      "text/latex": [
       "$\\displaystyle -\\frac{{\\left(\\sqrt{2} Q^{2} - 2 \\, \\sqrt{2} M r + \\sqrt{2} r^{2}\\right)} \\sin\\left({\\theta}\\right) \\frac{\\partial}{\\partial {\\theta}}f\\left(t, r, {\\theta}, {\\phi}\\right) + {\\left(i \\, \\sqrt{2} Q^{2} - 2 i \\, \\sqrt{2} M r + i \\, \\sqrt{2} r^{2}\\right)} \\frac{\\partial}{\\partial {\\phi}}f\\left(t, r, {\\theta}, {\\phi}\\right)}{4 \\, r^{4} \\sin\\left({\\theta}\\right)}$"
      ],
      "text/plain": [
       "-1/4*((sqrt(2)*Q^2 - 2*sqrt(2)*M*r + sqrt(2)*r^2)*sin(th)*diff(f(t, r, th, ph), th) + (I*sqrt(2)*Q^2 - 2*I*sqrt(2)*M*r + I*sqrt(2)*r^2)*diff(f(t, r, th, ph), ph))/(r^4*sin(th))"
      ]
     },
     "metadata": {},
     "output_type": "display_data"
    },
    {
     "data": {
      "text/html": [
       "<html>\\(\\displaystyle -\\frac{i \\, \\cos\\left({\\theta}\\right) \\frac{\\partial}{\\partial {\\phi}}f\\left(t, r, {\\theta}, {\\phi}\\right)}{r^{2} \\sin\\left({\\theta}\\right)^{2}}\\)</html>"
      ],
      "text/latex": [
       "$\\displaystyle -\\frac{i \\, \\cos\\left({\\theta}\\right) \\frac{\\partial}{\\partial {\\phi}}f\\left(t, r, {\\theta}, {\\phi}\\right)}{r^{2} \\sin\\left({\\theta}\\right)^{2}}$"
      ],
      "text/plain": [
       "-I*cos(th)*diff(f(t, r, th, ph), ph)/(r^2*sin(th)^2)"
      ]
     },
     "metadata": {},
     "output_type": "display_data"
    }
   ],
   "source": [
    "# Calculate and display the commutators\n",
    "\n",
    "show(Deltan_Dl_commNP(f).expr())\n",
    "show(deltam_Dl_commNP(f).expr())\n",
    "show(deltam_Deltan_commNP(f).expr())\n",
    "show(deltambar_deltam_commNP(f).expr())"
   ]
  },
  {
   "cell_type": "code",
   "execution_count": 8,
   "id": "b2e34ba0-1737-44ec-aa7d-27abd9969a62",
   "metadata": {},
   "outputs": [
    {
     "name": "stdout",
     "output_type": "stream",
     "text": [
      "Calculating Weyl components...\n"
     ]
    },
    {
     "data": {
      "text/html": [
       "<html>\\(\\displaystyle \\verb|Psi0NP=| 0\\)</html>"
      ],
      "text/latex": [
       "$\\displaystyle \\verb|Psi0NP=| 0$"
      ],
      "text/plain": [
       "'Psi0NP=' 0"
      ]
     },
     "metadata": {},
     "output_type": "display_data"
    },
    {
     "data": {
      "text/html": [
       "<html>\\(\\displaystyle \\verb|Psi1NP=| 0\\)</html>"
      ],
      "text/latex": [
       "$\\displaystyle \\verb|Psi1NP=| 0$"
      ],
      "text/plain": [
       "'Psi1NP=' 0"
      ]
     },
     "metadata": {},
     "output_type": "display_data"
    },
    {
     "data": {
      "text/html": [
       "<html>\\(\\displaystyle \\verb|Psi2NP=| \\frac{Q^{2} - M r}{r^{4}}\\)</html>"
      ],
      "text/latex": [
       "$\\displaystyle \\verb|Psi2NP=| \\frac{Q^{2} - M r}{r^{4}}$"
      ],
      "text/plain": [
       "'Psi2NP=' (Q^2 - M*r)/r^4"
      ]
     },
     "metadata": {},
     "output_type": "display_data"
    },
    {
     "data": {
      "text/html": [
       "<html>\\(\\displaystyle \\verb|Psi3NP=| 0\\)</html>"
      ],
      "text/latex": [
       "$\\displaystyle \\verb|Psi3NP=| 0$"
      ],
      "text/plain": [
       "'Psi3NP=' 0"
      ]
     },
     "metadata": {},
     "output_type": "display_data"
    },
    {
     "data": {
      "text/html": [
       "<html>\\(\\displaystyle \\verb|Psi4NP=| 0\\)</html>"
      ],
      "text/latex": [
       "$\\displaystyle \\verb|Psi4NP=| 0$"
      ],
      "text/plain": [
       "'Psi4NP=' 0"
      ]
     },
     "metadata": {},
     "output_type": "display_data"
    }
   ],
   "source": [
    "# Calculate and display the Weyl components\n",
    "\n",
    "calculate_Weyl()\n",
    "show_Weyl()"
   ]
  },
  {
   "cell_type": "code",
   "execution_count": 9,
   "id": "274fa996-81af-4378-a89e-8605aa46adc3",
   "metadata": {},
   "outputs": [
    {
     "name": "stdout",
     "output_type": "stream",
     "text": [
      "Calculating Ricci components...\n"
     ]
    },
    {
     "data": {
      "text/html": [
       "<html>\\(\\displaystyle \\verb|Phi00NP=| 0\\)</html>"
      ],
      "text/latex": [
       "$\\displaystyle \\verb|Phi00NP=| 0$"
      ],
      "text/plain": [
       "'Phi00NP=' 0"
      ]
     },
     "metadata": {},
     "output_type": "display_data"
    },
    {
     "data": {
      "text/html": [
       "<html>\\(\\displaystyle \\verb|Phi01NP=| 0\\)</html>"
      ],
      "text/latex": [
       "$\\displaystyle \\verb|Phi01NP=| 0$"
      ],
      "text/plain": [
       "'Phi01NP=' 0"
      ]
     },
     "metadata": {},
     "output_type": "display_data"
    },
    {
     "data": {
      "text/html": [
       "<html>\\(\\displaystyle \\verb|Phi10NP=| 0\\)</html>"
      ],
      "text/latex": [
       "$\\displaystyle \\verb|Phi10NP=| 0$"
      ],
      "text/plain": [
       "'Phi10NP=' 0"
      ]
     },
     "metadata": {},
     "output_type": "display_data"
    },
    {
     "data": {
      "text/html": [
       "<html>\\(\\displaystyle \\verb|Phi02NP=| 0\\)</html>"
      ],
      "text/latex": [
       "$\\displaystyle \\verb|Phi02NP=| 0$"
      ],
      "text/plain": [
       "'Phi02NP=' 0"
      ]
     },
     "metadata": {},
     "output_type": "display_data"
    },
    {
     "data": {
      "text/html": [
       "<html>\\(\\displaystyle \\verb|Phi20NP=| 0\\)</html>"
      ],
      "text/latex": [
       "$\\displaystyle \\verb|Phi20NP=| 0$"
      ],
      "text/plain": [
       "'Phi20NP=' 0"
      ]
     },
     "metadata": {},
     "output_type": "display_data"
    },
    {
     "data": {
      "text/html": [
       "<html>\\(\\displaystyle \\verb|Phi11NP=| \\frac{Q^{2}}{2 \\, r^{4}}\\)</html>"
      ],
      "text/latex": [
       "$\\displaystyle \\verb|Phi11NP=| \\frac{Q^{2}}{2 \\, r^{4}}$"
      ],
      "text/plain": [
       "'Phi11NP=' 1/2*Q^2/r^4"
      ]
     },
     "metadata": {},
     "output_type": "display_data"
    },
    {
     "data": {
      "text/html": [
       "<html>\\(\\displaystyle \\verb|Phi12NP=| 0\\)</html>"
      ],
      "text/latex": [
       "$\\displaystyle \\verb|Phi12NP=| 0$"
      ],
      "text/plain": [
       "'Phi12NP=' 0"
      ]
     },
     "metadata": {},
     "output_type": "display_data"
    },
    {
     "data": {
      "text/html": [
       "<html>\\(\\displaystyle \\verb|Phi21NP=| 0\\)</html>"
      ],
      "text/latex": [
       "$\\displaystyle \\verb|Phi21NP=| 0$"
      ],
      "text/plain": [
       "'Phi21NP=' 0"
      ]
     },
     "metadata": {},
     "output_type": "display_data"
    },
    {
     "data": {
      "text/html": [
       "<html>\\(\\displaystyle \\verb|Phi22NP=| 0\\)</html>"
      ],
      "text/latex": [
       "$\\displaystyle \\verb|Phi22NP=| 0$"
      ],
      "text/plain": [
       "'Phi22NP=' 0"
      ]
     },
     "metadata": {},
     "output_type": "display_data"
    },
    {
     "data": {
      "text/html": [
       "<html>\\(\\displaystyle \\verb|LambdaNP=| 0\\)</html>"
      ],
      "text/latex": [
       "$\\displaystyle \\verb|LambdaNP=| 0$"
      ],
      "text/plain": [
       "'LambdaNP=' 0"
      ]
     },
     "metadata": {},
     "output_type": "display_data"
    }
   ],
   "source": [
    "# Calculate and display the Ricci components\n",
    "\n",
    "calculate_Ricci()\n",
    "show_Ricci()"
   ]
  },
  {
   "cell_type": "code",
   "execution_count": 10,
   "id": "608392ad-eb7a-480a-a2e2-7b5b8528d098",
   "metadata": {},
   "outputs": [
    {
     "name": "stdout",
     "output_type": "stream",
     "text": [
      "Calculating NP equations...\n"
     ]
    },
    {
     "data": {
      "text/html": [
       "<html>\\(\\displaystyle \\verb|NPeq1=| 0\\)</html>"
      ],
      "text/latex": [
       "$\\displaystyle \\verb|NPeq1=| 0$"
      ],
      "text/plain": [
       "'NPeq1=' 0"
      ]
     },
     "metadata": {},
     "output_type": "display_data"
    },
    {
     "data": {
      "text/html": [
       "<html>\\(\\displaystyle \\verb|NPeq2=| 0\\)</html>"
      ],
      "text/latex": [
       "$\\displaystyle \\verb|NPeq2=| 0$"
      ],
      "text/plain": [
       "'NPeq2=' 0"
      ]
     },
     "metadata": {},
     "output_type": "display_data"
    },
    {
     "data": {
      "text/html": [
       "<html>\\(\\displaystyle \\verb|NPeq3=| 0\\)</html>"
      ],
      "text/latex": [
       "$\\displaystyle \\verb|NPeq3=| 0$"
      ],
      "text/plain": [
       "'NPeq3=' 0"
      ]
     },
     "metadata": {},
     "output_type": "display_data"
    },
    {
     "data": {
      "text/html": [
       "<html>\\(\\displaystyle \\verb|NPeq4=| 0\\)</html>"
      ],
      "text/latex": [
       "$\\displaystyle \\verb|NPeq4=| 0$"
      ],
      "text/plain": [
       "'NPeq4=' 0"
      ]
     },
     "metadata": {},
     "output_type": "display_data"
    },
    {
     "data": {
      "text/html": [
       "<html>\\(\\displaystyle \\verb|NPeq5=| 0\\)</html>"
      ],
      "text/latex": [
       "$\\displaystyle \\verb|NPeq5=| 0$"
      ],
      "text/plain": [
       "'NPeq5=' 0"
      ]
     },
     "metadata": {},
     "output_type": "display_data"
    },
    {
     "data": {
      "text/html": [
       "<html>\\(\\displaystyle \\verb|NPeq6=| 0\\)</html>"
      ],
      "text/latex": [
       "$\\displaystyle \\verb|NPeq6=| 0$"
      ],
      "text/plain": [
       "'NPeq6=' 0"
      ]
     },
     "metadata": {},
     "output_type": "display_data"
    },
    {
     "data": {
      "text/html": [
       "<html>\\(\\displaystyle \\verb|NPeq7=| 0\\)</html>"
      ],
      "text/latex": [
       "$\\displaystyle \\verb|NPeq7=| 0$"
      ],
      "text/plain": [
       "'NPeq7=' 0"
      ]
     },
     "metadata": {},
     "output_type": "display_data"
    },
    {
     "data": {
      "text/html": [
       "<html>\\(\\displaystyle \\verb|NPeq8=| 0\\)</html>"
      ],
      "text/latex": [
       "$\\displaystyle \\verb|NPeq8=| 0$"
      ],
      "text/plain": [
       "'NPeq8=' 0"
      ]
     },
     "metadata": {},
     "output_type": "display_data"
    },
    {
     "data": {
      "text/html": [
       "<html>\\(\\displaystyle \\verb|NPeq9=| 0\\)</html>"
      ],
      "text/latex": [
       "$\\displaystyle \\verb|NPeq9=| 0$"
      ],
      "text/plain": [
       "'NPeq9=' 0"
      ]
     },
     "metadata": {},
     "output_type": "display_data"
    },
    {
     "data": {
      "text/html": [
       "<html>\\(\\displaystyle \\verb|NPeq10=| 0\\)</html>"
      ],
      "text/latex": [
       "$\\displaystyle \\verb|NPeq10=| 0$"
      ],
      "text/plain": [
       "'NPeq10=' 0"
      ]
     },
     "metadata": {},
     "output_type": "display_data"
    },
    {
     "data": {
      "text/html": [
       "<html>\\(\\displaystyle \\verb|NPeq11=| 0\\)</html>"
      ],
      "text/latex": [
       "$\\displaystyle \\verb|NPeq11=| 0$"
      ],
      "text/plain": [
       "'NPeq11=' 0"
      ]
     },
     "metadata": {},
     "output_type": "display_data"
    },
    {
     "data": {
      "text/html": [
       "<html>\\(\\displaystyle \\verb|NPeq12=| 0\\)</html>"
      ],
      "text/latex": [
       "$\\displaystyle \\verb|NPeq12=| 0$"
      ],
      "text/plain": [
       "'NPeq12=' 0"
      ]
     },
     "metadata": {},
     "output_type": "display_data"
    },
    {
     "data": {
      "text/html": [
       "<html>\\(\\displaystyle \\verb|NPeq13=| 0\\)</html>"
      ],
      "text/latex": [
       "$\\displaystyle \\verb|NPeq13=| 0$"
      ],
      "text/plain": [
       "'NPeq13=' 0"
      ]
     },
     "metadata": {},
     "output_type": "display_data"
    },
    {
     "data": {
      "text/html": [
       "<html>\\(\\displaystyle \\verb|NPeq14=| 0\\)</html>"
      ],
      "text/latex": [
       "$\\displaystyle \\verb|NPeq14=| 0$"
      ],
      "text/plain": [
       "'NPeq14=' 0"
      ]
     },
     "metadata": {},
     "output_type": "display_data"
    },
    {
     "data": {
      "text/html": [
       "<html>\\(\\displaystyle \\verb|NPeq15=| 0\\)</html>"
      ],
      "text/latex": [
       "$\\displaystyle \\verb|NPeq15=| 0$"
      ],
      "text/plain": [
       "'NPeq15=' 0"
      ]
     },
     "metadata": {},
     "output_type": "display_data"
    },
    {
     "data": {
      "text/html": [
       "<html>\\(\\displaystyle \\verb|NPeq16=| 0\\)</html>"
      ],
      "text/latex": [
       "$\\displaystyle \\verb|NPeq16=| 0$"
      ],
      "text/plain": [
       "'NPeq16=' 0"
      ]
     },
     "metadata": {},
     "output_type": "display_data"
    },
    {
     "data": {
      "text/html": [
       "<html>\\(\\displaystyle \\verb|NPeq17=| 0\\)</html>"
      ],
      "text/latex": [
       "$\\displaystyle \\verb|NPeq17=| 0$"
      ],
      "text/plain": [
       "'NPeq17=' 0"
      ]
     },
     "metadata": {},
     "output_type": "display_data"
    },
    {
     "data": {
      "text/html": [
       "<html>\\(\\displaystyle \\verb|NPeq18=| 0\\)</html>"
      ],
      "text/latex": [
       "$\\displaystyle \\verb|NPeq18=| 0$"
      ],
      "text/plain": [
       "'NPeq18=' 0"
      ]
     },
     "metadata": {},
     "output_type": "display_data"
    }
   ],
   "source": [
    "# Calculate and display the Newman-Penrose equations\n",
    "\n",
    "calculate_NPeq()\n",
    "show_NPeq()"
   ]
  },
  {
   "cell_type": "code",
   "execution_count": 11,
   "id": "cc2ab6de-8a5f-490e-8fc6-83a4420839b7",
   "metadata": {},
   "outputs": [
    {
     "name": "stdout",
     "output_type": "stream",
     "text": [
      "Calculating Bianchi identities...\n"
     ]
    },
    {
     "data": {
      "text/html": [
       "<html>\\(\\displaystyle \\verb|Bianchi1=| 0\\)</html>"
      ],
      "text/latex": [
       "$\\displaystyle \\verb|Bianchi1=| 0$"
      ],
      "text/plain": [
       "'Bianchi1=' 0"
      ]
     },
     "metadata": {},
     "output_type": "display_data"
    },
    {
     "data": {
      "text/html": [
       "<html>\\(\\displaystyle \\verb|Bianchi2=| 0\\)</html>"
      ],
      "text/latex": [
       "$\\displaystyle \\verb|Bianchi2=| 0$"
      ],
      "text/plain": [
       "'Bianchi2=' 0"
      ]
     },
     "metadata": {},
     "output_type": "display_data"
    },
    {
     "data": {
      "text/html": [
       "<html>\\(\\displaystyle \\verb|Bianchi3=| 0\\)</html>"
      ],
      "text/latex": [
       "$\\displaystyle \\verb|Bianchi3=| 0$"
      ],
      "text/plain": [
       "'Bianchi3=' 0"
      ]
     },
     "metadata": {},
     "output_type": "display_data"
    },
    {
     "data": {
      "text/html": [
       "<html>\\(\\displaystyle \\verb|Bianchi4=| 0\\)</html>"
      ],
      "text/latex": [
       "$\\displaystyle \\verb|Bianchi4=| 0$"
      ],
      "text/plain": [
       "'Bianchi4=' 0"
      ]
     },
     "metadata": {},
     "output_type": "display_data"
    },
    {
     "data": {
      "text/html": [
       "<html>\\(\\displaystyle \\verb|Bianchi5=| 0\\)</html>"
      ],
      "text/latex": [
       "$\\displaystyle \\verb|Bianchi5=| 0$"
      ],
      "text/plain": [
       "'Bianchi5=' 0"
      ]
     },
     "metadata": {},
     "output_type": "display_data"
    },
    {
     "data": {
      "text/html": [
       "<html>\\(\\displaystyle \\verb|Bianchi6=| 0\\)</html>"
      ],
      "text/latex": [
       "$\\displaystyle \\verb|Bianchi6=| 0$"
      ],
      "text/plain": [
       "'Bianchi6=' 0"
      ]
     },
     "metadata": {},
     "output_type": "display_data"
    },
    {
     "data": {
      "text/html": [
       "<html>\\(\\displaystyle \\verb|Bianchi7=| 0\\)</html>"
      ],
      "text/latex": [
       "$\\displaystyle \\verb|Bianchi7=| 0$"
      ],
      "text/plain": [
       "'Bianchi7=' 0"
      ]
     },
     "metadata": {},
     "output_type": "display_data"
    },
    {
     "data": {
      "text/html": [
       "<html>\\(\\displaystyle \\verb|Bianchi8=| 0\\)</html>"
      ],
      "text/latex": [
       "$\\displaystyle \\verb|Bianchi8=| 0$"
      ],
      "text/plain": [
       "'Bianchi8=' 0"
      ]
     },
     "metadata": {},
     "output_type": "display_data"
    },
    {
     "data": {
      "text/html": [
       "<html>\\(\\displaystyle \\verb|Bianchi9=| 0\\)</html>"
      ],
      "text/latex": [
       "$\\displaystyle \\verb|Bianchi9=| 0$"
      ],
      "text/plain": [
       "'Bianchi9=' 0"
      ]
     },
     "metadata": {},
     "output_type": "display_data"
    },
    {
     "data": {
      "text/html": [
       "<html>\\(\\displaystyle \\verb|Bianchi10=| 0\\)</html>"
      ],
      "text/latex": [
       "$\\displaystyle \\verb|Bianchi10=| 0$"
      ],
      "text/plain": [
       "'Bianchi10=' 0"
      ]
     },
     "metadata": {},
     "output_type": "display_data"
    },
    {
     "data": {
      "text/html": [
       "<html>\\(\\displaystyle \\verb|Bianchi11=| 0\\)</html>"
      ],
      "text/latex": [
       "$\\displaystyle \\verb|Bianchi11=| 0$"
      ],
      "text/plain": [
       "'Bianchi11=' 0"
      ]
     },
     "metadata": {},
     "output_type": "display_data"
    }
   ],
   "source": [
    "# Calculate and display theBianchi identities\n",
    "\n",
    "calculate_Bianchi()\n",
    "show_Bianchi()"
   ]
  },
  {
   "cell_type": "code",
   "execution_count": 12,
   "id": "6c511420-c59c-4d1a-b912-2ed725a6b026",
   "metadata": {},
   "outputs": [
    {
     "data": {
      "text/html": [
       "<html>\\(\\displaystyle \\frac{3 \\, {\\left(Q^{4} - 2 \\, M Q^{2} r + M^{2} r^{2}\\right)}}{r^{8}}\\)</html>"
      ],
      "text/latex": [
       "$\\displaystyle \\frac{3 \\, {\\left(Q^{4} - 2 \\, M Q^{2} r + M^{2} r^{2}\\right)}}{r^{8}}$"
      ],
      "text/plain": [
       "3*(Q^4 - 2*M*Q^2*r + M^2*r^2)/r^8"
      ]
     },
     "metadata": {},
     "output_type": "display_data"
    },
    {
     "data": {
      "text/html": [
       "<html>\\(\\displaystyle -\\frac{Q^{6} - 3 \\, M Q^{4} r + 3 \\, M^{2} Q^{2} r^{2} - M^{3} r^{3}}{r^{12}}\\)</html>"
      ],
      "text/latex": [
       "$\\displaystyle -\\frac{Q^{6} - 3 \\, M Q^{4} r + 3 \\, M^{2} Q^{2} r^{2} - M^{3} r^{3}}{r^{12}}$"
      ],
      "text/plain": [
       "-(Q^6 - 3*M*Q^4*r + 3*M^2*Q^2*r^2 - M^3*r^3)/r^12"
      ]
     },
     "metadata": {},
     "output_type": "display_data"
    },
    {
     "data": {
      "text/html": [
       "<html>\\(\\displaystyle 0\\)</html>"
      ],
      "text/latex": [
       "$\\displaystyle 0$"
      ],
      "text/plain": [
       "0"
      ]
     },
     "metadata": {},
     "output_type": "display_data"
    },
    {
     "data": {
      "text/html": [
       "<html>\\(\\displaystyle 0\\)</html>"
      ],
      "text/latex": [
       "$\\displaystyle 0$"
      ],
      "text/plain": [
       "0"
      ]
     },
     "metadata": {},
     "output_type": "display_data"
    },
    {
     "data": {
      "text/html": [
       "<html>\\(\\displaystyle 0\\)</html>"
      ],
      "text/latex": [
       "$\\displaystyle 0$"
      ],
      "text/plain": [
       "0"
      ]
     },
     "metadata": {},
     "output_type": "display_data"
    }
   ],
   "source": [
    "# Let us calculate and display the Petrov invariants\n",
    "\n",
    "calculate_PetrovinvINP()\n",
    "calculate_PetrovinvJNP()\n",
    "calculate_PetrovinvKNP()\n",
    "calculate_PetrovinvLNP()\n",
    "calculate_PetrovinvNNP()\n",
    "\n",
    "show(PetrovinvINP.expr())\n",
    "show(PetrovinvJNP.expr())\n",
    "show(PetrovinvKNP.expr())\n",
    "show(PetrovinvLNP.expr())\n",
    "show(PetrovinvNNP.expr())"
   ]
  },
  {
   "cell_type": "code",
   "execution_count": 13,
   "id": "63ede214-6ed1-42e6-af6d-10f2bdced4f2",
   "metadata": {},
   "outputs": [
    {
     "name": "stdout",
     "output_type": "stream",
     "text": [
      "Calculating Petrov Type...\n",
      "Petrov Type D\n",
      "Attention: This procedure depends on the simplification of the structures. Therefore the Petrov type can be simpler.\n",
      "Calculating Petrov Type...\n",
      "Petrov Type D\n",
      "Attention: This procedure depends on the simplification of the structures. Therefore the Petrov type can be simpler.\n"
     ]
    }
   ],
   "source": [
    "# Check the Petrov type using two methods\n",
    "\n",
    "Petrov_frominvariants()\n",
    "Petrov_fromWeyl()"
   ]
  },
  {
   "cell_type": "code",
   "execution_count": 14,
   "id": "c74d4d73-1662-4c51-9577-78ed7b4d2b35",
   "metadata": {},
   "outputs": [
    {
     "name": "stdout",
     "output_type": "stream",
     "text": [
      "Calculating spin coefficients...\n",
      "Calculating Weyl components...\n",
      "Calculating Ricci components...\n",
      "Calculating NP equations...\n",
      "Calculating Bianchi identities...\n"
     ]
    },
    {
     "data": {
      "text/html": [
       "<html>\\(\\displaystyle \\verb|kappaNP=| 0\\)</html>"
      ],
      "text/latex": [
       "$\\displaystyle \\verb|kappaNP=| 0$"
      ],
      "text/plain": [
       "'kappaNP=' 0"
      ]
     },
     "metadata": {},
     "output_type": "display_data"
    },
    {
     "data": {
      "text/html": [
       "<html>\\(\\displaystyle \\verb|tauNP=| 0\\)</html>"
      ],
      "text/latex": [
       "$\\displaystyle \\verb|tauNP=| 0$"
      ],
      "text/plain": [
       "'tauNP=' 0"
      ]
     },
     "metadata": {},
     "output_type": "display_data"
    },
    {
     "data": {
      "text/html": [
       "<html>\\(\\displaystyle \\verb|sigmaNP=| 0\\)</html>"
      ],
      "text/latex": [
       "$\\displaystyle \\verb|sigmaNP=| 0$"
      ],
      "text/plain": [
       "'sigmaNP=' 0"
      ]
     },
     "metadata": {},
     "output_type": "display_data"
    },
    {
     "data": {
      "text/html": [
       "<html>\\(\\displaystyle \\verb|rhoNP=| -\\frac{1}{r}\\)</html>"
      ],
      "text/latex": [
       "$\\displaystyle \\verb|rhoNP=| -\\frac{1}{r}$"
      ],
      "text/plain": [
       "'rhoNP=' -1/r"
      ]
     },
     "metadata": {},
     "output_type": "display_data"
    },
    {
     "data": {
      "text/html": [
       "<html>\\(\\displaystyle \\verb|piNP=| 0\\)</html>"
      ],
      "text/latex": [
       "$\\displaystyle \\verb|piNP=| 0$"
      ],
      "text/plain": [
       "'piNP=' 0"
      ]
     },
     "metadata": {},
     "output_type": "display_data"
    },
    {
     "data": {
      "text/html": [
       "<html>\\(\\displaystyle \\verb|nuNP=| 0\\)</html>"
      ],
      "text/latex": [
       "$\\displaystyle \\verb|nuNP=| 0$"
      ],
      "text/plain": [
       "'nuNP=' 0"
      ]
     },
     "metadata": {},
     "output_type": "display_data"
    },
    {
     "data": {
      "text/html": [
       "<html>\\(\\displaystyle \\verb|muNP=| -\\frac{Q^{2} - 2 \\, M r + r^{2}}{2 \\, r^{3}}\\)</html>"
      ],
      "text/latex": [
       "$\\displaystyle \\verb|muNP=| -\\frac{Q^{2} - 2 \\, M r + r^{2}}{2 \\, r^{3}}$"
      ],
      "text/plain": [
       "'muNP=' -1/2*(Q^2 - 2*M*r + r^2)/r^3"
      ]
     },
     "metadata": {},
     "output_type": "display_data"
    },
    {
     "data": {
      "text/html": [
       "<html>\\(\\displaystyle \\verb|lambdaNP=| 0\\)</html>"
      ],
      "text/latex": [
       "$\\displaystyle \\verb|lambdaNP=| 0$"
      ],
      "text/plain": [
       "'lambdaNP=' 0"
      ]
     },
     "metadata": {},
     "output_type": "display_data"
    },
    {
     "data": {
      "text/html": [
       "<html>\\(\\displaystyle \\verb|epsilonNP=| 0\\)</html>"
      ],
      "text/latex": [
       "$\\displaystyle \\verb|epsilonNP=| 0$"
      ],
      "text/plain": [
       "'epsilonNP=' 0"
      ]
     },
     "metadata": {},
     "output_type": "display_data"
    },
    {
     "data": {
      "text/html": [
       "<html>\\(\\displaystyle \\verb|gammaNP=| -\\frac{Q^{2} - M r}{2 \\, r^{3}}\\)</html>"
      ],
      "text/latex": [
       "$\\displaystyle \\verb|gammaNP=| -\\frac{Q^{2} - M r}{2 \\, r^{3}}$"
      ],
      "text/plain": [
       "'gammaNP=' -1/2*(Q^2 - M*r)/r^3"
      ]
     },
     "metadata": {},
     "output_type": "display_data"
    },
    {
     "data": {
      "text/html": [
       "<html>\\(\\displaystyle \\verb|betaNP=| \\frac{\\sqrt{2} \\cos\\left({\\theta}\\right)}{4 \\, r \\sin\\left({\\theta}\\right)}\\)</html>"
      ],
      "text/latex": [
       "$\\displaystyle \\verb|betaNP=| \\frac{\\sqrt{2} \\cos\\left({\\theta}\\right)}{4 \\, r \\sin\\left({\\theta}\\right)}$"
      ],
      "text/plain": [
       "'betaNP=' 1/4*sqrt(2)*cos(th)/(r*sin(th))"
      ]
     },
     "metadata": {},
     "output_type": "display_data"
    },
    {
     "data": {
      "text/html": [
       "<html>\\(\\displaystyle \\verb|alphaNP=| -\\frac{\\sqrt{2} \\cos\\left({\\theta}\\right)}{4 \\, r \\sin\\left({\\theta}\\right)}\\)</html>"
      ],
      "text/latex": [
       "$\\displaystyle \\verb|alphaNP=| -\\frac{\\sqrt{2} \\cos\\left({\\theta}\\right)}{4 \\, r \\sin\\left({\\theta}\\right)}$"
      ],
      "text/plain": [
       "'alphaNP=' -1/4*sqrt(2)*cos(th)/(r*sin(th))"
      ]
     },
     "metadata": {},
     "output_type": "display_data"
    },
    {
     "data": {
      "text/html": [
       "<html>\\(\\displaystyle \\verb|Psi0NP=| 0\\)</html>"
      ],
      "text/latex": [
       "$\\displaystyle \\verb|Psi0NP=| 0$"
      ],
      "text/plain": [
       "'Psi0NP=' 0"
      ]
     },
     "metadata": {},
     "output_type": "display_data"
    },
    {
     "data": {
      "text/html": [
       "<html>\\(\\displaystyle \\verb|Psi1NP=| 0\\)</html>"
      ],
      "text/latex": [
       "$\\displaystyle \\verb|Psi1NP=| 0$"
      ],
      "text/plain": [
       "'Psi1NP=' 0"
      ]
     },
     "metadata": {},
     "output_type": "display_data"
    },
    {
     "data": {
      "text/html": [
       "<html>\\(\\displaystyle \\verb|Psi2NP=| \\frac{Q^{2} - M r}{r^{4}}\\)</html>"
      ],
      "text/latex": [
       "$\\displaystyle \\verb|Psi2NP=| \\frac{Q^{2} - M r}{r^{4}}$"
      ],
      "text/plain": [
       "'Psi2NP=' (Q^2 - M*r)/r^4"
      ]
     },
     "metadata": {},
     "output_type": "display_data"
    },
    {
     "data": {
      "text/html": [
       "<html>\\(\\displaystyle \\verb|Psi3NP=| 0\\)</html>"
      ],
      "text/latex": [
       "$\\displaystyle \\verb|Psi3NP=| 0$"
      ],
      "text/plain": [
       "'Psi3NP=' 0"
      ]
     },
     "metadata": {},
     "output_type": "display_data"
    },
    {
     "data": {
      "text/html": [
       "<html>\\(\\displaystyle \\verb|Psi4NP=| 0\\)</html>"
      ],
      "text/latex": [
       "$\\displaystyle \\verb|Psi4NP=| 0$"
      ],
      "text/plain": [
       "'Psi4NP=' 0"
      ]
     },
     "metadata": {},
     "output_type": "display_data"
    },
    {
     "data": {
      "text/html": [
       "<html>\\(\\displaystyle \\verb|Phi00NP=| 0\\)</html>"
      ],
      "text/latex": [
       "$\\displaystyle \\verb|Phi00NP=| 0$"
      ],
      "text/plain": [
       "'Phi00NP=' 0"
      ]
     },
     "metadata": {},
     "output_type": "display_data"
    },
    {
     "data": {
      "text/html": [
       "<html>\\(\\displaystyle \\verb|Phi01NP=| 0\\)</html>"
      ],
      "text/latex": [
       "$\\displaystyle \\verb|Phi01NP=| 0$"
      ],
      "text/plain": [
       "'Phi01NP=' 0"
      ]
     },
     "metadata": {},
     "output_type": "display_data"
    },
    {
     "data": {
      "text/html": [
       "<html>\\(\\displaystyle \\verb|Phi10NP=| 0\\)</html>"
      ],
      "text/latex": [
       "$\\displaystyle \\verb|Phi10NP=| 0$"
      ],
      "text/plain": [
       "'Phi10NP=' 0"
      ]
     },
     "metadata": {},
     "output_type": "display_data"
    },
    {
     "data": {
      "text/html": [
       "<html>\\(\\displaystyle \\verb|Phi02NP=| 0\\)</html>"
      ],
      "text/latex": [
       "$\\displaystyle \\verb|Phi02NP=| 0$"
      ],
      "text/plain": [
       "'Phi02NP=' 0"
      ]
     },
     "metadata": {},
     "output_type": "display_data"
    },
    {
     "data": {
      "text/html": [
       "<html>\\(\\displaystyle \\verb|Phi20NP=| 0\\)</html>"
      ],
      "text/latex": [
       "$\\displaystyle \\verb|Phi20NP=| 0$"
      ],
      "text/plain": [
       "'Phi20NP=' 0"
      ]
     },
     "metadata": {},
     "output_type": "display_data"
    },
    {
     "data": {
      "text/html": [
       "<html>\\(\\displaystyle \\verb|Phi11NP=| \\frac{Q^{2}}{2 \\, r^{4}}\\)</html>"
      ],
      "text/latex": [
       "$\\displaystyle \\verb|Phi11NP=| \\frac{Q^{2}}{2 \\, r^{4}}$"
      ],
      "text/plain": [
       "'Phi11NP=' 1/2*Q^2/r^4"
      ]
     },
     "metadata": {},
     "output_type": "display_data"
    },
    {
     "data": {
      "text/html": [
       "<html>\\(\\displaystyle \\verb|Phi12NP=| 0\\)</html>"
      ],
      "text/latex": [
       "$\\displaystyle \\verb|Phi12NP=| 0$"
      ],
      "text/plain": [
       "'Phi12NP=' 0"
      ]
     },
     "metadata": {},
     "output_type": "display_data"
    },
    {
     "data": {
      "text/html": [
       "<html>\\(\\displaystyle \\verb|Phi21NP=| 0\\)</html>"
      ],
      "text/latex": [
       "$\\displaystyle \\verb|Phi21NP=| 0$"
      ],
      "text/plain": [
       "'Phi21NP=' 0"
      ]
     },
     "metadata": {},
     "output_type": "display_data"
    },
    {
     "data": {
      "text/html": [
       "<html>\\(\\displaystyle \\verb|Phi22NP=| 0\\)</html>"
      ],
      "text/latex": [
       "$\\displaystyle \\verb|Phi22NP=| 0$"
      ],
      "text/plain": [
       "'Phi22NP=' 0"
      ]
     },
     "metadata": {},
     "output_type": "display_data"
    },
    {
     "data": {
      "text/html": [
       "<html>\\(\\displaystyle \\verb|LambdaNP=| 0\\)</html>"
      ],
      "text/latex": [
       "$\\displaystyle \\verb|LambdaNP=| 0$"
      ],
      "text/plain": [
       "'LambdaNP=' 0"
      ]
     },
     "metadata": {},
     "output_type": "display_data"
    },
    {
     "data": {
      "text/html": [
       "<html>\\(\\displaystyle \\verb|NPeq1=| 0\\)</html>"
      ],
      "text/latex": [
       "$\\displaystyle \\verb|NPeq1=| 0$"
      ],
      "text/plain": [
       "'NPeq1=' 0"
      ]
     },
     "metadata": {},
     "output_type": "display_data"
    },
    {
     "data": {
      "text/html": [
       "<html>\\(\\displaystyle \\verb|NPeq2=| 0\\)</html>"
      ],
      "text/latex": [
       "$\\displaystyle \\verb|NPeq2=| 0$"
      ],
      "text/plain": [
       "'NPeq2=' 0"
      ]
     },
     "metadata": {},
     "output_type": "display_data"
    },
    {
     "data": {
      "text/html": [
       "<html>\\(\\displaystyle \\verb|NPeq3=| 0\\)</html>"
      ],
      "text/latex": [
       "$\\displaystyle \\verb|NPeq3=| 0$"
      ],
      "text/plain": [
       "'NPeq3=' 0"
      ]
     },
     "metadata": {},
     "output_type": "display_data"
    },
    {
     "data": {
      "text/html": [
       "<html>\\(\\displaystyle \\verb|NPeq4=| 0\\)</html>"
      ],
      "text/latex": [
       "$\\displaystyle \\verb|NPeq4=| 0$"
      ],
      "text/plain": [
       "'NPeq4=' 0"
      ]
     },
     "metadata": {},
     "output_type": "display_data"
    },
    {
     "data": {
      "text/html": [
       "<html>\\(\\displaystyle \\verb|NPeq5=| 0\\)</html>"
      ],
      "text/latex": [
       "$\\displaystyle \\verb|NPeq5=| 0$"
      ],
      "text/plain": [
       "'NPeq5=' 0"
      ]
     },
     "metadata": {},
     "output_type": "display_data"
    },
    {
     "data": {
      "text/html": [
       "<html>\\(\\displaystyle \\verb|NPeq6=| 0\\)</html>"
      ],
      "text/latex": [
       "$\\displaystyle \\verb|NPeq6=| 0$"
      ],
      "text/plain": [
       "'NPeq6=' 0"
      ]
     },
     "metadata": {},
     "output_type": "display_data"
    },
    {
     "data": {
      "text/html": [
       "<html>\\(\\displaystyle \\verb|NPeq7=| 0\\)</html>"
      ],
      "text/latex": [
       "$\\displaystyle \\verb|NPeq7=| 0$"
      ],
      "text/plain": [
       "'NPeq7=' 0"
      ]
     },
     "metadata": {},
     "output_type": "display_data"
    },
    {
     "data": {
      "text/html": [
       "<html>\\(\\displaystyle \\verb|NPeq8=| 0\\)</html>"
      ],
      "text/latex": [
       "$\\displaystyle \\verb|NPeq8=| 0$"
      ],
      "text/plain": [
       "'NPeq8=' 0"
      ]
     },
     "metadata": {},
     "output_type": "display_data"
    },
    {
     "data": {
      "text/html": [
       "<html>\\(\\displaystyle \\verb|NPeq9=| 0\\)</html>"
      ],
      "text/latex": [
       "$\\displaystyle \\verb|NPeq9=| 0$"
      ],
      "text/plain": [
       "'NPeq9=' 0"
      ]
     },
     "metadata": {},
     "output_type": "display_data"
    },
    {
     "data": {
      "text/html": [
       "<html>\\(\\displaystyle \\verb|NPeq10=| 0\\)</html>"
      ],
      "text/latex": [
       "$\\displaystyle \\verb|NPeq10=| 0$"
      ],
      "text/plain": [
       "'NPeq10=' 0"
      ]
     },
     "metadata": {},
     "output_type": "display_data"
    },
    {
     "data": {
      "text/html": [
       "<html>\\(\\displaystyle \\verb|NPeq11=| 0\\)</html>"
      ],
      "text/latex": [
       "$\\displaystyle \\verb|NPeq11=| 0$"
      ],
      "text/plain": [
       "'NPeq11=' 0"
      ]
     },
     "metadata": {},
     "output_type": "display_data"
    },
    {
     "data": {
      "text/html": [
       "<html>\\(\\displaystyle \\verb|NPeq12=| 0\\)</html>"
      ],
      "text/latex": [
       "$\\displaystyle \\verb|NPeq12=| 0$"
      ],
      "text/plain": [
       "'NPeq12=' 0"
      ]
     },
     "metadata": {},
     "output_type": "display_data"
    },
    {
     "data": {
      "text/html": [
       "<html>\\(\\displaystyle \\verb|NPeq13=| 0\\)</html>"
      ],
      "text/latex": [
       "$\\displaystyle \\verb|NPeq13=| 0$"
      ],
      "text/plain": [
       "'NPeq13=' 0"
      ]
     },
     "metadata": {},
     "output_type": "display_data"
    },
    {
     "data": {
      "text/html": [
       "<html>\\(\\displaystyle \\verb|NPeq14=| 0\\)</html>"
      ],
      "text/latex": [
       "$\\displaystyle \\verb|NPeq14=| 0$"
      ],
      "text/plain": [
       "'NPeq14=' 0"
      ]
     },
     "metadata": {},
     "output_type": "display_data"
    },
    {
     "data": {
      "text/html": [
       "<html>\\(\\displaystyle \\verb|NPeq15=| 0\\)</html>"
      ],
      "text/latex": [
       "$\\displaystyle \\verb|NPeq15=| 0$"
      ],
      "text/plain": [
       "'NPeq15=' 0"
      ]
     },
     "metadata": {},
     "output_type": "display_data"
    },
    {
     "data": {
      "text/html": [
       "<html>\\(\\displaystyle \\verb|NPeq16=| 0\\)</html>"
      ],
      "text/latex": [
       "$\\displaystyle \\verb|NPeq16=| 0$"
      ],
      "text/plain": [
       "'NPeq16=' 0"
      ]
     },
     "metadata": {},
     "output_type": "display_data"
    },
    {
     "data": {
      "text/html": [
       "<html>\\(\\displaystyle \\verb|NPeq17=| 0\\)</html>"
      ],
      "text/latex": [
       "$\\displaystyle \\verb|NPeq17=| 0$"
      ],
      "text/plain": [
       "'NPeq17=' 0"
      ]
     },
     "metadata": {},
     "output_type": "display_data"
    },
    {
     "data": {
      "text/html": [
       "<html>\\(\\displaystyle \\verb|NPeq18=| 0\\)</html>"
      ],
      "text/latex": [
       "$\\displaystyle \\verb|NPeq18=| 0$"
      ],
      "text/plain": [
       "'NPeq18=' 0"
      ]
     },
     "metadata": {},
     "output_type": "display_data"
    },
    {
     "data": {
      "text/html": [
       "<html>\\(\\displaystyle \\verb|Bianchi1=| 0\\)</html>"
      ],
      "text/latex": [
       "$\\displaystyle \\verb|Bianchi1=| 0$"
      ],
      "text/plain": [
       "'Bianchi1=' 0"
      ]
     },
     "metadata": {},
     "output_type": "display_data"
    },
    {
     "data": {
      "text/html": [
       "<html>\\(\\displaystyle \\verb|Bianchi2=| 0\\)</html>"
      ],
      "text/latex": [
       "$\\displaystyle \\verb|Bianchi2=| 0$"
      ],
      "text/plain": [
       "'Bianchi2=' 0"
      ]
     },
     "metadata": {},
     "output_type": "display_data"
    },
    {
     "data": {
      "text/html": [
       "<html>\\(\\displaystyle \\verb|Bianchi3=| 0\\)</html>"
      ],
      "text/latex": [
       "$\\displaystyle \\verb|Bianchi3=| 0$"
      ],
      "text/plain": [
       "'Bianchi3=' 0"
      ]
     },
     "metadata": {},
     "output_type": "display_data"
    },
    {
     "data": {
      "text/html": [
       "<html>\\(\\displaystyle \\verb|Bianchi4=| 0\\)</html>"
      ],
      "text/latex": [
       "$\\displaystyle \\verb|Bianchi4=| 0$"
      ],
      "text/plain": [
       "'Bianchi4=' 0"
      ]
     },
     "metadata": {},
     "output_type": "display_data"
    },
    {
     "data": {
      "text/html": [
       "<html>\\(\\displaystyle \\verb|Bianchi5=| 0\\)</html>"
      ],
      "text/latex": [
       "$\\displaystyle \\verb|Bianchi5=| 0$"
      ],
      "text/plain": [
       "'Bianchi5=' 0"
      ]
     },
     "metadata": {},
     "output_type": "display_data"
    },
    {
     "data": {
      "text/html": [
       "<html>\\(\\displaystyle \\verb|Bianchi6=| 0\\)</html>"
      ],
      "text/latex": [
       "$\\displaystyle \\verb|Bianchi6=| 0$"
      ],
      "text/plain": [
       "'Bianchi6=' 0"
      ]
     },
     "metadata": {},
     "output_type": "display_data"
    },
    {
     "data": {
      "text/html": [
       "<html>\\(\\displaystyle \\verb|Bianchi7=| 0\\)</html>"
      ],
      "text/latex": [
       "$\\displaystyle \\verb|Bianchi7=| 0$"
      ],
      "text/plain": [
       "'Bianchi7=' 0"
      ]
     },
     "metadata": {},
     "output_type": "display_data"
    },
    {
     "data": {
      "text/html": [
       "<html>\\(\\displaystyle \\verb|Bianchi8=| 0\\)</html>"
      ],
      "text/latex": [
       "$\\displaystyle \\verb|Bianchi8=| 0$"
      ],
      "text/plain": [
       "'Bianchi8=' 0"
      ]
     },
     "metadata": {},
     "output_type": "display_data"
    },
    {
     "data": {
      "text/html": [
       "<html>\\(\\displaystyle \\verb|Bianchi9=| 0\\)</html>"
      ],
      "text/latex": [
       "$\\displaystyle \\verb|Bianchi9=| 0$"
      ],
      "text/plain": [
       "'Bianchi9=' 0"
      ]
     },
     "metadata": {},
     "output_type": "display_data"
    },
    {
     "data": {
      "text/html": [
       "<html>\\(\\displaystyle \\verb|Bianchi10=| 0\\)</html>"
      ],
      "text/latex": [
       "$\\displaystyle \\verb|Bianchi10=| 0$"
      ],
      "text/plain": [
       "'Bianchi10=' 0"
      ]
     },
     "metadata": {},
     "output_type": "display_data"
    },
    {
     "data": {
      "text/html": [
       "<html>\\(\\displaystyle \\verb|Bianchi11=| 0\\)</html>"
      ],
      "text/latex": [
       "$\\displaystyle \\verb|Bianchi11=| 0$"
      ],
      "text/plain": [
       "'Bianchi11=' 0"
      ]
     },
     "metadata": {},
     "output_type": "display_data"
    }
   ],
   "source": [
    "# calculate_allNP() command runs: \n",
    "## calculate_spincoefficients(), \n",
    "## calculate_Weyl(), \n",
    "## calculate_Ricci(), \n",
    "## calculate_NPeq(),\n",
    "## calculate_Bianchi()\n",
    "\n",
    "# show_allNP() display the results\n",
    "\n",
    "calculate_allNP()\n",
    "show_allNP()"
   ]
  },
  {
   "cell_type": "code",
   "execution_count": null,
   "id": "848e9a68-4358-45a8-99fc-3977a960d653",
   "metadata": {},
   "outputs": [],
   "source": []
  }
 ],
 "metadata": {
  "kernelspec": {
   "display_name": "SageMath 10.3",
   "language": "sage",
   "name": "sagemath"
  },
  "language_info": {
   "codemirror_mode": {
    "name": "ipython",
    "version": 3
   },
   "file_extension": ".py",
   "mimetype": "text/x-python",
   "name": "python",
   "nbconvert_exporter": "python",
   "pygments_lexer": "ipython3",
   "version": "3.10.14"
  }
 },
 "nbformat": 4,
 "nbformat_minor": 5
}
