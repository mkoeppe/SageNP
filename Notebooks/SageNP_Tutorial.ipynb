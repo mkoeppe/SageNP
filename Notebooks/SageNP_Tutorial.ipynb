{
 "cells": [
  {
   "cell_type": "markdown",
   "id": "96504677-9456-4ae4-8d95-efafeaeb53ad",
   "metadata": {},
   "source": [
    "# [SageNP](https://github.com/tbirkandan/SageNP): Newman-Penrose calculations for [SageMath](https://www.sagemath.org/). \n",
    "\n",
    "The package **SageNP** includes functions for some calculations defined in the Newman-Penrose formalism. The code is based on [SageManifolds](https://sagemanifolds.obspm.fr/).\n",
    "\n",
    "## Coded by:                                        \n",
    "\n",
    "- [Tolga Birkandan](https://web.itu.edu.tr/birkandant/) (Corr.: birkandant@itu.edu.tr)\n",
    "\n",
    "- [Onur Arman](https://www.linkedin.com/in/onur-arman-709478337/)\n",
    "\n",
    "- [Emir Baysazan](https://scholar.google.com/citations?user=kq9ia_oAAAAJ&hl=en)\n",
    "\n",
    "- [Selinay Sude Binici](https://scholar.google.com/citations?user=OjiOpogAAAAJ&hl=tr)\n",
    "\n",
    "- [Pelin Ozturk](https://www.linkedin.com/in/pelin-%C3%B6zt%C3%BCrk-3904572b2/?utm_source=share&utm_campaign=share_via&utm_content=profile&utm_medium=ios_app)\n",
    "\n",
    "- **Special thanks to [Eric Gourgoulhon](https://luth.obspm.fr/~luthier/gourgoulhon/en/)**\n",
    "\n",
    "## Reference:\n",
    "\n",
    "The [reference](https://www.cambridge.org/core/books/exact-solutions-of-einsteins-field-equations/11CF6CFCC10CC62B9B299F08C32C37A6) for all definitions and calculations:\n",
    "\n",
    "H. Stephani, D. Kramer, M. MacCallum, C. Hoenselaers, and E. Herlt, \"Exact Solutions of Einstein’s Field Equations\", 2nd ed. Cambridge: Cambridge University Press, 2003.\n",
    "\n",
    "\n",
    "# BASIC DEFINITIONS AND NOTATION:\n",
    "\n",
    "* We will use the metric signature: (- + + +)                      \n",
    "\n",
    "* For the null-tetrad vector names, the ref. book uses $(k,l,m,\\overline{m})$. However, in the code we will use $(l,n,m,\\overline{m})$ like the rest of the literature. **Therefore one should set $k \\rightarrow l, l \\rightarrow n$ in the ref. book.**\n",
    "\n",
    "- Products of the vectors are given by: $l^a n_a=-1, m^a \\overline{m}_a=1$, all others zero.  \n",
    "  \n",
    "- The metric is found using the covariant null-tetrad vectors as:\n",
    "  \n",
    "    $ds^2=g_{\\mu \\nu}dx^\\mu \\otimes dx^\\nu=- l\\otimes n-n\\otimes l + m\\otimes \\overline{m}  + \\overline{m} \\otimes m$\n",
    "\n",
    "  where\n",
    "\n",
    "    $g_{ab}=-l_a n_b-n_a l_b+ m_a \\overline{m}_b + \\overline{m}_a m_b$\n",
    "                            \n",
    "  and,\n",
    "\n",
    "    $g=\\begin{bmatrix}\n",
    "    0 & 1 & 0 & 0\\\\\n",
    "    1 & 0 & 0 & 0\\\\\n",
    "    0 & 0 & 0 & -1\\\\\n",
    "    0 & 0 & -1 & 0\\\\\n",
    "    \\end{bmatrix}$\n",
    "\n",
    "- Please check the [reference book](https://www.cambridge.org/core/books/exact-solutions-of-einsteins-field-equations/11CF6CFCC10CC62B9B299F08C32C37A6) for the details and further definitions."
   ]
  },
  {
   "cell_type": "markdown",
   "id": "315d0922-86a9-4e30-b3d6-b2e3a36ed072",
   "metadata": {},
   "source": [
    "# EXAMPLE: Schwarzschild spacetime\n",
    "\n",
    "The Schwarzschild metric is given by\n",
    "\n",
    "$ds^2=-\\frac{\\Delta}{r^2}dt^2+\\frac{r^2}{\\Delta}dr^2+r^2d\\theta^2+r^2sin^2\\theta d\\phi^2$\n",
    "\n",
    "where\n",
    "\n",
    "$\\Delta=r^2-2Mr$\n",
    "\n",
    "**Import the SageNP package:**\n",
    "\n",
    "If you have not installed it yet, run \n",
    "\n",
    "$\\verb|pip install SageNP|$ "
   ]
  },
  {
   "cell_type": "code",
   "execution_count": 1,
   "id": "9a040f13-9df6-411e-a092-86f61c105f44",
   "metadata": {},
   "outputs": [],
   "source": [
    "try:\n",
    "    from SageNP import NewmanPenrose\n",
    "except:\n",
    "    %pip install SageNP\n",
    "    from SageNP import NewmanPenrose"
   ]
  },
  {
   "cell_type": "markdown",
   "id": "b5e1a178-0684-4b1c-bdc8-8fcdbbed7cd7",
   "metadata": {},
   "source": [
    "**Define the four dimensional manifold MyManifold:**"
   ]
  },
  {
   "cell_type": "code",
   "execution_count": 2,
   "id": "67f24221-edf6-43ce-a73f-0422920f1c61",
   "metadata": {},
   "outputs": [],
   "source": [
    "MyManifold = Manifold(4 , 'MyManifold', r'\\mathcal{Man}')"
   ]
  },
  {
   "cell_type": "markdown",
   "id": "2eae029d-225f-4aa0-9b37-0d3488f2dc57",
   "metadata": {},
   "source": [
    "**Define the coordinates $(t,r,\\theta,\\phi)$:**"
   ]
  },
  {
   "cell_type": "code",
   "execution_count": 3,
   "id": "2236a1d2-0ab9-485d-8aba-b3bd9af7da6f",
   "metadata": {},
   "outputs": [],
   "source": [
    "MyCoordinates.<t,r,th,ph> = MyManifold.chart(r't r th:\\theta ph:\\phi')"
   ]
  },
  {
   "cell_type": "markdown",
   "id": "79c0037a-d58d-4229-94fc-82e252eff034",
   "metadata": {},
   "source": [
    "**Define the metric functions and variables (if needed):**\n",
    "\n",
    "We need the variable $M$ and the function $\\Delta$ for the Schwarzschild metric"
   ]
  },
  {
   "cell_type": "code",
   "execution_count": 4,
   "id": "d5356b9a-b5ab-4682-9907-f81ca8995c58",
   "metadata": {},
   "outputs": [],
   "source": [
    "var('M')\n",
    "\n",
    "# The function Delta:\n",
    "# You can either define Delta as a real function of coordinate r as\n",
    "# Delta=function('Delta',imag_part_func=0)(r)\n",
    "# and work with this general function,\n",
    "\n",
    "# or give its exact expression (let us continue with this choice):\n",
    "Delta=r^2-2*M*r"
   ]
  },
  {
   "cell_type": "markdown",
   "id": "0c9aa0bb-455c-4bbd-93a5-da2d7984e6af",
   "metadata": {},
   "source": [
    "**Enter null tetrad elements:**\n",
    "\n",
    "Covariant or contravariant null-tetrad vectors are needed. In this example, we will use covariant vectors for the Schwarzschild metric, namely,\n",
    "\n",
    "$l_{\\mu}=[1,-\\frac{r^2}{\\Delta},0,0]$\n",
    "\n",
    "$n_{\\mu}=[\\frac{\\Delta}{2r^2},\\frac{1}{2},0,0]$\n",
    "\n",
    "$m_{\\mu}=[0,0,-\\frac{r}{\\sqrt{2}},-i\\frac{r}{\\sqrt{2}}sin(\\theta)]$\n",
    "\n",
    "$\\overline{m}_{\\mu}=[0,0,-\\frac{r}{\\sqrt{2}},i\\frac{r}{\\sqrt{2}}sin(\\theta)]$\n",
    "\n",
    "*Here, the element ordering is the same as the coordinate ordering. (The first element is the t element, the second is the r element, etc.)*"
   ]
  },
  {
   "cell_type": "code",
   "execution_count": 5,
   "id": "c565b9cb-00c3-44df-b7bb-3eef7676beca",
   "metadata": {},
   "outputs": [],
   "source": [
    "lvec=[1,-(r^2)/Delta,0,0]\n",
    "  \n",
    "nvec=[Delta/(2*r^2),1/2,0,0]\n",
    "\n",
    "mvec=[0,0,(-r/sqrt(2)),(-I*r/sqrt(2))*sin(th)]\n",
    "\n",
    "mbarvec=[0,0,(-r/sqrt(2)),(I*r/sqrt(2))*sin(th)]"
   ]
  },
  {
   "cell_type": "markdown",
   "id": "2b42cc31-10c7-4c82-becf-0c794f30e9ef",
   "metadata": {},
   "source": [
    "**Define an object of the class:**\n",
    "\n",
    "*Here, our null-tetrad vectors lvec, nvec, mvec and mbarvec are covariant. Thus we will use the keyword 'covariant'.*\n",
    "  \n",
    "*(If they were contravariant, then we should use the keyword 'contravariant'.)*\n",
    "\n",
    "**Once the object is defined, the code calculates the metric and displays it on the screen. It is recommended that you check your metric.**"
   ]
  },
  {
   "cell_type": "code",
   "execution_count": 6,
   "id": "0e8f34cf-6c1f-40e0-a650-5d764f93259e",
   "metadata": {},
   "outputs": [
    {
     "data": {
      "text/html": [
       "<html>\\(\\displaystyle \\verb|The|\\verb| |\\verb|metric:|\\)</html>"
      ],
      "text/latex": [
       "$\\displaystyle \\verb|The|\\verb| |\\verb|metric:|$"
      ],
      "text/plain": [
       "'The metric:'"
      ]
     },
     "metadata": {},
     "output_type": "display_data"
    },
    {
     "data": {
      "text/html": [
       "<html>\\(\\displaystyle g = \\left( \\frac{2 \\, M - r}{r} \\right) \\mathrm{d} t\\otimes \\mathrm{d} t + \\left( -\\frac{r}{2 \\, M - r} \\right) \\mathrm{d} r\\otimes \\mathrm{d} r + r^{2} \\mathrm{d} {\\theta}\\otimes \\mathrm{d} {\\theta} + r^{2} \\sin\\left({\\theta}\\right)^{2} \\mathrm{d} {\\phi}\\otimes \\mathrm{d} {\\phi}\\)</html>"
      ],
      "text/latex": [
       "$\\displaystyle g = \\left( \\frac{2 \\, M - r}{r} \\right) \\mathrm{d} t\\otimes \\mathrm{d} t + \\left( -\\frac{r}{2 \\, M - r} \\right) \\mathrm{d} r\\otimes \\mathrm{d} r + r^{2} \\mathrm{d} {\\theta}\\otimes \\mathrm{d} {\\theta} + r^{2} \\sin\\left({\\theta}\\right)^{2} \\mathrm{d} {\\phi}\\otimes \\mathrm{d} {\\phi}$"
      ],
      "text/plain": [
       "g = (2*M - r)/r dt⊗dt - r/(2*M - r) dr⊗dr + r^2 dth⊗dth + r^2*sin(th)^2 dph⊗dph"
      ]
     },
     "metadata": {},
     "output_type": "display_data"
    }
   ],
   "source": [
    "schw=NewmanPenrose(MyManifold,MyCoordinates,lvec,nvec,mvec,mbarvec,'covariant')"
   ]
  },
  {
   "cell_type": "markdown",
   "id": "5d19c009-8ad3-4439-98e5-c5c3ae658040",
   "metadata": {},
   "source": [
    "Let us **test the null-tetrad with the product rules** ($l^a n_a=-1, m^a \\overline{m}_a=1$, all others zero.)"
   ]
  },
  {
   "cell_type": "code",
   "execution_count": 7,
   "id": "a3103213-2467-415c-b4b4-2215ccbcb1bb",
   "metadata": {},
   "outputs": [
    {
     "name": "stdout",
     "output_type": "stream",
     "text": [
      "Testing null tetrad...\n",
      "PASSED\n"
     ]
    }
   ],
   "source": [
    "schw.test_nulltetrad()"
   ]
  },
  {
   "cell_type": "markdown",
   "id": "9bdfe204-899a-4ff9-929d-b4325ed79327",
   "metadata": {},
   "source": [
    "Calculate and display the **spin coefficients** as given in (Page 75-76, Eq.(7.2)):\n",
    "\n",
    "(**NOTE**: All page and equation numbers belong to the reference book.)"
   ]
  },
  {
   "cell_type": "code",
   "execution_count": 8,
   "id": "e3078b5e-a8bf-40e1-ad8d-c3aec45cbdb6",
   "metadata": {},
   "outputs": [
    {
     "name": "stdout",
     "output_type": "stream",
     "text": [
      "Calculating spin coefficients...\n"
     ]
    },
    {
     "data": {
      "text/html": [
       "<html>\\(\\displaystyle \\verb|kappaNP=| 0\\)</html>"
      ],
      "text/latex": [
       "$\\displaystyle \\verb|kappaNP=| 0$"
      ],
      "text/plain": [
       "'kappaNP=' 0"
      ]
     },
     "metadata": {},
     "output_type": "display_data"
    },
    {
     "data": {
      "text/html": [
       "<html>\\(\\displaystyle \\verb|tauNP=| 0\\)</html>"
      ],
      "text/latex": [
       "$\\displaystyle \\verb|tauNP=| 0$"
      ],
      "text/plain": [
       "'tauNP=' 0"
      ]
     },
     "metadata": {},
     "output_type": "display_data"
    },
    {
     "data": {
      "text/html": [
       "<html>\\(\\displaystyle \\verb|sigmaNP=| 0\\)</html>"
      ],
      "text/latex": [
       "$\\displaystyle \\verb|sigmaNP=| 0$"
      ],
      "text/plain": [
       "'sigmaNP=' 0"
      ]
     },
     "metadata": {},
     "output_type": "display_data"
    },
    {
     "data": {
      "text/html": [
       "<html>\\(\\displaystyle \\verb|rhoNP=| \\frac{1}{r}\\)</html>"
      ],
      "text/latex": [
       "$\\displaystyle \\verb|rhoNP=| \\frac{1}{r}$"
      ],
      "text/plain": [
       "'rhoNP=' 1/r"
      ]
     },
     "metadata": {},
     "output_type": "display_data"
    },
    {
     "data": {
      "text/html": [
       "<html>\\(\\displaystyle \\verb|piNP=| 0\\)</html>"
      ],
      "text/latex": [
       "$\\displaystyle \\verb|piNP=| 0$"
      ],
      "text/plain": [
       "'piNP=' 0"
      ]
     },
     "metadata": {},
     "output_type": "display_data"
    },
    {
     "data": {
      "text/html": [
       "<html>\\(\\displaystyle \\verb|nuNP=| 0\\)</html>"
      ],
      "text/latex": [
       "$\\displaystyle \\verb|nuNP=| 0$"
      ],
      "text/plain": [
       "'nuNP=' 0"
      ]
     },
     "metadata": {},
     "output_type": "display_data"
    },
    {
     "data": {
      "text/html": [
       "<html>\\(\\displaystyle \\verb|muNP=| -\\frac{2 \\, M - r}{2 \\, r^{2}}\\)</html>"
      ],
      "text/latex": [
       "$\\displaystyle \\verb|muNP=| -\\frac{2 \\, M - r}{2 \\, r^{2}}$"
      ],
      "text/plain": [
       "'muNP=' -1/2*(2*M - r)/r^2"
      ]
     },
     "metadata": {},
     "output_type": "display_data"
    },
    {
     "data": {
      "text/html": [
       "<html>\\(\\displaystyle \\verb|lambdaNP=| 0\\)</html>"
      ],
      "text/latex": [
       "$\\displaystyle \\verb|lambdaNP=| 0$"
      ],
      "text/plain": [
       "'lambdaNP=' 0"
      ]
     },
     "metadata": {},
     "output_type": "display_data"
    },
    {
     "data": {
      "text/html": [
       "<html>\\(\\displaystyle \\verb|epsilonNP=| 0\\)</html>"
      ],
      "text/latex": [
       "$\\displaystyle \\verb|epsilonNP=| 0$"
      ],
      "text/plain": [
       "'epsilonNP=' 0"
      ]
     },
     "metadata": {},
     "output_type": "display_data"
    },
    {
     "data": {
      "text/html": [
       "<html>\\(\\displaystyle \\verb|gammaNP=| -\\frac{M}{2 \\, r^{2}}\\)</html>"
      ],
      "text/latex": [
       "$\\displaystyle \\verb|gammaNP=| -\\frac{M}{2 \\, r^{2}}$"
      ],
      "text/plain": [
       "'gammaNP=' -1/2*M/r^2"
      ]
     },
     "metadata": {},
     "output_type": "display_data"
    },
    {
     "data": {
      "text/html": [
       "<html>\\(\\displaystyle \\verb|betaNP=| -\\frac{\\sqrt{2} \\cos\\left({\\theta}\\right)}{4 \\, r \\sin\\left({\\theta}\\right)}\\)</html>"
      ],
      "text/latex": [
       "$\\displaystyle \\verb|betaNP=| -\\frac{\\sqrt{2} \\cos\\left({\\theta}\\right)}{4 \\, r \\sin\\left({\\theta}\\right)}$"
      ],
      "text/plain": [
       "'betaNP=' -1/4*sqrt(2)*cos(th)/(r*sin(th))"
      ]
     },
     "metadata": {},
     "output_type": "display_data"
    },
    {
     "data": {
      "text/html": [
       "<html>\\(\\displaystyle \\verb|alphaNP=| \\frac{\\sqrt{2} \\cos\\left({\\theta}\\right)}{4 \\, r \\sin\\left({\\theta}\\right)}\\)</html>"
      ],
      "text/latex": [
       "$\\displaystyle \\verb|alphaNP=| \\frac{\\sqrt{2} \\cos\\left({\\theta}\\right)}{4 \\, r \\sin\\left({\\theta}\\right)}$"
      ],
      "text/plain": [
       "'alphaNP=' 1/4*sqrt(2)*cos(th)/(r*sin(th))"
      ]
     },
     "metadata": {},
     "output_type": "display_data"
    }
   ],
   "source": [
    "schw.calculate_spincoefficients()\n",
    "schw.show_spincoefficients()"
   ]
  },
  {
   "cell_type": "markdown",
   "id": "56a7537e-cd68-4977-b548-88e766a93a50",
   "metadata": {},
   "source": [
    "All spin coefficients are available under their names: **kappaNP, kappabarNP, tauNP, taubarNP, sigmaNP, sigmabarNP, rhoNP, rhobarNP, piNP, pibarNP, nuNP, nubarNP, muNP, mubarNP, lambdaNP, lambdabarNP, epsilonNP, epsilonbarNP, gammaNP, gammabarNP, betaNP, betabarNP, alphaNP, alphabarNP**\n",
    "\n",
    "Display a **single** spin coefficient:"
   ]
  },
  {
   "cell_type": "code",
   "execution_count": 9,
   "id": "38ffab32-3cb3-4508-b217-0648c5ebfe86",
   "metadata": {},
   "outputs": [
    {
     "data": {
      "text/html": [
       "<html>\\(\\displaystyle -\\frac{M}{2 \\, r^{2}}\\)</html>"
      ],
      "text/latex": [
       "$\\displaystyle -\\frac{M}{2 \\, r^{2}}$"
      ],
      "text/plain": [
       "-1/2*M/r^2"
      ]
     },
     "metadata": {},
     "output_type": "display_data"
    }
   ],
   "source": [
    "show(schw.gammaNP.expr())"
   ]
  },
  {
   "cell_type": "markdown",
   "id": "53af87d3-4e36-4d28-9e85-354cd2911421",
   "metadata": {},
   "source": [
    "Calculate and display the **Weyl tensor components** as given in (Page 38, Eq.(3.59)):"
   ]
  },
  {
   "cell_type": "code",
   "execution_count": 10,
   "id": "f00650a9-0f85-48ef-ad72-0405b1ea78ad",
   "metadata": {},
   "outputs": [
    {
     "name": "stdout",
     "output_type": "stream",
     "text": [
      "Calculating Weyl components...\n"
     ]
    },
    {
     "data": {
      "text/html": [
       "<html>\\(\\displaystyle \\verb|Psi0NP=| 0\\)</html>"
      ],
      "text/latex": [
       "$\\displaystyle \\verb|Psi0NP=| 0$"
      ],
      "text/plain": [
       "'Psi0NP=' 0"
      ]
     },
     "metadata": {},
     "output_type": "display_data"
    },
    {
     "data": {
      "text/html": [
       "<html>\\(\\displaystyle \\verb|Psi1NP=| 0\\)</html>"
      ],
      "text/latex": [
       "$\\displaystyle \\verb|Psi1NP=| 0$"
      ],
      "text/plain": [
       "'Psi1NP=' 0"
      ]
     },
     "metadata": {},
     "output_type": "display_data"
    },
    {
     "data": {
      "text/html": [
       "<html>\\(\\displaystyle \\verb|Psi2NP=| -\\frac{M}{r^{3}}\\)</html>"
      ],
      "text/latex": [
       "$\\displaystyle \\verb|Psi2NP=| -\\frac{M}{r^{3}}$"
      ],
      "text/plain": [
       "'Psi2NP=' -M/r^3"
      ]
     },
     "metadata": {},
     "output_type": "display_data"
    },
    {
     "data": {
      "text/html": [
       "<html>\\(\\displaystyle \\verb|Psi3NP=| 0\\)</html>"
      ],
      "text/latex": [
       "$\\displaystyle \\verb|Psi3NP=| 0$"
      ],
      "text/plain": [
       "'Psi3NP=' 0"
      ]
     },
     "metadata": {},
     "output_type": "display_data"
    },
    {
     "data": {
      "text/html": [
       "<html>\\(\\displaystyle \\verb|Psi4NP=| 0\\)</html>"
      ],
      "text/latex": [
       "$\\displaystyle \\verb|Psi4NP=| 0$"
      ],
      "text/plain": [
       "'Psi4NP=' 0"
      ]
     },
     "metadata": {},
     "output_type": "display_data"
    }
   ],
   "source": [
    "schw.calculate_Weyl()\n",
    "schw.show_Weyl()"
   ]
  },
  {
   "cell_type": "markdown",
   "id": "acba1fb7-0214-4cb1-95f2-2f4b79e44576",
   "metadata": {},
   "source": [
    "All Weyl tensor components are available under their names: **Psi0NP, Psi1NP, Psi2NP, Psi3NP, Psi4NP**\n",
    "\n",
    "Display a **single** Weyl tensor component:"
   ]
  },
  {
   "cell_type": "code",
   "execution_count": 11,
   "id": "714308f1-a6fd-44d2-8883-b0a5290c9c94",
   "metadata": {},
   "outputs": [
    {
     "data": {
      "text/html": [
       "<html>\\(\\displaystyle -\\frac{M}{r^{3}}\\)</html>"
      ],
      "text/latex": [
       "$\\displaystyle -\\frac{M}{r^{3}}$"
      ],
      "text/plain": [
       "-M/r^3"
      ]
     },
     "metadata": {},
     "output_type": "display_data"
    }
   ],
   "source": [
    "show(schw.Psi2NP.expr())"
   ]
  },
  {
   "cell_type": "markdown",
   "id": "b9d6e207-d446-4a5f-90b4-e106a97aed36",
   "metadata": {},
   "source": [
    "Calculate and display the **Ricci tensor components** as given in (Page 78, Eq.(7.10-7.15)):"
   ]
  },
  {
   "cell_type": "code",
   "execution_count": 12,
   "id": "c38941c9-c5eb-4bc9-a107-bf9f79bab773",
   "metadata": {},
   "outputs": [
    {
     "name": "stdout",
     "output_type": "stream",
     "text": [
      "Calculating Ricci components...\n"
     ]
    },
    {
     "data": {
      "text/html": [
       "<html>\\(\\displaystyle \\verb|Phi00NP=| 0\\)</html>"
      ],
      "text/latex": [
       "$\\displaystyle \\verb|Phi00NP=| 0$"
      ],
      "text/plain": [
       "'Phi00NP=' 0"
      ]
     },
     "metadata": {},
     "output_type": "display_data"
    },
    {
     "data": {
      "text/html": [
       "<html>\\(\\displaystyle \\verb|Phi01NP=| 0\\)</html>"
      ],
      "text/latex": [
       "$\\displaystyle \\verb|Phi01NP=| 0$"
      ],
      "text/plain": [
       "'Phi01NP=' 0"
      ]
     },
     "metadata": {},
     "output_type": "display_data"
    },
    {
     "data": {
      "text/html": [
       "<html>\\(\\displaystyle \\verb|Phi10NP=| 0\\)</html>"
      ],
      "text/latex": [
       "$\\displaystyle \\verb|Phi10NP=| 0$"
      ],
      "text/plain": [
       "'Phi10NP=' 0"
      ]
     },
     "metadata": {},
     "output_type": "display_data"
    },
    {
     "data": {
      "text/html": [
       "<html>\\(\\displaystyle \\verb|Phi02NP=| 0\\)</html>"
      ],
      "text/latex": [
       "$\\displaystyle \\verb|Phi02NP=| 0$"
      ],
      "text/plain": [
       "'Phi02NP=' 0"
      ]
     },
     "metadata": {},
     "output_type": "display_data"
    },
    {
     "data": {
      "text/html": [
       "<html>\\(\\displaystyle \\verb|Phi20NP=| 0\\)</html>"
      ],
      "text/latex": [
       "$\\displaystyle \\verb|Phi20NP=| 0$"
      ],
      "text/plain": [
       "'Phi20NP=' 0"
      ]
     },
     "metadata": {},
     "output_type": "display_data"
    },
    {
     "data": {
      "text/html": [
       "<html>\\(\\displaystyle \\verb|Phi11NP=| 0\\)</html>"
      ],
      "text/latex": [
       "$\\displaystyle \\verb|Phi11NP=| 0$"
      ],
      "text/plain": [
       "'Phi11NP=' 0"
      ]
     },
     "metadata": {},
     "output_type": "display_data"
    },
    {
     "data": {
      "text/html": [
       "<html>\\(\\displaystyle \\verb|Phi12NP=| 0\\)</html>"
      ],
      "text/latex": [
       "$\\displaystyle \\verb|Phi12NP=| 0$"
      ],
      "text/plain": [
       "'Phi12NP=' 0"
      ]
     },
     "metadata": {},
     "output_type": "display_data"
    },
    {
     "data": {
      "text/html": [
       "<html>\\(\\displaystyle \\verb|Phi21NP=| 0\\)</html>"
      ],
      "text/latex": [
       "$\\displaystyle \\verb|Phi21NP=| 0$"
      ],
      "text/plain": [
       "'Phi21NP=' 0"
      ]
     },
     "metadata": {},
     "output_type": "display_data"
    },
    {
     "data": {
      "text/html": [
       "<html>\\(\\displaystyle \\verb|Phi22NP=| 0\\)</html>"
      ],
      "text/latex": [
       "$\\displaystyle \\verb|Phi22NP=| 0$"
      ],
      "text/plain": [
       "'Phi22NP=' 0"
      ]
     },
     "metadata": {},
     "output_type": "display_data"
    },
    {
     "data": {
      "text/html": [
       "<html>\\(\\displaystyle \\verb|LambdaNP=| 0\\)</html>"
      ],
      "text/latex": [
       "$\\displaystyle \\verb|LambdaNP=| 0$"
      ],
      "text/plain": [
       "'LambdaNP=' 0"
      ]
     },
     "metadata": {},
     "output_type": "display_data"
    }
   ],
   "source": [
    "schw.calculate_Ricci()\n",
    "schw.show_Ricci()"
   ]
  },
  {
   "cell_type": "markdown",
   "id": "552a89be-0679-438a-998b-1cdb27e03a44",
   "metadata": {},
   "source": [
    "All Ricci tensor components are available under their names:**Phi00NP, Phi01NP, Phi10NP, Phi02NP, Phi20NP, Phi11NP, Phi12NP, Phi21NP, Phi22NP, LambdaNP**\n",
    "\n",
    "Display a **single** Ricci tensor component:"
   ]
  },
  {
   "cell_type": "code",
   "execution_count": 13,
   "id": "09ecf0b0-22de-49cd-9372-9451734925b0",
   "metadata": {},
   "outputs": [
    {
     "data": {
      "text/html": [
       "<html>\\(\\displaystyle 0\\)</html>"
      ],
      "text/latex": [
       "$\\displaystyle 0$"
      ],
      "text/plain": [
       "0"
      ]
     },
     "metadata": {},
     "output_type": "display_data"
    }
   ],
   "source": [
    "show(schw.Phi00NP.expr())"
   ]
  },
  {
   "cell_type": "markdown",
   "id": "75169248-c0b4-4550-a09f-00d03f870cd3",
   "metadata": {},
   "source": [
    "Calculate and display the **Newman-Penrose equations** as given in (Page 79, Eq.(7.21)):\n",
    "\n",
    "*All Newman-Penrose equations are defined as 0 = -(left hand side)+(right hand side) of the equations.*"
   ]
  },
  {
   "cell_type": "code",
   "execution_count": 14,
   "id": "1685e4b4-9e00-4aee-9df4-18ca1e7e68ae",
   "metadata": {},
   "outputs": [
    {
     "name": "stdout",
     "output_type": "stream",
     "text": [
      "Calculating NP equations...\n"
     ]
    },
    {
     "data": {
      "text/html": [
       "<html>\\(\\displaystyle \\verb|NPeq1=| 0\\)</html>"
      ],
      "text/latex": [
       "$\\displaystyle \\verb|NPeq1=| 0$"
      ],
      "text/plain": [
       "'NPeq1=' 0"
      ]
     },
     "metadata": {},
     "output_type": "display_data"
    },
    {
     "data": {
      "text/html": [
       "<html>\\(\\displaystyle \\verb|NPeq2=| 0\\)</html>"
      ],
      "text/latex": [
       "$\\displaystyle \\verb|NPeq2=| 0$"
      ],
      "text/plain": [
       "'NPeq2=' 0"
      ]
     },
     "metadata": {},
     "output_type": "display_data"
    },
    {
     "data": {
      "text/html": [
       "<html>\\(\\displaystyle \\verb|NPeq3=| 0\\)</html>"
      ],
      "text/latex": [
       "$\\displaystyle \\verb|NPeq3=| 0$"
      ],
      "text/plain": [
       "'NPeq3=' 0"
      ]
     },
     "metadata": {},
     "output_type": "display_data"
    },
    {
     "data": {
      "text/html": [
       "<html>\\(\\displaystyle \\verb|NPeq4=| 0\\)</html>"
      ],
      "text/latex": [
       "$\\displaystyle \\verb|NPeq4=| 0$"
      ],
      "text/plain": [
       "'NPeq4=' 0"
      ]
     },
     "metadata": {},
     "output_type": "display_data"
    },
    {
     "data": {
      "text/html": [
       "<html>\\(\\displaystyle \\verb|NPeq5=| 0\\)</html>"
      ],
      "text/latex": [
       "$\\displaystyle \\verb|NPeq5=| 0$"
      ],
      "text/plain": [
       "'NPeq5=' 0"
      ]
     },
     "metadata": {},
     "output_type": "display_data"
    },
    {
     "data": {
      "text/html": [
       "<html>\\(\\displaystyle \\verb|NPeq6=| 0\\)</html>"
      ],
      "text/latex": [
       "$\\displaystyle \\verb|NPeq6=| 0$"
      ],
      "text/plain": [
       "'NPeq6=' 0"
      ]
     },
     "metadata": {},
     "output_type": "display_data"
    },
    {
     "data": {
      "text/html": [
       "<html>\\(\\displaystyle \\verb|NPeq7=| 0\\)</html>"
      ],
      "text/latex": [
       "$\\displaystyle \\verb|NPeq7=| 0$"
      ],
      "text/plain": [
       "'NPeq7=' 0"
      ]
     },
     "metadata": {},
     "output_type": "display_data"
    },
    {
     "data": {
      "text/html": [
       "<html>\\(\\displaystyle \\verb|NPeq8=| 0\\)</html>"
      ],
      "text/latex": [
       "$\\displaystyle \\verb|NPeq8=| 0$"
      ],
      "text/plain": [
       "'NPeq8=' 0"
      ]
     },
     "metadata": {},
     "output_type": "display_data"
    },
    {
     "data": {
      "text/html": [
       "<html>\\(\\displaystyle \\verb|NPeq9=| 0\\)</html>"
      ],
      "text/latex": [
       "$\\displaystyle \\verb|NPeq9=| 0$"
      ],
      "text/plain": [
       "'NPeq9=' 0"
      ]
     },
     "metadata": {},
     "output_type": "display_data"
    },
    {
     "data": {
      "text/html": [
       "<html>\\(\\displaystyle \\verb|NPeq10=| 0\\)</html>"
      ],
      "text/latex": [
       "$\\displaystyle \\verb|NPeq10=| 0$"
      ],
      "text/plain": [
       "'NPeq10=' 0"
      ]
     },
     "metadata": {},
     "output_type": "display_data"
    },
    {
     "data": {
      "text/html": [
       "<html>\\(\\displaystyle \\verb|NPeq11=| 0\\)</html>"
      ],
      "text/latex": [
       "$\\displaystyle \\verb|NPeq11=| 0$"
      ],
      "text/plain": [
       "'NPeq11=' 0"
      ]
     },
     "metadata": {},
     "output_type": "display_data"
    },
    {
     "data": {
      "text/html": [
       "<html>\\(\\displaystyle \\verb|NPeq12=| 0\\)</html>"
      ],
      "text/latex": [
       "$\\displaystyle \\verb|NPeq12=| 0$"
      ],
      "text/plain": [
       "'NPeq12=' 0"
      ]
     },
     "metadata": {},
     "output_type": "display_data"
    },
    {
     "data": {
      "text/html": [
       "<html>\\(\\displaystyle \\verb|NPeq13=| 0\\)</html>"
      ],
      "text/latex": [
       "$\\displaystyle \\verb|NPeq13=| 0$"
      ],
      "text/plain": [
       "'NPeq13=' 0"
      ]
     },
     "metadata": {},
     "output_type": "display_data"
    },
    {
     "data": {
      "text/html": [
       "<html>\\(\\displaystyle \\verb|NPeq14=| 0\\)</html>"
      ],
      "text/latex": [
       "$\\displaystyle \\verb|NPeq14=| 0$"
      ],
      "text/plain": [
       "'NPeq14=' 0"
      ]
     },
     "metadata": {},
     "output_type": "display_data"
    },
    {
     "data": {
      "text/html": [
       "<html>\\(\\displaystyle \\verb|NPeq15=| 0\\)</html>"
      ],
      "text/latex": [
       "$\\displaystyle \\verb|NPeq15=| 0$"
      ],
      "text/plain": [
       "'NPeq15=' 0"
      ]
     },
     "metadata": {},
     "output_type": "display_data"
    },
    {
     "data": {
      "text/html": [
       "<html>\\(\\displaystyle \\verb|NPeq16=| 0\\)</html>"
      ],
      "text/latex": [
       "$\\displaystyle \\verb|NPeq16=| 0$"
      ],
      "text/plain": [
       "'NPeq16=' 0"
      ]
     },
     "metadata": {},
     "output_type": "display_data"
    },
    {
     "data": {
      "text/html": [
       "<html>\\(\\displaystyle \\verb|NPeq17=| 0\\)</html>"
      ],
      "text/latex": [
       "$\\displaystyle \\verb|NPeq17=| 0$"
      ],
      "text/plain": [
       "'NPeq17=' 0"
      ]
     },
     "metadata": {},
     "output_type": "display_data"
    },
    {
     "data": {
      "text/html": [
       "<html>\\(\\displaystyle \\verb|NPeq18=| 0\\)</html>"
      ],
      "text/latex": [
       "$\\displaystyle \\verb|NPeq18=| 0$"
      ],
      "text/plain": [
       "'NPeq18=' 0"
      ]
     },
     "metadata": {},
     "output_type": "display_data"
    }
   ],
   "source": [
    "schw.calculate_NPeq()\n",
    "schw.show_NPeq()"
   ]
  },
  {
   "cell_type": "markdown",
   "id": "740275c7-681f-4cf3-9def-b331eae30cdc",
   "metadata": {},
   "source": [
    "All Newman-Penrose equations are available under their names *in the order they are given in the reference*: **NPeq1, NPeq2, NPeq3, NPeq4, NPeq5, NPeq6, NPeq7, NPeq8, NPeq9, NPeq10, NPeq11, NPeq12, NPeq13, NPeq14, NPeq15, NPeq16, NPeq17, NPeq18**\n",
    "\n",
    "Display a **single** Newman-Penrose equation:"
   ]
  },
  {
   "cell_type": "code",
   "execution_count": 15,
   "id": "2c971ef9-440e-4e42-8dfc-2bd7761f6691",
   "metadata": {},
   "outputs": [
    {
     "data": {
      "text/html": [
       "<html>\\(\\displaystyle 0\\)</html>"
      ],
      "text/latex": [
       "$\\displaystyle 0$"
      ],
      "text/plain": [
       "0"
      ]
     },
     "metadata": {},
     "output_type": "display_data"
    }
   ],
   "source": [
    "show(schw.NPeq8.expr())"
   ]
  },
  {
   "cell_type": "markdown",
   "id": "9412af0f-50c0-46df-9b60-8dbfdc123c50",
   "metadata": {},
   "source": [
    "Calculate and display the **Bianchi identities** as given in (Page 81, Eq.(7.32)):\n",
    "\n",
    "*All Bianchi identities are defined as 0 = -(left hand side)+(right hand side) of the equations.*"
   ]
  },
  {
   "cell_type": "code",
   "execution_count": 16,
   "id": "8f05e470-9a8b-470e-8f05-7929011ae743",
   "metadata": {},
   "outputs": [
    {
     "name": "stdout",
     "output_type": "stream",
     "text": [
      "Calculating Bianchi identities...\n"
     ]
    },
    {
     "data": {
      "text/html": [
       "<html>\\(\\displaystyle \\verb|BI1=| 0\\)</html>"
      ],
      "text/latex": [
       "$\\displaystyle \\verb|BI1=| 0$"
      ],
      "text/plain": [
       "'BI1=' 0"
      ]
     },
     "metadata": {},
     "output_type": "display_data"
    },
    {
     "data": {
      "text/html": [
       "<html>\\(\\displaystyle \\verb|BI2=| 0\\)</html>"
      ],
      "text/latex": [
       "$\\displaystyle \\verb|BI2=| 0$"
      ],
      "text/plain": [
       "'BI2=' 0"
      ]
     },
     "metadata": {},
     "output_type": "display_data"
    },
    {
     "data": {
      "text/html": [
       "<html>\\(\\displaystyle \\verb|BI3=| 0\\)</html>"
      ],
      "text/latex": [
       "$\\displaystyle \\verb|BI3=| 0$"
      ],
      "text/plain": [
       "'BI3=' 0"
      ]
     },
     "metadata": {},
     "output_type": "display_data"
    },
    {
     "data": {
      "text/html": [
       "<html>\\(\\displaystyle \\verb|BI4=| 0\\)</html>"
      ],
      "text/latex": [
       "$\\displaystyle \\verb|BI4=| 0$"
      ],
      "text/plain": [
       "'BI4=' 0"
      ]
     },
     "metadata": {},
     "output_type": "display_data"
    },
    {
     "data": {
      "text/html": [
       "<html>\\(\\displaystyle \\verb|BI5=| 0\\)</html>"
      ],
      "text/latex": [
       "$\\displaystyle \\verb|BI5=| 0$"
      ],
      "text/plain": [
       "'BI5=' 0"
      ]
     },
     "metadata": {},
     "output_type": "display_data"
    },
    {
     "data": {
      "text/html": [
       "<html>\\(\\displaystyle \\verb|BI6=| 0\\)</html>"
      ],
      "text/latex": [
       "$\\displaystyle \\verb|BI6=| 0$"
      ],
      "text/plain": [
       "'BI6=' 0"
      ]
     },
     "metadata": {},
     "output_type": "display_data"
    },
    {
     "data": {
      "text/html": [
       "<html>\\(\\displaystyle \\verb|BI7=| 0\\)</html>"
      ],
      "text/latex": [
       "$\\displaystyle \\verb|BI7=| 0$"
      ],
      "text/plain": [
       "'BI7=' 0"
      ]
     },
     "metadata": {},
     "output_type": "display_data"
    },
    {
     "data": {
      "text/html": [
       "<html>\\(\\displaystyle \\verb|BI8=| 0\\)</html>"
      ],
      "text/latex": [
       "$\\displaystyle \\verb|BI8=| 0$"
      ],
      "text/plain": [
       "'BI8=' 0"
      ]
     },
     "metadata": {},
     "output_type": "display_data"
    },
    {
     "data": {
      "text/html": [
       "<html>\\(\\displaystyle \\verb|BI9=| 0\\)</html>"
      ],
      "text/latex": [
       "$\\displaystyle \\verb|BI9=| 0$"
      ],
      "text/plain": [
       "'BI9=' 0"
      ]
     },
     "metadata": {},
     "output_type": "display_data"
    },
    {
     "data": {
      "text/html": [
       "<html>\\(\\displaystyle \\verb|BI10=| 0\\)</html>"
      ],
      "text/latex": [
       "$\\displaystyle \\verb|BI10=| 0$"
      ],
      "text/plain": [
       "'BI10=' 0"
      ]
     },
     "metadata": {},
     "output_type": "display_data"
    },
    {
     "data": {
      "text/html": [
       "<html>\\(\\displaystyle \\verb|BI11=| 0\\)</html>"
      ],
      "text/latex": [
       "$\\displaystyle \\verb|BI11=| 0$"
      ],
      "text/plain": [
       "'BI11=' 0"
      ]
     },
     "metadata": {},
     "output_type": "display_data"
    }
   ],
   "source": [
    "schw.calculate_Bianchi()\n",
    "schw.show_Bianchi()"
   ]
  },
  {
   "cell_type": "markdown",
   "id": "de569be5-4036-4a24-a43c-ad02c1d2c8fe",
   "metadata": {},
   "source": [
    "All Bianchi identities are available under their names *in the order they are given in the reference*: **BI1, BI2, BI3, BI4, BI5, BI6, BI7, BI8, BI9, BI10, BI11**\n",
    "\n",
    "Display a **single** Bianchi identity:"
   ]
  },
  {
   "cell_type": "code",
   "execution_count": 17,
   "id": "41857297-40f4-4823-a941-d84a1c10da0b",
   "metadata": {},
   "outputs": [
    {
     "data": {
      "text/html": [
       "<html>\\(\\displaystyle 0\\)</html>"
      ],
      "text/latex": [
       "$\\displaystyle 0$"
      ],
      "text/plain": [
       "0"
      ]
     },
     "metadata": {},
     "output_type": "display_data"
    }
   ],
   "source": [
    "show(schw.BI7.expr())"
   ]
  },
  {
   "cell_type": "markdown",
   "id": "bd1b61f5-fc65-498e-88bf-c431f5d5464a",
   "metadata": {},
   "source": [
    "Find the **Petrov type** using the **Petrov invariants**:\n",
    "\n",
    "*Calculates the Petrov type using the invariants I, J, K, L, N.*"
   ]
  },
  {
   "cell_type": "code",
   "execution_count": 18,
   "id": "ccc54d34-af22-4659-9d5e-b7034d8fc9f8",
   "metadata": {},
   "outputs": [
    {
     "name": "stdout",
     "output_type": "stream",
     "text": [
      "Calculating Petrov Type...\n",
      "Petrov Type D\n",
      "Attention: This procedure depends on the simplification of the structures. Therefore the Petrov type can be simpler.\n"
     ]
    }
   ],
   "source": [
    "schw.Petrov_frominvariants()"
   ]
  },
  {
   "cell_type": "markdown",
   "id": "460bc321-8b7c-459f-8e44-c336f99c8a5c",
   "metadata": {},
   "source": [
    "The Petrov invariants can be calculated independently if needed:\n",
    "\n",
    "All Petrov invariants are available under their names: **PetrovinvINP, PetrovinvJNP, PetrovinvKNP, PetrovinvLNP, PetrovinvNNP**"
   ]
  },
  {
   "cell_type": "code",
   "execution_count": 19,
   "id": "323592db-5cd8-4dcf-90c8-bbd3f6f38369",
   "metadata": {},
   "outputs": [
    {
     "data": {
      "text/html": [
       "<html>\\(\\displaystyle \\frac{3 \\, M^{2}}{r^{6}}\\)</html>"
      ],
      "text/latex": [
       "$\\displaystyle \\frac{3 \\, M^{2}}{r^{6}}$"
      ],
      "text/plain": [
       "3*M^2/r^6"
      ]
     },
     "metadata": {},
     "output_type": "display_data"
    },
    {
     "data": {
      "text/html": [
       "<html>\\(\\displaystyle \\frac{M^{3}}{r^{9}}\\)</html>"
      ],
      "text/latex": [
       "$\\displaystyle \\frac{M^{3}}{r^{9}}$"
      ],
      "text/plain": [
       "M^3/r^9"
      ]
     },
     "metadata": {},
     "output_type": "display_data"
    },
    {
     "data": {
      "text/html": [
       "<html>\\(\\displaystyle 0\\)</html>"
      ],
      "text/latex": [
       "$\\displaystyle 0$"
      ],
      "text/plain": [
       "0"
      ]
     },
     "metadata": {},
     "output_type": "display_data"
    },
    {
     "data": {
      "text/html": [
       "<html>\\(\\displaystyle 0\\)</html>"
      ],
      "text/latex": [
       "$\\displaystyle 0$"
      ],
      "text/plain": [
       "0"
      ]
     },
     "metadata": {},
     "output_type": "display_data"
    },
    {
     "data": {
      "text/html": [
       "<html>\\(\\displaystyle 0\\)</html>"
      ],
      "text/latex": [
       "$\\displaystyle 0$"
      ],
      "text/plain": [
       "0"
      ]
     },
     "metadata": {},
     "output_type": "display_data"
    }
   ],
   "source": [
    "schw.calculate_PetrovinvINP()\n",
    "schw.calculate_PetrovinvJNP()\n",
    "schw.calculate_PetrovinvKNP()\n",
    "schw.calculate_PetrovinvLNP()\n",
    "schw.calculate_PetrovinvNNP()\n",
    "\n",
    "show(schw.PetrovinvINP.expr())\n",
    "show(schw.PetrovinvJNP.expr())\n",
    "show(schw.PetrovinvKNP.expr())\n",
    "show(schw.PetrovinvLNP.expr())\n",
    "show(schw.PetrovinvNNP.expr())"
   ]
  },
  {
   "cell_type": "markdown",
   "id": "e5d9920e-b8a5-4814-8fb3-6cf11915db2a",
   "metadata": {},
   "source": [
    "Find the **Petrov type** using the *Weyl tensor components**:"
   ]
  },
  {
   "cell_type": "code",
   "execution_count": 20,
   "id": "e8cb0be0-2ace-4978-a433-33672cf40f13",
   "metadata": {},
   "outputs": [
    {
     "name": "stdout",
     "output_type": "stream",
     "text": [
      "Calculating Petrov Type...\n",
      "Petrov Type D\n",
      "Attention: This procedure depends on the simplification of the structures. Therefore the Petrov type can be simpler.\n"
     ]
    }
   ],
   "source": [
    "schw.Petrov_fromWeyl()"
   ]
  },
  {
   "cell_type": "markdown",
   "id": "55dd9bdc-f0d9-43bc-b589-c47f1e7cb007",
   "metadata": {},
   "source": [
    "**Directional derivatives** can be calculated as given in (Page 43, Eq.(3.82)):\n",
    "\n",
    "- **DlNP(X)**: Given X, calculates the $D$ derivative (l direction).\n",
    "\n",
    "- **DeltanNP(X)**: Given X, calculates the $\\Delta$ derivative (n direction)\n",
    " \n",
    "- **deltamNP(X)**: Given X, calculates the $\\delta$ derivative (m direction)\n",
    " \n",
    "- **deltambarNP(X)**: Given X, calculates the $\\overline{\\delta}$ derivative (mbar direction)"
   ]
  },
  {
   "cell_type": "markdown",
   "id": "2527c8d2-b0c9-4d03-a545-970ff4208b89",
   "metadata": {},
   "source": [
    "Calculate and display the **directional derivatives** of the **spin coefficient $\\gamma$ (gammaNP)**:"
   ]
  },
  {
   "cell_type": "code",
   "execution_count": 21,
   "id": "e6590df8-83c0-480a-8c48-e93d6689b936",
   "metadata": {},
   "outputs": [
    {
     "data": {
      "text/html": [
       "<html>\\(\\displaystyle -\\frac{M}{r^{3}}\\)</html>"
      ],
      "text/latex": [
       "$\\displaystyle -\\frac{M}{r^{3}}$"
      ],
      "text/plain": [
       "-M/r^3"
      ]
     },
     "metadata": {},
     "output_type": "display_data"
    },
    {
     "data": {
      "text/html": [
       "<html>\\(\\displaystyle -\\frac{2 \\, M^{2} - M r}{2 \\, r^{4}}\\)</html>"
      ],
      "text/latex": [
       "$\\displaystyle -\\frac{2 \\, M^{2} - M r}{2 \\, r^{4}}$"
      ],
      "text/plain": [
       "-1/2*(2*M^2 - M*r)/r^4"
      ]
     },
     "metadata": {},
     "output_type": "display_data"
    },
    {
     "data": {
      "text/html": [
       "<html>\\(\\displaystyle 0\\)</html>"
      ],
      "text/latex": [
       "$\\displaystyle 0$"
      ],
      "text/plain": [
       "0"
      ]
     },
     "metadata": {},
     "output_type": "display_data"
    },
    {
     "data": {
      "text/html": [
       "<html>\\(\\displaystyle 0\\)</html>"
      ],
      "text/latex": [
       "$\\displaystyle 0$"
      ],
      "text/plain": [
       "0"
      ]
     },
     "metadata": {},
     "output_type": "display_data"
    }
   ],
   "source": [
    "show(schw.DlNP(schw.gammaNP).expr())\n",
    "show(schw.DeltanNP(schw.gammaNP).expr())\n",
    "show(schw.deltamNP(schw.gammaNP).expr())\n",
    "show(schw.deltambarNP(schw.gammaNP).expr())"
   ]
  },
  {
   "cell_type": "markdown",
   "id": "41d1545d-9517-4c20-95f7-d4a79b63a323",
   "metadata": {},
   "source": [
    "**Commutators** can be calculated as given in (Page 77, Eq.(7.6)):\n",
    "\n",
    "- *The right-hand sides of the commutation relations are calculated.*\n",
    "    \n",
    "- **Deltan_Dl_commNP(X)**: Given X, calculates the [$\\Delta$,$D$] commutator.\n",
    "   \n",
    "- **deltam_Dl_commNP(X)**: Given X, calculates the [$\\delta$,$D$] commutator.\n",
    "    \n",
    "- **deltam_Deltan_commNP(X)**: Given X, calculates the [$\\delta$,$\\Delta$] commutator.\n",
    "   \n",
    "- **deltambar_deltam_commNP(X)**: Given X, calculates the [$\\overline{\\delta}$,$\\delta$] commutator."
   ]
  },
  {
   "cell_type": "markdown",
   "id": "5c63af76-60fa-46f1-b44e-70acc3b10a6d",
   "metadata": {},
   "source": [
    "Calculate and display the **commutators** for the **spin coefficient $\\rho$ (rhoNP)**:"
   ]
  },
  {
   "cell_type": "code",
   "execution_count": 22,
   "id": "5fc27e9c-11c5-4665-b6d7-8ec709ed259d",
   "metadata": {},
   "outputs": [
    {
     "data": {
      "text/html": [
       "<html>\\(\\displaystyle -\\frac{M}{r^{4}}\\)</html>"
      ],
      "text/latex": [
       "$\\displaystyle -\\frac{M}{r^{4}}$"
      ],
      "text/plain": [
       "-M/r^4"
      ]
     },
     "metadata": {},
     "output_type": "display_data"
    },
    {
     "data": {
      "text/html": [
       "<html>\\(\\displaystyle 0\\)</html>"
      ],
      "text/latex": [
       "$\\displaystyle 0$"
      ],
      "text/plain": [
       "0"
      ]
     },
     "metadata": {},
     "output_type": "display_data"
    },
    {
     "data": {
      "text/html": [
       "<html>\\(\\displaystyle 0\\)</html>"
      ],
      "text/latex": [
       "$\\displaystyle 0$"
      ],
      "text/plain": [
       "0"
      ]
     },
     "metadata": {},
     "output_type": "display_data"
    },
    {
     "data": {
      "text/html": [
       "<html>\\(\\displaystyle 0\\)</html>"
      ],
      "text/latex": [
       "$\\displaystyle 0$"
      ],
      "text/plain": [
       "0"
      ]
     },
     "metadata": {},
     "output_type": "display_data"
    }
   ],
   "source": [
    "show(schw.Deltan_Dl_commNP(schw.rhoNP).expr())\n",
    "show(schw.deltam_Dl_commNP(schw.rhoNP).expr())\n",
    "show(schw.deltam_Deltan_commNP(schw.rhoNP).expr())\n",
    "show(schw.deltambar_deltam_commNP(schw.rhoNP).expr())"
   ]
  },
  {
   "cell_type": "markdown",
   "id": "d78cdad3-b1a1-4660-9878-21b95e3eeeb9",
   "metadata": {},
   "source": [
    "These are the **right-hand sides** of the commutation relations. \n",
    "\n",
    "Let us check if [$\\Delta$,$D$] (Deltan_Dl_commNP) commutation runs correctly **by calculating the left-hand side of the equation using the directional derivatives**: $\\Delta D \\rho - D \\Delta \\rho$ .\n",
    "\n",
    "Check the difference to see if it is zero:"
   ]
  },
  {
   "cell_type": "code",
   "execution_count": 23,
   "id": "2f7f5908-1071-455a-ba9f-1d18ece1ac01",
   "metadata": {},
   "outputs": [
    {
     "data": {
      "text/html": [
       "<html>\\(\\displaystyle 0\\)</html>"
      ],
      "text/latex": [
       "$\\displaystyle 0$"
      ],
      "text/plain": [
       "0"
      ]
     },
     "metadata": {},
     "output_type": "display_data"
    }
   ],
   "source": [
    "fromcommutatorfunction=schw.Deltan_Dl_commNP(schw.rhoNP).expr()\n",
    "directcommutation=schw.DeltanNP(schw.DlNP(schw.rhoNP)).expr()-schw.DlNP(schw.DeltanNP(schw.rhoNP)).expr()\n",
    "\n",
    "show((fromcommutatorfunction-directcommutation).simplify_full())"
   ]
  },
  {
   "cell_type": "markdown",
   "id": "5d5ee07f-9ce5-4c2e-ac04-6873bd3555e9",
   "metadata": {},
   "source": [
    "**calculate_allNP()** runs the following functions: calculate_spincoefficients(), calculate_Weyl(), calculate_Ricci(), calculate_NPeq(), calculate_Bianchi(), Petrov_frominvariants(), Petrov_fromWeyl()"
   ]
  },
  {
   "cell_type": "code",
   "execution_count": 24,
   "id": "8b4667e5-6262-4254-aedc-ae36845780c1",
   "metadata": {},
   "outputs": [
    {
     "name": "stdout",
     "output_type": "stream",
     "text": [
      "Calculating spin coefficients...\n",
      "Calculating Weyl components...\n",
      "Calculating Ricci components...\n",
      "Calculating NP equations...\n",
      "Calculating Bianchi identities...\n",
      "Calculating Petrov Type...\n",
      "Petrov Type D\n",
      "Attention: This procedure depends on the simplification of the structures. Therefore the Petrov type can be simpler.\n",
      "Calculating Petrov Type...\n",
      "Petrov Type D\n",
      "Attention: This procedure depends on the simplification of the structures. Therefore the Petrov type can be simpler.\n"
     ]
    }
   ],
   "source": [
    "schw.calculate_allNP()"
   ]
  },
  {
   "cell_type": "markdown",
   "id": "f0eaafe1-68fb-46aa-9f6a-9a10a7fcb720",
   "metadata": {},
   "source": [
    "**show_allNP()** runs the following functions: show_spincoefficients(), show_Weyl(), show_Ricci(), show_NPeq(), show_Bianchi(), Petrov_frominvariants(), Petrov_fromWeyl()"
   ]
  },
  {
   "cell_type": "code",
   "execution_count": 25,
   "id": "7f9e9f4d-fde8-4d8c-b70e-6922bdc54efb",
   "metadata": {},
   "outputs": [
    {
     "data": {
      "text/html": [
       "<html>\\(\\displaystyle \\verb|kappaNP=| 0\\)</html>"
      ],
      "text/latex": [
       "$\\displaystyle \\verb|kappaNP=| 0$"
      ],
      "text/plain": [
       "'kappaNP=' 0"
      ]
     },
     "metadata": {},
     "output_type": "display_data"
    },
    {
     "data": {
      "text/html": [
       "<html>\\(\\displaystyle \\verb|tauNP=| 0\\)</html>"
      ],
      "text/latex": [
       "$\\displaystyle \\verb|tauNP=| 0$"
      ],
      "text/plain": [
       "'tauNP=' 0"
      ]
     },
     "metadata": {},
     "output_type": "display_data"
    },
    {
     "data": {
      "text/html": [
       "<html>\\(\\displaystyle \\verb|sigmaNP=| 0\\)</html>"
      ],
      "text/latex": [
       "$\\displaystyle \\verb|sigmaNP=| 0$"
      ],
      "text/plain": [
       "'sigmaNP=' 0"
      ]
     },
     "metadata": {},
     "output_type": "display_data"
    },
    {
     "data": {
      "text/html": [
       "<html>\\(\\displaystyle \\verb|rhoNP=| \\frac{1}{r}\\)</html>"
      ],
      "text/latex": [
       "$\\displaystyle \\verb|rhoNP=| \\frac{1}{r}$"
      ],
      "text/plain": [
       "'rhoNP=' 1/r"
      ]
     },
     "metadata": {},
     "output_type": "display_data"
    },
    {
     "data": {
      "text/html": [
       "<html>\\(\\displaystyle \\verb|piNP=| 0\\)</html>"
      ],
      "text/latex": [
       "$\\displaystyle \\verb|piNP=| 0$"
      ],
      "text/plain": [
       "'piNP=' 0"
      ]
     },
     "metadata": {},
     "output_type": "display_data"
    },
    {
     "data": {
      "text/html": [
       "<html>\\(\\displaystyle \\verb|nuNP=| 0\\)</html>"
      ],
      "text/latex": [
       "$\\displaystyle \\verb|nuNP=| 0$"
      ],
      "text/plain": [
       "'nuNP=' 0"
      ]
     },
     "metadata": {},
     "output_type": "display_data"
    },
    {
     "data": {
      "text/html": [
       "<html>\\(\\displaystyle \\verb|muNP=| -\\frac{2 \\, M - r}{2 \\, r^{2}}\\)</html>"
      ],
      "text/latex": [
       "$\\displaystyle \\verb|muNP=| -\\frac{2 \\, M - r}{2 \\, r^{2}}$"
      ],
      "text/plain": [
       "'muNP=' -1/2*(2*M - r)/r^2"
      ]
     },
     "metadata": {},
     "output_type": "display_data"
    },
    {
     "data": {
      "text/html": [
       "<html>\\(\\displaystyle \\verb|lambdaNP=| 0\\)</html>"
      ],
      "text/latex": [
       "$\\displaystyle \\verb|lambdaNP=| 0$"
      ],
      "text/plain": [
       "'lambdaNP=' 0"
      ]
     },
     "metadata": {},
     "output_type": "display_data"
    },
    {
     "data": {
      "text/html": [
       "<html>\\(\\displaystyle \\verb|epsilonNP=| 0\\)</html>"
      ],
      "text/latex": [
       "$\\displaystyle \\verb|epsilonNP=| 0$"
      ],
      "text/plain": [
       "'epsilonNP=' 0"
      ]
     },
     "metadata": {},
     "output_type": "display_data"
    },
    {
     "data": {
      "text/html": [
       "<html>\\(\\displaystyle \\verb|gammaNP=| -\\frac{M}{2 \\, r^{2}}\\)</html>"
      ],
      "text/latex": [
       "$\\displaystyle \\verb|gammaNP=| -\\frac{M}{2 \\, r^{2}}$"
      ],
      "text/plain": [
       "'gammaNP=' -1/2*M/r^2"
      ]
     },
     "metadata": {},
     "output_type": "display_data"
    },
    {
     "data": {
      "text/html": [
       "<html>\\(\\displaystyle \\verb|betaNP=| -\\frac{\\sqrt{2} \\cos\\left({\\theta}\\right)}{4 \\, r \\sin\\left({\\theta}\\right)}\\)</html>"
      ],
      "text/latex": [
       "$\\displaystyle \\verb|betaNP=| -\\frac{\\sqrt{2} \\cos\\left({\\theta}\\right)}{4 \\, r \\sin\\left({\\theta}\\right)}$"
      ],
      "text/plain": [
       "'betaNP=' -1/4*sqrt(2)*cos(th)/(r*sin(th))"
      ]
     },
     "metadata": {},
     "output_type": "display_data"
    },
    {
     "data": {
      "text/html": [
       "<html>\\(\\displaystyle \\verb|alphaNP=| \\frac{\\sqrt{2} \\cos\\left({\\theta}\\right)}{4 \\, r \\sin\\left({\\theta}\\right)}\\)</html>"
      ],
      "text/latex": [
       "$\\displaystyle \\verb|alphaNP=| \\frac{\\sqrt{2} \\cos\\left({\\theta}\\right)}{4 \\, r \\sin\\left({\\theta}\\right)}$"
      ],
      "text/plain": [
       "'alphaNP=' 1/4*sqrt(2)*cos(th)/(r*sin(th))"
      ]
     },
     "metadata": {},
     "output_type": "display_data"
    },
    {
     "data": {
      "text/html": [
       "<html>\\(\\displaystyle \\verb|Psi0NP=| 0\\)</html>"
      ],
      "text/latex": [
       "$\\displaystyle \\verb|Psi0NP=| 0$"
      ],
      "text/plain": [
       "'Psi0NP=' 0"
      ]
     },
     "metadata": {},
     "output_type": "display_data"
    },
    {
     "data": {
      "text/html": [
       "<html>\\(\\displaystyle \\verb|Psi1NP=| 0\\)</html>"
      ],
      "text/latex": [
       "$\\displaystyle \\verb|Psi1NP=| 0$"
      ],
      "text/plain": [
       "'Psi1NP=' 0"
      ]
     },
     "metadata": {},
     "output_type": "display_data"
    },
    {
     "data": {
      "text/html": [
       "<html>\\(\\displaystyle \\verb|Psi2NP=| -\\frac{M}{r^{3}}\\)</html>"
      ],
      "text/latex": [
       "$\\displaystyle \\verb|Psi2NP=| -\\frac{M}{r^{3}}$"
      ],
      "text/plain": [
       "'Psi2NP=' -M/r^3"
      ]
     },
     "metadata": {},
     "output_type": "display_data"
    },
    {
     "data": {
      "text/html": [
       "<html>\\(\\displaystyle \\verb|Psi3NP=| 0\\)</html>"
      ],
      "text/latex": [
       "$\\displaystyle \\verb|Psi3NP=| 0$"
      ],
      "text/plain": [
       "'Psi3NP=' 0"
      ]
     },
     "metadata": {},
     "output_type": "display_data"
    },
    {
     "data": {
      "text/html": [
       "<html>\\(\\displaystyle \\verb|Psi4NP=| 0\\)</html>"
      ],
      "text/latex": [
       "$\\displaystyle \\verb|Psi4NP=| 0$"
      ],
      "text/plain": [
       "'Psi4NP=' 0"
      ]
     },
     "metadata": {},
     "output_type": "display_data"
    },
    {
     "data": {
      "text/html": [
       "<html>\\(\\displaystyle \\verb|Phi00NP=| 0\\)</html>"
      ],
      "text/latex": [
       "$\\displaystyle \\verb|Phi00NP=| 0$"
      ],
      "text/plain": [
       "'Phi00NP=' 0"
      ]
     },
     "metadata": {},
     "output_type": "display_data"
    },
    {
     "data": {
      "text/html": [
       "<html>\\(\\displaystyle \\verb|Phi01NP=| 0\\)</html>"
      ],
      "text/latex": [
       "$\\displaystyle \\verb|Phi01NP=| 0$"
      ],
      "text/plain": [
       "'Phi01NP=' 0"
      ]
     },
     "metadata": {},
     "output_type": "display_data"
    },
    {
     "data": {
      "text/html": [
       "<html>\\(\\displaystyle \\verb|Phi10NP=| 0\\)</html>"
      ],
      "text/latex": [
       "$\\displaystyle \\verb|Phi10NP=| 0$"
      ],
      "text/plain": [
       "'Phi10NP=' 0"
      ]
     },
     "metadata": {},
     "output_type": "display_data"
    },
    {
     "data": {
      "text/html": [
       "<html>\\(\\displaystyle \\verb|Phi02NP=| 0\\)</html>"
      ],
      "text/latex": [
       "$\\displaystyle \\verb|Phi02NP=| 0$"
      ],
      "text/plain": [
       "'Phi02NP=' 0"
      ]
     },
     "metadata": {},
     "output_type": "display_data"
    },
    {
     "data": {
      "text/html": [
       "<html>\\(\\displaystyle \\verb|Phi20NP=| 0\\)</html>"
      ],
      "text/latex": [
       "$\\displaystyle \\verb|Phi20NP=| 0$"
      ],
      "text/plain": [
       "'Phi20NP=' 0"
      ]
     },
     "metadata": {},
     "output_type": "display_data"
    },
    {
     "data": {
      "text/html": [
       "<html>\\(\\displaystyle \\verb|Phi11NP=| 0\\)</html>"
      ],
      "text/latex": [
       "$\\displaystyle \\verb|Phi11NP=| 0$"
      ],
      "text/plain": [
       "'Phi11NP=' 0"
      ]
     },
     "metadata": {},
     "output_type": "display_data"
    },
    {
     "data": {
      "text/html": [
       "<html>\\(\\displaystyle \\verb|Phi12NP=| 0\\)</html>"
      ],
      "text/latex": [
       "$\\displaystyle \\verb|Phi12NP=| 0$"
      ],
      "text/plain": [
       "'Phi12NP=' 0"
      ]
     },
     "metadata": {},
     "output_type": "display_data"
    },
    {
     "data": {
      "text/html": [
       "<html>\\(\\displaystyle \\verb|Phi21NP=| 0\\)</html>"
      ],
      "text/latex": [
       "$\\displaystyle \\verb|Phi21NP=| 0$"
      ],
      "text/plain": [
       "'Phi21NP=' 0"
      ]
     },
     "metadata": {},
     "output_type": "display_data"
    },
    {
     "data": {
      "text/html": [
       "<html>\\(\\displaystyle \\verb|Phi22NP=| 0\\)</html>"
      ],
      "text/latex": [
       "$\\displaystyle \\verb|Phi22NP=| 0$"
      ],
      "text/plain": [
       "'Phi22NP=' 0"
      ]
     },
     "metadata": {},
     "output_type": "display_data"
    },
    {
     "data": {
      "text/html": [
       "<html>\\(\\displaystyle \\verb|LambdaNP=| 0\\)</html>"
      ],
      "text/latex": [
       "$\\displaystyle \\verb|LambdaNP=| 0$"
      ],
      "text/plain": [
       "'LambdaNP=' 0"
      ]
     },
     "metadata": {},
     "output_type": "display_data"
    },
    {
     "data": {
      "text/html": [
       "<html>\\(\\displaystyle \\verb|NPeq1=| 0\\)</html>"
      ],
      "text/latex": [
       "$\\displaystyle \\verb|NPeq1=| 0$"
      ],
      "text/plain": [
       "'NPeq1=' 0"
      ]
     },
     "metadata": {},
     "output_type": "display_data"
    },
    {
     "data": {
      "text/html": [
       "<html>\\(\\displaystyle \\verb|NPeq2=| 0\\)</html>"
      ],
      "text/latex": [
       "$\\displaystyle \\verb|NPeq2=| 0$"
      ],
      "text/plain": [
       "'NPeq2=' 0"
      ]
     },
     "metadata": {},
     "output_type": "display_data"
    },
    {
     "data": {
      "text/html": [
       "<html>\\(\\displaystyle \\verb|NPeq3=| 0\\)</html>"
      ],
      "text/latex": [
       "$\\displaystyle \\verb|NPeq3=| 0$"
      ],
      "text/plain": [
       "'NPeq3=' 0"
      ]
     },
     "metadata": {},
     "output_type": "display_data"
    },
    {
     "data": {
      "text/html": [
       "<html>\\(\\displaystyle \\verb|NPeq4=| 0\\)</html>"
      ],
      "text/latex": [
       "$\\displaystyle \\verb|NPeq4=| 0$"
      ],
      "text/plain": [
       "'NPeq4=' 0"
      ]
     },
     "metadata": {},
     "output_type": "display_data"
    },
    {
     "data": {
      "text/html": [
       "<html>\\(\\displaystyle \\verb|NPeq5=| 0\\)</html>"
      ],
      "text/latex": [
       "$\\displaystyle \\verb|NPeq5=| 0$"
      ],
      "text/plain": [
       "'NPeq5=' 0"
      ]
     },
     "metadata": {},
     "output_type": "display_data"
    },
    {
     "data": {
      "text/html": [
       "<html>\\(\\displaystyle \\verb|NPeq6=| 0\\)</html>"
      ],
      "text/latex": [
       "$\\displaystyle \\verb|NPeq6=| 0$"
      ],
      "text/plain": [
       "'NPeq6=' 0"
      ]
     },
     "metadata": {},
     "output_type": "display_data"
    },
    {
     "data": {
      "text/html": [
       "<html>\\(\\displaystyle \\verb|NPeq7=| 0\\)</html>"
      ],
      "text/latex": [
       "$\\displaystyle \\verb|NPeq7=| 0$"
      ],
      "text/plain": [
       "'NPeq7=' 0"
      ]
     },
     "metadata": {},
     "output_type": "display_data"
    },
    {
     "data": {
      "text/html": [
       "<html>\\(\\displaystyle \\verb|NPeq8=| 0\\)</html>"
      ],
      "text/latex": [
       "$\\displaystyle \\verb|NPeq8=| 0$"
      ],
      "text/plain": [
       "'NPeq8=' 0"
      ]
     },
     "metadata": {},
     "output_type": "display_data"
    },
    {
     "data": {
      "text/html": [
       "<html>\\(\\displaystyle \\verb|NPeq9=| 0\\)</html>"
      ],
      "text/latex": [
       "$\\displaystyle \\verb|NPeq9=| 0$"
      ],
      "text/plain": [
       "'NPeq9=' 0"
      ]
     },
     "metadata": {},
     "output_type": "display_data"
    },
    {
     "data": {
      "text/html": [
       "<html>\\(\\displaystyle \\verb|NPeq10=| 0\\)</html>"
      ],
      "text/latex": [
       "$\\displaystyle \\verb|NPeq10=| 0$"
      ],
      "text/plain": [
       "'NPeq10=' 0"
      ]
     },
     "metadata": {},
     "output_type": "display_data"
    },
    {
     "data": {
      "text/html": [
       "<html>\\(\\displaystyle \\verb|NPeq11=| 0\\)</html>"
      ],
      "text/latex": [
       "$\\displaystyle \\verb|NPeq11=| 0$"
      ],
      "text/plain": [
       "'NPeq11=' 0"
      ]
     },
     "metadata": {},
     "output_type": "display_data"
    },
    {
     "data": {
      "text/html": [
       "<html>\\(\\displaystyle \\verb|NPeq12=| 0\\)</html>"
      ],
      "text/latex": [
       "$\\displaystyle \\verb|NPeq12=| 0$"
      ],
      "text/plain": [
       "'NPeq12=' 0"
      ]
     },
     "metadata": {},
     "output_type": "display_data"
    },
    {
     "data": {
      "text/html": [
       "<html>\\(\\displaystyle \\verb|NPeq13=| 0\\)</html>"
      ],
      "text/latex": [
       "$\\displaystyle \\verb|NPeq13=| 0$"
      ],
      "text/plain": [
       "'NPeq13=' 0"
      ]
     },
     "metadata": {},
     "output_type": "display_data"
    },
    {
     "data": {
      "text/html": [
       "<html>\\(\\displaystyle \\verb|NPeq14=| 0\\)</html>"
      ],
      "text/latex": [
       "$\\displaystyle \\verb|NPeq14=| 0$"
      ],
      "text/plain": [
       "'NPeq14=' 0"
      ]
     },
     "metadata": {},
     "output_type": "display_data"
    },
    {
     "data": {
      "text/html": [
       "<html>\\(\\displaystyle \\verb|NPeq15=| 0\\)</html>"
      ],
      "text/latex": [
       "$\\displaystyle \\verb|NPeq15=| 0$"
      ],
      "text/plain": [
       "'NPeq15=' 0"
      ]
     },
     "metadata": {},
     "output_type": "display_data"
    },
    {
     "data": {
      "text/html": [
       "<html>\\(\\displaystyle \\verb|NPeq16=| 0\\)</html>"
      ],
      "text/latex": [
       "$\\displaystyle \\verb|NPeq16=| 0$"
      ],
      "text/plain": [
       "'NPeq16=' 0"
      ]
     },
     "metadata": {},
     "output_type": "display_data"
    },
    {
     "data": {
      "text/html": [
       "<html>\\(\\displaystyle \\verb|NPeq17=| 0\\)</html>"
      ],
      "text/latex": [
       "$\\displaystyle \\verb|NPeq17=| 0$"
      ],
      "text/plain": [
       "'NPeq17=' 0"
      ]
     },
     "metadata": {},
     "output_type": "display_data"
    },
    {
     "data": {
      "text/html": [
       "<html>\\(\\displaystyle \\verb|NPeq18=| 0\\)</html>"
      ],
      "text/latex": [
       "$\\displaystyle \\verb|NPeq18=| 0$"
      ],
      "text/plain": [
       "'NPeq18=' 0"
      ]
     },
     "metadata": {},
     "output_type": "display_data"
    },
    {
     "data": {
      "text/html": [
       "<html>\\(\\displaystyle \\verb|BI1=| 0\\)</html>"
      ],
      "text/latex": [
       "$\\displaystyle \\verb|BI1=| 0$"
      ],
      "text/plain": [
       "'BI1=' 0"
      ]
     },
     "metadata": {},
     "output_type": "display_data"
    },
    {
     "data": {
      "text/html": [
       "<html>\\(\\displaystyle \\verb|BI2=| 0\\)</html>"
      ],
      "text/latex": [
       "$\\displaystyle \\verb|BI2=| 0$"
      ],
      "text/plain": [
       "'BI2=' 0"
      ]
     },
     "metadata": {},
     "output_type": "display_data"
    },
    {
     "data": {
      "text/html": [
       "<html>\\(\\displaystyle \\verb|BI3=| 0\\)</html>"
      ],
      "text/latex": [
       "$\\displaystyle \\verb|BI3=| 0$"
      ],
      "text/plain": [
       "'BI3=' 0"
      ]
     },
     "metadata": {},
     "output_type": "display_data"
    },
    {
     "data": {
      "text/html": [
       "<html>\\(\\displaystyle \\verb|BI4=| 0\\)</html>"
      ],
      "text/latex": [
       "$\\displaystyle \\verb|BI4=| 0$"
      ],
      "text/plain": [
       "'BI4=' 0"
      ]
     },
     "metadata": {},
     "output_type": "display_data"
    },
    {
     "data": {
      "text/html": [
       "<html>\\(\\displaystyle \\verb|BI5=| 0\\)</html>"
      ],
      "text/latex": [
       "$\\displaystyle \\verb|BI5=| 0$"
      ],
      "text/plain": [
       "'BI5=' 0"
      ]
     },
     "metadata": {},
     "output_type": "display_data"
    },
    {
     "data": {
      "text/html": [
       "<html>\\(\\displaystyle \\verb|BI6=| 0\\)</html>"
      ],
      "text/latex": [
       "$\\displaystyle \\verb|BI6=| 0$"
      ],
      "text/plain": [
       "'BI6=' 0"
      ]
     },
     "metadata": {},
     "output_type": "display_data"
    },
    {
     "data": {
      "text/html": [
       "<html>\\(\\displaystyle \\verb|BI7=| 0\\)</html>"
      ],
      "text/latex": [
       "$\\displaystyle \\verb|BI7=| 0$"
      ],
      "text/plain": [
       "'BI7=' 0"
      ]
     },
     "metadata": {},
     "output_type": "display_data"
    },
    {
     "data": {
      "text/html": [
       "<html>\\(\\displaystyle \\verb|BI8=| 0\\)</html>"
      ],
      "text/latex": [
       "$\\displaystyle \\verb|BI8=| 0$"
      ],
      "text/plain": [
       "'BI8=' 0"
      ]
     },
     "metadata": {},
     "output_type": "display_data"
    },
    {
     "data": {
      "text/html": [
       "<html>\\(\\displaystyle \\verb|BI9=| 0\\)</html>"
      ],
      "text/latex": [
       "$\\displaystyle \\verb|BI9=| 0$"
      ],
      "text/plain": [
       "'BI9=' 0"
      ]
     },
     "metadata": {},
     "output_type": "display_data"
    },
    {
     "data": {
      "text/html": [
       "<html>\\(\\displaystyle \\verb|BI10=| 0\\)</html>"
      ],
      "text/latex": [
       "$\\displaystyle \\verb|BI10=| 0$"
      ],
      "text/plain": [
       "'BI10=' 0"
      ]
     },
     "metadata": {},
     "output_type": "display_data"
    },
    {
     "data": {
      "text/html": [
       "<html>\\(\\displaystyle \\verb|BI11=| 0\\)</html>"
      ],
      "text/latex": [
       "$\\displaystyle \\verb|BI11=| 0$"
      ],
      "text/plain": [
       "'BI11=' 0"
      ]
     },
     "metadata": {},
     "output_type": "display_data"
    },
    {
     "name": "stdout",
     "output_type": "stream",
     "text": [
      "Calculating Petrov Type...\n",
      "Petrov Type D\n",
      "Attention: This procedure depends on the simplification of the structures. Therefore the Petrov type can be simpler.\n",
      "Calculating Petrov Type...\n",
      "Petrov Type D\n",
      "Attention: This procedure depends on the simplification of the structures. Therefore the Petrov type can be simpler.\n"
     ]
    }
   ],
   "source": [
    "schw.show_allNP()"
   ]
  },
  {
   "cell_type": "markdown",
   "id": "9b22c844-c71c-40dc-aef0-a2fbfa2c4544",
   "metadata": {},
   "source": [
    "**Klein-Gordon equation for a massive scalar field** can be calculated as defined in G. Silva-Ortigoza, Rev. Mex. Fis. 4, 543 (1996)."
   ]
  },
  {
   "cell_type": "code",
   "execution_count": 26,
   "id": "9afce804-cd5f-455b-aaab-08cf91275e5b",
   "metadata": {},
   "outputs": [
    {
     "data": {
      "text/html": [
       "<html>\\(\\displaystyle \\frac{{\\left(2 \\, M - r\\right)} \\cos\\left({\\theta}\\right) \\sin\\left({\\theta}\\right) \\frac{\\partial}{\\partial {\\theta}}\\Phi\\left(t, r, {\\theta}, {\\phi}\\right) + {\\left(r^{3} \\frac{\\partial^{2}}{(\\partial t)^{2}}\\Phi\\left(t, r, {\\theta}, {\\phi}\\right) - {\\left(2 \\, M M_{2}^{2} r^{2} - M_{2}^{2} r^{3}\\right)} \\Phi\\left(t, r, {\\theta}, {\\phi}\\right) - 2 \\, {\\left(2 \\, M^{2} - 3 \\, M r + r^{2}\\right)} \\frac{\\partial}{\\partial r}\\Phi\\left(t, r, {\\theta}, {\\phi}\\right) - {\\left(4 \\, M^{2} r - 4 \\, M r^{2} + r^{3}\\right)} \\frac{\\partial^{2}}{(\\partial r)^{2}}\\Phi\\left(t, r, {\\theta}, {\\phi}\\right) + {\\left(2 \\, M - r\\right)} \\frac{\\partial^{2}}{(\\partial {\\theta})^{2}}\\Phi\\left(t, r, {\\theta}, {\\phi}\\right)\\right)} \\sin\\left({\\theta}\\right)^{2} + {\\left(2 \\, M - r\\right)} \\frac{\\partial^{2}}{(\\partial {\\phi})^{2}}\\Phi\\left(t, r, {\\theta}, {\\phi}\\right)}{{\\left(2 \\, M r^{2} - r^{3}\\right)} \\sin\\left({\\theta}\\right)^{2}}\\)</html>"
      ],
      "text/latex": [
       "$\\displaystyle \\frac{{\\left(2 \\, M - r\\right)} \\cos\\left({\\theta}\\right) \\sin\\left({\\theta}\\right) \\frac{\\partial}{\\partial {\\theta}}\\Phi\\left(t, r, {\\theta}, {\\phi}\\right) + {\\left(r^{3} \\frac{\\partial^{2}}{(\\partial t)^{2}}\\Phi\\left(t, r, {\\theta}, {\\phi}\\right) - {\\left(2 \\, M M_{2}^{2} r^{2} - M_{2}^{2} r^{3}\\right)} \\Phi\\left(t, r, {\\theta}, {\\phi}\\right) - 2 \\, {\\left(2 \\, M^{2} - 3 \\, M r + r^{2}\\right)} \\frac{\\partial}{\\partial r}\\Phi\\left(t, r, {\\theta}, {\\phi}\\right) - {\\left(4 \\, M^{2} r - 4 \\, M r^{2} + r^{3}\\right)} \\frac{\\partial^{2}}{(\\partial r)^{2}}\\Phi\\left(t, r, {\\theta}, {\\phi}\\right) + {\\left(2 \\, M - r\\right)} \\frac{\\partial^{2}}{(\\partial {\\theta})^{2}}\\Phi\\left(t, r, {\\theta}, {\\phi}\\right)\\right)} \\sin\\left({\\theta}\\right)^{2} + {\\left(2 \\, M - r\\right)} \\frac{\\partial^{2}}{(\\partial {\\phi})^{2}}\\Phi\\left(t, r, {\\theta}, {\\phi}\\right)}{{\\left(2 \\, M r^{2} - r^{3}\\right)} \\sin\\left({\\theta}\\right)^{2}}$"
      ],
      "text/plain": [
       "((2*M - r)*cos(th)*sin(th)*diff(Phi(t, r, th, ph), th) + (r^3*diff(Phi(t, r, th, ph), t, t) - (2*M*M2^2*r^2 - M2^2*r^3)*Phi(t, r, th, ph) - 2*(2*M^2 - 3*M*r + r^2)*diff(Phi(t, r, th, ph), r) - (4*M^2*r - 4*M*r^2 + r^3)*diff(Phi(t, r, th, ph), r, r) + (2*M - r)*diff(Phi(t, r, th, ph), th, th))*sin(th)^2 + (2*M - r)*diff(Phi(t, r, th, ph), ph, ph))/((2*M*r^2 - r^3)*sin(th)^2)"
      ]
     },
     "metadata": {},
     "output_type": "display_data"
    }
   ],
   "source": [
    "var('M2') # mass of the scalar field\n",
    "Phi = MyManifold.scalar_field(function('Phi')(t,r,th,ph))\n",
    "schw.kleingordon(Phi,M2)\n",
    "show(schw.kgNP.expr())"
   ]
  },
  {
   "cell_type": "markdown",
   "id": "8541d5f2-115b-4c2b-ad3e-fc34d18f8c35",
   "metadata": {},
   "source": [
    "**Massive Dirac equation** components can be calculated as defined in S. Chandrasekhar, \"Mathematical Theory of Black Holes\", Oxford Univ. Press, New York (1983), p.544."
   ]
  },
  {
   "cell_type": "code",
   "execution_count": 27,
   "id": "3b96e7a9-02d7-49f6-a23a-575035f900e7",
   "metadata": {
    "scrolled": true
   },
   "outputs": [
    {
     "data": {
      "text/html": [
       "<html>\\(\\displaystyle \\left[\\text{Scalar field on the 4-dimensional differentiable manifold MyManifold}, \\text{Scalar field on the 4-dimensional differentiable manifold MyManifold}, \\text{Scalar field on the 4-dimensional differentiable manifold MyManifold}, \\text{Scalar field on the 4-dimensional differentiable manifold MyManifold}\\right]\\)</html>"
      ],
      "text/latex": [
       "$\\displaystyle \\left[\\text{Scalar field on the 4-dimensional differentiable manifold MyManifold}, \\text{Scalar field on the 4-dimensional differentiable manifold MyManifold}, \\text{Scalar field on the 4-dimensional differentiable manifold MyManifold}, \\text{Scalar field on the 4-dimensional differentiable manifold MyManifold}\\right]$"
      ],
      "text/plain": [
       "[Scalar field on the 4-dimensional differentiable manifold MyManifold,\n",
       " Scalar field on the 4-dimensional differentiable manifold MyManifold,\n",
       " Scalar field on the 4-dimensional differentiable manifold MyManifold,\n",
       " Scalar field on the 4-dimensional differentiable manifold MyManifold]"
      ]
     },
     "metadata": {},
     "output_type": "display_data"
    },
    {
     "data": {
      "text/html": [
       "<html>\\(\\displaystyle \\frac{{\\left(2 \\, M - r\\right)} \\cos\\left({\\theta}\\right) f_{2}\\left(t, r, {\\theta}, {\\phi}\\right) - 2 \\, {\\left(\\sqrt{2} r^{2} \\frac{\\partial}{\\partial t}f_{1}\\left(t, r, {\\theta}, {\\phi}\\right) - {\\left(2 \\, \\sqrt{2} M - \\sqrt{2} r\\right)} f_{1}\\left(t, r, {\\theta}, {\\phi}\\right) - {\\left(-2 i \\, \\sqrt{2} M M_{2} r + i \\, \\sqrt{2} M_{2} r^{2}\\right)} g_{1}\\left(t, r, {\\theta}, {\\phi}\\right) - {\\left(2 \\, \\sqrt{2} M r - \\sqrt{2} r^{2}\\right)} \\frac{\\partial}{\\partial r}f_{1}\\left(t, r, {\\theta}, {\\phi}\\right) - {\\left(2 \\, M - r\\right)} \\frac{\\partial}{\\partial {\\theta}}f_{2}\\left(t, r, {\\theta}, {\\phi}\\right)\\right)} \\sin\\left({\\theta}\\right) + 2 \\, {\\left(-2 i \\, M + i \\, r\\right)} \\frac{\\partial}{\\partial {\\phi}}f_{2}\\left(t, r, {\\theta}, {\\phi}\\right)}{2 \\, {\\left(2 \\, \\sqrt{2} M r - \\sqrt{2} r^{2}\\right)} \\sin\\left({\\theta}\\right)}\\)</html>"
      ],
      "text/latex": [
       "$\\displaystyle \\frac{{\\left(2 \\, M - r\\right)} \\cos\\left({\\theta}\\right) f_{2}\\left(t, r, {\\theta}, {\\phi}\\right) - 2 \\, {\\left(\\sqrt{2} r^{2} \\frac{\\partial}{\\partial t}f_{1}\\left(t, r, {\\theta}, {\\phi}\\right) - {\\left(2 \\, \\sqrt{2} M - \\sqrt{2} r\\right)} f_{1}\\left(t, r, {\\theta}, {\\phi}\\right) - {\\left(-2 i \\, \\sqrt{2} M M_{2} r + i \\, \\sqrt{2} M_{2} r^{2}\\right)} g_{1}\\left(t, r, {\\theta}, {\\phi}\\right) - {\\left(2 \\, \\sqrt{2} M r - \\sqrt{2} r^{2}\\right)} \\frac{\\partial}{\\partial r}f_{1}\\left(t, r, {\\theta}, {\\phi}\\right) - {\\left(2 \\, M - r\\right)} \\frac{\\partial}{\\partial {\\theta}}f_{2}\\left(t, r, {\\theta}, {\\phi}\\right)\\right)} \\sin\\left({\\theta}\\right) + 2 \\, {\\left(-2 i \\, M + i \\, r\\right)} \\frac{\\partial}{\\partial {\\phi}}f_{2}\\left(t, r, {\\theta}, {\\phi}\\right)}{2 \\, {\\left(2 \\, \\sqrt{2} M r - \\sqrt{2} r^{2}\\right)} \\sin\\left({\\theta}\\right)}$"
      ],
      "text/plain": [
       "1/2*((2*M - r)*cos(th)*f2(t, r, th, ph) - 2*(sqrt(2)*r^2*diff(f1(t, r, th, ph), t) - (2*sqrt(2)*M - sqrt(2)*r)*f1(t, r, th, ph) - (-2*I*sqrt(2)*M*M2*r + I*sqrt(2)*M2*r^2)*g1(t, r, th, ph) - (2*sqrt(2)*M*r - sqrt(2)*r^2)*diff(f1(t, r, th, ph), r) - (2*M - r)*diff(f2(t, r, th, ph), th))*sin(th) + 2*(-2*I*M + I*r)*diff(f2(t, r, th, ph), ph))/((2*sqrt(2)*M*r - sqrt(2)*r^2)*sin(th))"
      ]
     },
     "metadata": {},
     "output_type": "display_data"
    },
    {
     "data": {
      "text/html": [
       "<html>\\(\\displaystyle \\frac{\\sqrt{2} {\\left(r \\cos\\left({\\theta}\\right) f_{1}\\left(t, r, {\\theta}, {\\phi}\\right) + {\\left(-2 i \\, \\sqrt{2} M_{2} r^{2} g_{2}\\left(t, r, {\\theta}, {\\phi}\\right) + \\sqrt{2} r^{2} \\frac{\\partial}{\\partial t}f_{2}\\left(t, r, {\\theta}, {\\phi}\\right) + {\\left(\\sqrt{2} M - \\sqrt{2} r\\right)} f_{2}\\left(t, r, {\\theta}, {\\phi}\\right) + 2 \\, r \\frac{\\partial}{\\partial {\\theta}}f_{1}\\left(t, r, {\\theta}, {\\phi}\\right) + {\\left(2 \\, \\sqrt{2} M r - \\sqrt{2} r^{2}\\right)} \\frac{\\partial}{\\partial r}f_{2}\\left(t, r, {\\theta}, {\\phi}\\right)\\right)} \\sin\\left({\\theta}\\right) + 2 i \\, r \\frac{\\partial}{\\partial {\\phi}}f_{1}\\left(t, r, {\\theta}, {\\phi}\\right)\\right)}}{4 \\, r^{2} \\sin\\left({\\theta}\\right)}\\)</html>"
      ],
      "text/latex": [
       "$\\displaystyle \\frac{\\sqrt{2} {\\left(r \\cos\\left({\\theta}\\right) f_{1}\\left(t, r, {\\theta}, {\\phi}\\right) + {\\left(-2 i \\, \\sqrt{2} M_{2} r^{2} g_{2}\\left(t, r, {\\theta}, {\\phi}\\right) + \\sqrt{2} r^{2} \\frac{\\partial}{\\partial t}f_{2}\\left(t, r, {\\theta}, {\\phi}\\right) + {\\left(\\sqrt{2} M - \\sqrt{2} r\\right)} f_{2}\\left(t, r, {\\theta}, {\\phi}\\right) + 2 \\, r \\frac{\\partial}{\\partial {\\theta}}f_{1}\\left(t, r, {\\theta}, {\\phi}\\right) + {\\left(2 \\, \\sqrt{2} M r - \\sqrt{2} r^{2}\\right)} \\frac{\\partial}{\\partial r}f_{2}\\left(t, r, {\\theta}, {\\phi}\\right)\\right)} \\sin\\left({\\theta}\\right) + 2 i \\, r \\frac{\\partial}{\\partial {\\phi}}f_{1}\\left(t, r, {\\theta}, {\\phi}\\right)\\right)}}{4 \\, r^{2} \\sin\\left({\\theta}\\right)}$"
      ],
      "text/plain": [
       "1/4*sqrt(2)*(r*cos(th)*f1(t, r, th, ph) + (-2*I*sqrt(2)*M2*r^2*g2(t, r, th, ph) + sqrt(2)*r^2*diff(f2(t, r, th, ph), t) + (sqrt(2)*M - sqrt(2)*r)*f2(t, r, th, ph) + 2*r*diff(f1(t, r, th, ph), th) + (2*sqrt(2)*M*r - sqrt(2)*r^2)*diff(f2(t, r, th, ph), r))*sin(th) + 2*I*r*diff(f1(t, r, th, ph), ph))/(r^2*sin(th))"
      ]
     },
     "metadata": {},
     "output_type": "display_data"
    },
    {
     "data": {
      "text/html": [
       "<html>\\(\\displaystyle -\\frac{{\\left(2 \\, M - r\\right)} \\cos\\left({\\theta}\\right) g_{1}\\left(t, r, {\\theta}, {\\phi}\\right) + 2 \\, {\\left(\\sqrt{2} r^{2} \\frac{\\partial}{\\partial t}g_{2}\\left(t, r, {\\theta}, {\\phi}\\right) - {\\left(-2 i \\, \\sqrt{2} M M_{2} r + i \\, \\sqrt{2} M_{2} r^{2}\\right)} f_{2}\\left(t, r, {\\theta}, {\\phi}\\right) - {\\left(2 \\, \\sqrt{2} M - \\sqrt{2} r\\right)} g_{2}\\left(t, r, {\\theta}, {\\phi}\\right) + {\\left(2 \\, M - r\\right)} \\frac{\\partial}{\\partial {\\theta}}g_{1}\\left(t, r, {\\theta}, {\\phi}\\right) - {\\left(2 \\, \\sqrt{2} M r - \\sqrt{2} r^{2}\\right)} \\frac{\\partial}{\\partial r}g_{2}\\left(t, r, {\\theta}, {\\phi}\\right)\\right)} \\sin\\left({\\theta}\\right) - 2 \\, {\\left(-2 i \\, M + i \\, r\\right)} \\frac{\\partial}{\\partial {\\phi}}g_{1}\\left(t, r, {\\theta}, {\\phi}\\right)}{2 \\, {\\left(2 \\, \\sqrt{2} M r - \\sqrt{2} r^{2}\\right)} \\sin\\left({\\theta}\\right)}\\)</html>"
      ],
      "text/latex": [
       "$\\displaystyle -\\frac{{\\left(2 \\, M - r\\right)} \\cos\\left({\\theta}\\right) g_{1}\\left(t, r, {\\theta}, {\\phi}\\right) + 2 \\, {\\left(\\sqrt{2} r^{2} \\frac{\\partial}{\\partial t}g_{2}\\left(t, r, {\\theta}, {\\phi}\\right) - {\\left(-2 i \\, \\sqrt{2} M M_{2} r + i \\, \\sqrt{2} M_{2} r^{2}\\right)} f_{2}\\left(t, r, {\\theta}, {\\phi}\\right) - {\\left(2 \\, \\sqrt{2} M - \\sqrt{2} r\\right)} g_{2}\\left(t, r, {\\theta}, {\\phi}\\right) + {\\left(2 \\, M - r\\right)} \\frac{\\partial}{\\partial {\\theta}}g_{1}\\left(t, r, {\\theta}, {\\phi}\\right) - {\\left(2 \\, \\sqrt{2} M r - \\sqrt{2} r^{2}\\right)} \\frac{\\partial}{\\partial r}g_{2}\\left(t, r, {\\theta}, {\\phi}\\right)\\right)} \\sin\\left({\\theta}\\right) - 2 \\, {\\left(-2 i \\, M + i \\, r\\right)} \\frac{\\partial}{\\partial {\\phi}}g_{1}\\left(t, r, {\\theta}, {\\phi}\\right)}{2 \\, {\\left(2 \\, \\sqrt{2} M r - \\sqrt{2} r^{2}\\right)} \\sin\\left({\\theta}\\right)}$"
      ],
      "text/plain": [
       "-1/2*((2*M - r)*cos(th)*g1(t, r, th, ph) + 2*(sqrt(2)*r^2*diff(g2(t, r, th, ph), t) - (-2*I*sqrt(2)*M*M2*r + I*sqrt(2)*M2*r^2)*f2(t, r, th, ph) - (2*sqrt(2)*M - sqrt(2)*r)*g2(t, r, th, ph) + (2*M - r)*diff(g1(t, r, th, ph), th) - (2*sqrt(2)*M*r - sqrt(2)*r^2)*diff(g2(t, r, th, ph), r))*sin(th) - 2*(-2*I*M + I*r)*diff(g1(t, r, th, ph), ph))/((2*sqrt(2)*M*r - sqrt(2)*r^2)*sin(th))"
      ]
     },
     "metadata": {},
     "output_type": "display_data"
    },
    {
     "data": {
      "text/html": [
       "<html>\\(\\displaystyle -\\frac{\\sqrt{2} {\\left(r \\cos\\left({\\theta}\\right) g_{2}\\left(t, r, {\\theta}, {\\phi}\\right) + {\\left(2 i \\, \\sqrt{2} M_{2} r^{2} f_{1}\\left(t, r, {\\theta}, {\\phi}\\right) - \\sqrt{2} r^{2} \\frac{\\partial}{\\partial t}g_{1}\\left(t, r, {\\theta}, {\\phi}\\right) - {\\left(\\sqrt{2} M - \\sqrt{2} r\\right)} g_{1}\\left(t, r, {\\theta}, {\\phi}\\right) - {\\left(2 \\, \\sqrt{2} M r - \\sqrt{2} r^{2}\\right)} \\frac{\\partial}{\\partial r}g_{1}\\left(t, r, {\\theta}, {\\phi}\\right) + 2 \\, r \\frac{\\partial}{\\partial {\\theta}}g_{2}\\left(t, r, {\\theta}, {\\phi}\\right)\\right)} \\sin\\left({\\theta}\\right) - 2 i \\, r \\frac{\\partial}{\\partial {\\phi}}g_{2}\\left(t, r, {\\theta}, {\\phi}\\right)\\right)}}{4 \\, r^{2} \\sin\\left({\\theta}\\right)}\\)</html>"
      ],
      "text/latex": [
       "$\\displaystyle -\\frac{\\sqrt{2} {\\left(r \\cos\\left({\\theta}\\right) g_{2}\\left(t, r, {\\theta}, {\\phi}\\right) + {\\left(2 i \\, \\sqrt{2} M_{2} r^{2} f_{1}\\left(t, r, {\\theta}, {\\phi}\\right) - \\sqrt{2} r^{2} \\frac{\\partial}{\\partial t}g_{1}\\left(t, r, {\\theta}, {\\phi}\\right) - {\\left(\\sqrt{2} M - \\sqrt{2} r\\right)} g_{1}\\left(t, r, {\\theta}, {\\phi}\\right) - {\\left(2 \\, \\sqrt{2} M r - \\sqrt{2} r^{2}\\right)} \\frac{\\partial}{\\partial r}g_{1}\\left(t, r, {\\theta}, {\\phi}\\right) + 2 \\, r \\frac{\\partial}{\\partial {\\theta}}g_{2}\\left(t, r, {\\theta}, {\\phi}\\right)\\right)} \\sin\\left({\\theta}\\right) - 2 i \\, r \\frac{\\partial}{\\partial {\\phi}}g_{2}\\left(t, r, {\\theta}, {\\phi}\\right)\\right)}}{4 \\, r^{2} \\sin\\left({\\theta}\\right)}$"
      ],
      "text/plain": [
       "-1/4*sqrt(2)*(r*cos(th)*g2(t, r, th, ph) + (2*I*sqrt(2)*M2*r^2*f1(t, r, th, ph) - sqrt(2)*r^2*diff(g1(t, r, th, ph), t) - (sqrt(2)*M - sqrt(2)*r)*g1(t, r, th, ph) - (2*sqrt(2)*M*r - sqrt(2)*r^2)*diff(g1(t, r, th, ph), r) + 2*r*diff(g2(t, r, th, ph), th))*sin(th) - 2*I*r*diff(g2(t, r, th, ph), ph))/(r^2*sin(th))"
      ]
     },
     "metadata": {},
     "output_type": "display_data"
    }
   ],
   "source": [
    "var('M2') # mass\n",
    "f1 = MyManifold.scalar_field(function('f1')(t,r,th,ph))\n",
    "f2 = MyManifold.scalar_field(function('f2')(t,r,th,ph))\n",
    "g1 = MyManifold.scalar_field(function('g1')(t,r,th,ph))\n",
    "g2 = MyManifold.scalar_field(function('g2')(t,r,th,ph))\n",
    "schw.dirac(f1,f2,g1,g2,M2)\n",
    "show(schw.diracNP)\n",
    "show(schw.diracNP[0].expr())\n",
    "show(schw.diracNP[1].expr())\n",
    "show(schw.diracNP[2].expr())\n",
    "show(schw.diracNP[3].expr())"
   ]
  },
  {
   "cell_type": "markdown",
   "id": "5484ba77-482b-4345-9e20-b43b8c73b3b2",
   "metadata": {},
   "source": [
    "**SL(2,C) Transformations (Type A, Type B and Type C)** defined in Carmeli and Kaye, Annals of Physics 99, 188 (1976) can be calculated."
   ]
  },
  {
   "cell_type": "code",
   "execution_count": 28,
   "id": "68a88ef1-80d4-4415-84a9-b1c6f80b5da2",
   "metadata": {},
   "outputs": [
    {
     "data": {
      "text/html": [
       "<html>\\(\\displaystyle \\verb|Results|\\verb| |\\verb|of|\\verb| |\\verb|the|\\verb| |\\verb|Type|\\verb| |\\verb|A|\\verb| |\\verb|Transformations:|\\)</html>"
      ],
      "text/latex": [
       "$\\displaystyle \\verb|Results|\\verb| |\\verb|of|\\verb| |\\verb|the|\\verb| |\\verb|Type|\\verb| |\\verb|A|\\verb| |\\verb|Transformations:|$"
      ],
      "text/plain": [
       "'Results of the Type A Transformations:'"
      ]
     },
     "metadata": {},
     "output_type": "display_data"
    },
    {
     "data": {
      "text/html": [
       "<html>\\(\\displaystyle \\verb|lNP_trA=| \\left[1, \\frac{r^{2}}{2 \\, M r - r^{2}}, 0, 0\\right]\\)</html>"
      ],
      "text/latex": [
       "$\\displaystyle \\verb|lNP_trA=| \\left[1, \\frac{r^{2}}{2 \\, M r - r^{2}}, 0, 0\\right]$"
      ],
      "text/plain": [
       "'lNP_trA=' [1, r^2/(2*M*r - r^2), 0, 0]"
      ]
     },
     "metadata": {},
     "output_type": "display_data"
    },
    {
     "data": {
      "text/html": [
       "<html>\\(\\displaystyle \\verb|nNP_trA=| \\left[\\frac{2 \\, r z^{2} - 2 \\, M + r}{2 \\, r}, \\frac{2 \\, r z^{2} + 2 \\, M - r}{2 \\, {\\left(2 \\, M - r\\right)}}, -\\sqrt{2} r z, 0\\right]\\)</html>"
      ],
      "text/latex": [
       "$\\displaystyle \\verb|nNP_trA=| \\left[\\frac{2 \\, r z^{2} - 2 \\, M + r}{2 \\, r}, \\frac{2 \\, r z^{2} + 2 \\, M - r}{2 \\, {\\left(2 \\, M - r\\right)}}, -\\sqrt{2} r z, 0\\right]$"
      ],
      "text/plain": [
       "'nNP_trA=' [1/2*(2*r*z^2 - 2*M + r)/r, 1/2*(2*r*z^2 + 2*M - r)/(2*M - r), -sqrt(2)*r*z, 0]"
      ]
     },
     "metadata": {},
     "output_type": "display_data"
    },
    {
     "data": {
      "text/html": [
       "<html>\\(\\displaystyle \\verb|mNP_trA=| \\left[z, \\frac{r z}{2 \\, M - r}, -\\frac{1}{2} \\, \\sqrt{2} r, -\\frac{1}{2} i \\, \\sqrt{2} r \\sin\\left({\\theta}\\right)\\right]\\)</html>"
      ],
      "text/latex": [
       "$\\displaystyle \\verb|mNP_trA=| \\left[z, \\frac{r z}{2 \\, M - r}, -\\frac{1}{2} \\, \\sqrt{2} r, -\\frac{1}{2} i \\, \\sqrt{2} r \\sin\\left({\\theta}\\right)\\right]$"
      ],
      "text/plain": [
       "'mNP_trA=' [z, r*z/(2*M - r), -1/2*sqrt(2)*r, -1/2*I*sqrt(2)*r*sin(th)]"
      ]
     },
     "metadata": {},
     "output_type": "display_data"
    },
    {
     "data": {
      "text/html": [
       "<html>\\(\\displaystyle \\verb|mbarNP_trA=| \\left[z, \\frac{r z}{2 \\, M - r}, -\\frac{1}{2} \\, \\sqrt{2} r, \\frac{1}{2} i \\, \\sqrt{2} r \\sin\\left({\\theta}\\right)\\right]\\)</html>"
      ],
      "text/latex": [
       "$\\displaystyle \\verb|mbarNP_trA=| \\left[z, \\frac{r z}{2 \\, M - r}, -\\frac{1}{2} \\, \\sqrt{2} r, \\frac{1}{2} i \\, \\sqrt{2} r \\sin\\left({\\theta}\\right)\\right]$"
      ],
      "text/plain": [
       "'mbarNP_trA=' [z, r*z/(2*M - r), -1/2*sqrt(2)*r, 1/2*I*sqrt(2)*r*sin(th)]"
      ]
     },
     "metadata": {},
     "output_type": "display_data"
    },
    {
     "data": {
      "text/html": [
       "<html>\\(\\displaystyle \\verb|kappaNP_trA=| 0\\)</html>"
      ],
      "text/latex": [
       "$\\displaystyle \\verb|kappaNP_trA=| 0$"
      ],
      "text/plain": [
       "'kappaNP_trA=' 0"
      ]
     },
     "metadata": {},
     "output_type": "display_data"
    },
    {
     "data": {
      "text/html": [
       "<html>\\(\\displaystyle \\verb|tauNP_trA=| 0\\)</html>"
      ],
      "text/latex": [
       "$\\displaystyle \\verb|tauNP_trA=| 0$"
      ],
      "text/plain": [
       "'tauNP_trA=' 0"
      ]
     },
     "metadata": {},
     "output_type": "display_data"
    },
    {
     "data": {
      "text/html": [
       "<html>\\(\\displaystyle \\verb|sigmaNP_trA=| 0\\)</html>"
      ],
      "text/latex": [
       "$\\displaystyle \\verb|sigmaNP_trA=| 0$"
      ],
      "text/plain": [
       "'sigmaNP_trA=' 0"
      ]
     },
     "metadata": {},
     "output_type": "display_data"
    },
    {
     "data": {
      "text/html": [
       "<html>\\(\\displaystyle \\verb|rhoNP_trA=| \\frac{1}{r}\\)</html>"
      ],
      "text/latex": [
       "$\\displaystyle \\verb|rhoNP_trA=| \\frac{1}{r}$"
      ],
      "text/plain": [
       "'rhoNP_trA=' 1/r"
      ]
     },
     "metadata": {},
     "output_type": "display_data"
    },
    {
     "data": {
      "text/html": [
       "<html>\\(\\displaystyle \\verb|piNP_trA=| 0\\)</html>"
      ],
      "text/latex": [
       "$\\displaystyle \\verb|piNP_trA=| 0$"
      ],
      "text/plain": [
       "'piNP_trA=' 0"
      ]
     },
     "metadata": {},
     "output_type": "display_data"
    },
    {
     "data": {
      "text/html": [
       "<html>\\(\\displaystyle \\verb|nuNP_trA=| \\frac{z^{2}}{r}\\)</html>"
      ],
      "text/latex": [
       "$\\displaystyle \\verb|nuNP_trA=| \\frac{z^{2}}{r}$"
      ],
      "text/plain": [
       "'nuNP_trA=' z^2/r"
      ]
     },
     "metadata": {},
     "output_type": "display_data"
    },
    {
     "data": {
      "text/html": [
       "<html>\\(\\displaystyle \\verb|muNP_trA=| \\frac{2 \\, z}{r} - \\frac{2 \\, M - r}{2 \\, r^{2}}\\)</html>"
      ],
      "text/latex": [
       "$\\displaystyle \\verb|muNP_trA=| \\frac{2 \\, z}{r} - \\frac{2 \\, M - r}{2 \\, r^{2}}$"
      ],
      "text/plain": [
       "'muNP_trA=' 2*z/r - 1/2*(2*M - r)/r^2"
      ]
     },
     "metadata": {},
     "output_type": "display_data"
    },
    {
     "data": {
      "text/html": [
       "<html>\\(\\displaystyle \\verb|lambdaNP_trA=| 0\\)</html>"
      ],
      "text/latex": [
       "$\\displaystyle \\verb|lambdaNP_trA=| 0$"
      ],
      "text/plain": [
       "'lambdaNP_trA=' 0"
      ]
     },
     "metadata": {},
     "output_type": "display_data"
    },
    {
     "data": {
      "text/html": [
       "<html>\\(\\displaystyle \\verb|epsilonNP_trA=| 0\\)</html>"
      ],
      "text/latex": [
       "$\\displaystyle \\verb|epsilonNP_trA=| 0$"
      ],
      "text/plain": [
       "'epsilonNP_trA=' 0"
      ]
     },
     "metadata": {},
     "output_type": "display_data"
    },
    {
     "data": {
      "text/html": [
       "<html>\\(\\displaystyle \\verb|gammaNP_trA=| -\\frac{\\sqrt{2} z \\cos\\left({\\theta}\\right)}{4 \\, r \\sin\\left({\\theta}\\right)} + \\frac{\\overline{z}}{r} - \\frac{M}{2 \\, r^{2}}\\)</html>"
      ],
      "text/latex": [
       "$\\displaystyle \\verb|gammaNP_trA=| -\\frac{\\sqrt{2} z \\cos\\left({\\theta}\\right)}{4 \\, r \\sin\\left({\\theta}\\right)} + \\frac{\\overline{z}}{r} - \\frac{M}{2 \\, r^{2}}$"
      ],
      "text/plain": [
       "'gammaNP_trA=' -1/4*sqrt(2)*z*cos(th)/(r*sin(th)) + conjugate(z)/r - 1/2*M/r^2"
      ]
     },
     "metadata": {},
     "output_type": "display_data"
    },
    {
     "data": {
      "text/html": [
       "<html>\\(\\displaystyle \\verb|betaNP_trA=| -\\frac{\\sqrt{2} \\cos\\left({\\theta}\\right)}{4 \\, r \\sin\\left({\\theta}\\right)}\\)</html>"
      ],
      "text/latex": [
       "$\\displaystyle \\verb|betaNP_trA=| -\\frac{\\sqrt{2} \\cos\\left({\\theta}\\right)}{4 \\, r \\sin\\left({\\theta}\\right)}$"
      ],
      "text/plain": [
       "'betaNP_trA=' -1/4*sqrt(2)*cos(th)/(r*sin(th))"
      ]
     },
     "metadata": {},
     "output_type": "display_data"
    },
    {
     "data": {
      "text/html": [
       "<html>\\(\\displaystyle \\verb|alphaNP_trA=| \\frac{z}{r} + \\frac{\\sqrt{2} \\cos\\left({\\theta}\\right)}{4 \\, r \\sin\\left({\\theta}\\right)}\\)</html>"
      ],
      "text/latex": [
       "$\\displaystyle \\verb|alphaNP_trA=| \\frac{z}{r} + \\frac{\\sqrt{2} \\cos\\left({\\theta}\\right)}{4 \\, r \\sin\\left({\\theta}\\right)}$"
      ],
      "text/plain": [
       "'alphaNP_trA=' z/r + 1/4*sqrt(2)*cos(th)/(r*sin(th))"
      ]
     },
     "metadata": {},
     "output_type": "display_data"
    },
    {
     "data": {
      "text/html": [
       "<html>\\(\\displaystyle \\verb|Psi0NP_trA=| 0\\)</html>"
      ],
      "text/latex": [
       "$\\displaystyle \\verb|Psi0NP_trA=| 0$"
      ],
      "text/plain": [
       "'Psi0NP_trA=' 0"
      ]
     },
     "metadata": {},
     "output_type": "display_data"
    },
    {
     "data": {
      "text/html": [
       "<html>\\(\\displaystyle \\verb|Psi1NP_trA=| 0\\)</html>"
      ],
      "text/latex": [
       "$\\displaystyle \\verb|Psi1NP_trA=| 0$"
      ],
      "text/plain": [
       "'Psi1NP_trA=' 0"
      ]
     },
     "metadata": {},
     "output_type": "display_data"
    },
    {
     "data": {
      "text/html": [
       "<html>\\(\\displaystyle \\verb|Psi2NP_trA=| -\\frac{M}{r^{3}}\\)</html>"
      ],
      "text/latex": [
       "$\\displaystyle \\verb|Psi2NP_trA=| -\\frac{M}{r^{3}}$"
      ],
      "text/plain": [
       "'Psi2NP_trA=' -M/r^3"
      ]
     },
     "metadata": {},
     "output_type": "display_data"
    },
    {
     "data": {
      "text/html": [
       "<html>\\(\\displaystyle \\verb|Psi3NP_trA=| -\\frac{3 \\, M z}{r^{3}}\\)</html>"
      ],
      "text/latex": [
       "$\\displaystyle \\verb|Psi3NP_trA=| -\\frac{3 \\, M z}{r^{3}}$"
      ],
      "text/plain": [
       "'Psi3NP_trA=' -3*M*z/r^3"
      ]
     },
     "metadata": {},
     "output_type": "display_data"
    },
    {
     "data": {
      "text/html": [
       "<html>\\(\\displaystyle \\verb|Psi4NP_trA=| -\\frac{6 \\, M z^{2}}{r^{3}}\\)</html>"
      ],
      "text/latex": [
       "$\\displaystyle \\verb|Psi4NP_trA=| -\\frac{6 \\, M z^{2}}{r^{3}}$"
      ],
      "text/plain": [
       "'Psi4NP_trA=' -6*M*z^2/r^3"
      ]
     },
     "metadata": {},
     "output_type": "display_data"
    },
    {
     "data": {
      "text/html": [
       "<html>\\(\\displaystyle \\verb|Phi00NP_trA=| 0\\)</html>"
      ],
      "text/latex": [
       "$\\displaystyle \\verb|Phi00NP_trA=| 0$"
      ],
      "text/plain": [
       "'Phi00NP_trA=' 0"
      ]
     },
     "metadata": {},
     "output_type": "display_data"
    },
    {
     "data": {
      "text/html": [
       "<html>\\(\\displaystyle \\verb|Phi01NP_trA=| 0\\)</html>"
      ],
      "text/latex": [
       "$\\displaystyle \\verb|Phi01NP_trA=| 0$"
      ],
      "text/plain": [
       "'Phi01NP_trA=' 0"
      ]
     },
     "metadata": {},
     "output_type": "display_data"
    },
    {
     "data": {
      "text/html": [
       "<html>\\(\\displaystyle \\verb|Phi02NP_trA=| 0\\)</html>"
      ],
      "text/latex": [
       "$\\displaystyle \\verb|Phi02NP_trA=| 0$"
      ],
      "text/plain": [
       "'Phi02NP_trA=' 0"
      ]
     },
     "metadata": {},
     "output_type": "display_data"
    },
    {
     "data": {
      "text/html": [
       "<html>\\(\\displaystyle \\verb|Phi10NP_trA=| 0\\)</html>"
      ],
      "text/latex": [
       "$\\displaystyle \\verb|Phi10NP_trA=| 0$"
      ],
      "text/plain": [
       "'Phi10NP_trA=' 0"
      ]
     },
     "metadata": {},
     "output_type": "display_data"
    },
    {
     "data": {
      "text/html": [
       "<html>\\(\\displaystyle \\verb|Phi11NP_trA=| 0\\)</html>"
      ],
      "text/latex": [
       "$\\displaystyle \\verb|Phi11NP_trA=| 0$"
      ],
      "text/plain": [
       "'Phi11NP_trA=' 0"
      ]
     },
     "metadata": {},
     "output_type": "display_data"
    },
    {
     "data": {
      "text/html": [
       "<html>\\(\\displaystyle \\verb|Phi12NP_trA=| 0\\)</html>"
      ],
      "text/latex": [
       "$\\displaystyle \\verb|Phi12NP_trA=| 0$"
      ],
      "text/plain": [
       "'Phi12NP_trA=' 0"
      ]
     },
     "metadata": {},
     "output_type": "display_data"
    },
    {
     "data": {
      "text/html": [
       "<html>\\(\\displaystyle \\verb|Phi20NP_trA=| 0\\)</html>"
      ],
      "text/latex": [
       "$\\displaystyle \\verb|Phi20NP_trA=| 0$"
      ],
      "text/plain": [
       "'Phi20NP_trA=' 0"
      ]
     },
     "metadata": {},
     "output_type": "display_data"
    },
    {
     "data": {
      "text/html": [
       "<html>\\(\\displaystyle \\verb|Phi21NP_trA=| 0\\)</html>"
      ],
      "text/latex": [
       "$\\displaystyle \\verb|Phi21NP_trA=| 0$"
      ],
      "text/plain": [
       "'Phi21NP_trA=' 0"
      ]
     },
     "metadata": {},
     "output_type": "display_data"
    },
    {
     "data": {
      "text/html": [
       "<html>\\(\\displaystyle \\verb|Phi22NP_trA=| 0\\)</html>"
      ],
      "text/latex": [
       "$\\displaystyle \\verb|Phi22NP_trA=| 0$"
      ],
      "text/plain": [
       "'Phi22NP_trA=' 0"
      ]
     },
     "metadata": {},
     "output_type": "display_data"
    },
    {
     "data": {
      "text/html": [
       "<html>\\(\\displaystyle \\verb|LambdaNP_trA=| 0\\)</html>"
      ],
      "text/latex": [
       "$\\displaystyle \\verb|LambdaNP_trA=| 0$"
      ],
      "text/plain": [
       "'LambdaNP_trA=' 0"
      ]
     },
     "metadata": {},
     "output_type": "display_data"
    },
    {
     "data": {
      "text/html": [
       "<html>\\(\\displaystyle \\verb|Results|\\verb| |\\verb|of|\\verb| |\\verb|the|\\verb| |\\verb|Type|\\verb| |\\verb|B|\\verb| |\\verb|Transformations:|\\)</html>"
      ],
      "text/latex": [
       "$\\displaystyle \\verb|Results|\\verb| |\\verb|of|\\verb| |\\verb|the|\\verb| |\\verb|Type|\\verb| |\\verb|B|\\verb| |\\verb|Transformations:|$"
      ],
      "text/plain": [
       "'Results of the Type B Transformations:'"
      ]
     },
     "metadata": {},
     "output_type": "display_data"
    },
    {
     "data": {
      "text/html": [
       "<html>\\(\\displaystyle \\verb|lNP_trB=| \\left[{\\left| z \\right|}^{2}, \\frac{r^{2} {\\left| z \\right|}^{2}}{2 \\, M r - r^{2}}, 0, 0\\right]\\)</html>"
      ],
      "text/latex": [
       "$\\displaystyle \\verb|lNP_trB=| \\left[{\\left| z \\right|}^{2}, \\frac{r^{2} {\\left| z \\right|}^{2}}{2 \\, M r - r^{2}}, 0, 0\\right]$"
      ],
      "text/plain": [
       "'lNP_trB=' [abs(z)^2, r^2*abs(z)^2/(2*M*r - r^2), 0, 0]"
      ]
     },
     "metadata": {},
     "output_type": "display_data"
    },
    {
     "data": {
      "text/html": [
       "<html>\\(\\displaystyle \\verb|nNP_trB=| \\left[-\\frac{2 \\, M r - r^{2}}{2 \\, r^{2} {\\left| z \\right|}^{2}}, \\frac{1}{2 \\, {\\left| z \\right|}^{2}}, 0, 0\\right]\\)</html>"
      ],
      "text/latex": [
       "$\\displaystyle \\verb|nNP_trB=| \\left[-\\frac{2 \\, M r - r^{2}}{2 \\, r^{2} {\\left| z \\right|}^{2}}, \\frac{1}{2 \\, {\\left| z \\right|}^{2}}, 0, 0\\right]$"
      ],
      "text/plain": [
       "'nNP_trB=' [-1/2*(2*M*r - r^2)/(r^2*abs(z)^2), 1/2/abs(z)^2, 0, 0]"
      ]
     },
     "metadata": {},
     "output_type": "display_data"
    },
    {
     "data": {
      "text/html": [
       "<html>\\(\\displaystyle \\verb|mNP_trB=| \\left[0, 0, -\\frac{\\sqrt{2} r \\overline{z}}{2 \\, {\\left| z \\right|}}, -\\frac{i \\, \\sqrt{2} r \\overline{z} \\sin\\left({\\theta}\\right)}{2 \\, {\\left| z \\right|}}\\right]\\)</html>"
      ],
      "text/latex": [
       "$\\displaystyle \\verb|mNP_trB=| \\left[0, 0, -\\frac{\\sqrt{2} r \\overline{z}}{2 \\, {\\left| z \\right|}}, -\\frac{i \\, \\sqrt{2} r \\overline{z} \\sin\\left({\\theta}\\right)}{2 \\, {\\left| z \\right|}}\\right]$"
      ],
      "text/plain": [
       "'mNP_trB=' [0,\n",
       " 0,\n",
       " -1/2*sqrt(2)*r*conjugate(z)/abs(z),\n",
       " -1/2*I*sqrt(2)*r*conjugate(z)*sin(th)/abs(z)]"
      ]
     },
     "metadata": {},
     "output_type": "display_data"
    },
    {
     "data": {
      "text/html": [
       "<html>\\(\\displaystyle \\verb|mbarNP_trB=| \\left[0, 0, -\\frac{\\sqrt{2} r z}{2 \\, {\\left| z \\right|}}, \\frac{i \\, \\sqrt{2} r z \\sin\\left({\\theta}\\right)}{2 \\, {\\left| z \\right|}}\\right]\\)</html>"
      ],
      "text/latex": [
       "$\\displaystyle \\verb|mbarNP_trB=| \\left[0, 0, -\\frac{\\sqrt{2} r z}{2 \\, {\\left| z \\right|}}, \\frac{i \\, \\sqrt{2} r z \\sin\\left({\\theta}\\right)}{2 \\, {\\left| z \\right|}}\\right]$"
      ],
      "text/plain": [
       "'mbarNP_trB=' [0, 0, -1/2*sqrt(2)*r*z/abs(z), 1/2*I*sqrt(2)*r*z*sin(th)/abs(z)]"
      ]
     },
     "metadata": {},
     "output_type": "display_data"
    },
    {
     "data": {
      "text/html": [
       "<html>\\(\\displaystyle \\verb|kappaNP_trB=| 0\\)</html>"
      ],
      "text/latex": [
       "$\\displaystyle \\verb|kappaNP_trB=| 0$"
      ],
      "text/plain": [
       "'kappaNP_trB=' 0"
      ]
     },
     "metadata": {},
     "output_type": "display_data"
    },
    {
     "data": {
      "text/html": [
       "<html>\\(\\displaystyle \\verb|tauNP_trB=| 0\\)</html>"
      ],
      "text/latex": [
       "$\\displaystyle \\verb|tauNP_trB=| 0$"
      ],
      "text/plain": [
       "'tauNP_trB=' 0"
      ]
     },
     "metadata": {},
     "output_type": "display_data"
    },
    {
     "data": {
      "text/html": [
       "<html>\\(\\displaystyle \\verb|sigmaNP_trB=| 0\\)</html>"
      ],
      "text/latex": [
       "$\\displaystyle \\verb|sigmaNP_trB=| 0$"
      ],
      "text/plain": [
       "'sigmaNP_trB=' 0"
      ]
     },
     "metadata": {},
     "output_type": "display_data"
    },
    {
     "data": {
      "text/html": [
       "<html>\\(\\displaystyle \\verb|rhoNP_trB=| \\frac{z \\overline{z}}{r}\\)</html>"
      ],
      "text/latex": [
       "$\\displaystyle \\verb|rhoNP_trB=| \\frac{z \\overline{z}}{r}$"
      ],
      "text/plain": [
       "'rhoNP_trB=' z*conjugate(z)/r"
      ]
     },
     "metadata": {},
     "output_type": "display_data"
    },
    {
     "data": {
      "text/html": [
       "<html>\\(\\displaystyle \\verb|piNP_trB=| 0\\)</html>"
      ],
      "text/latex": [
       "$\\displaystyle \\verb|piNP_trB=| 0$"
      ],
      "text/plain": [
       "'piNP_trB=' 0"
      ]
     },
     "metadata": {},
     "output_type": "display_data"
    },
    {
     "data": {
      "text/html": [
       "<html>\\(\\displaystyle \\verb|nuNP_trB=| 0\\)</html>"
      ],
      "text/latex": [
       "$\\displaystyle \\verb|nuNP_trB=| 0$"
      ],
      "text/plain": [
       "'nuNP_trB=' 0"
      ]
     },
     "metadata": {},
     "output_type": "display_data"
    },
    {
     "data": {
      "text/html": [
       "<html>\\(\\displaystyle \\verb|muNP_trB=| -\\frac{2 \\, M - r}{2 \\, r^{2} z \\overline{z}}\\)</html>"
      ],
      "text/latex": [
       "$\\displaystyle \\verb|muNP_trB=| -\\frac{2 \\, M - r}{2 \\, r^{2} z \\overline{z}}$"
      ],
      "text/plain": [
       "'muNP_trB=' -1/2*(2*M - r)/(r^2*z*conjugate(z))"
      ]
     },
     "metadata": {},
     "output_type": "display_data"
    },
    {
     "data": {
      "text/html": [
       "<html>\\(\\displaystyle \\verb|lambdaNP_trB=| 0\\)</html>"
      ],
      "text/latex": [
       "$\\displaystyle \\verb|lambdaNP_trB=| 0$"
      ],
      "text/plain": [
       "'lambdaNP_trB=' 0"
      ]
     },
     "metadata": {},
     "output_type": "display_data"
    },
    {
     "data": {
      "text/html": [
       "<html>\\(\\displaystyle \\verb|epsilonNP_trB=| 0\\)</html>"
      ],
      "text/latex": [
       "$\\displaystyle \\verb|epsilonNP_trB=| 0$"
      ],
      "text/plain": [
       "'epsilonNP_trB=' 0"
      ]
     },
     "metadata": {},
     "output_type": "display_data"
    },
    {
     "data": {
      "text/html": [
       "<html>\\(\\displaystyle \\verb|gammaNP_trB=| -\\frac{M}{2 \\, r^{2} z \\overline{z}}\\)</html>"
      ],
      "text/latex": [
       "$\\displaystyle \\verb|gammaNP_trB=| -\\frac{M}{2 \\, r^{2} z \\overline{z}}$"
      ],
      "text/plain": [
       "'gammaNP_trB=' -1/2*M/(r^2*z*conjugate(z))"
      ]
     },
     "metadata": {},
     "output_type": "display_data"
    },
    {
     "data": {
      "text/html": [
       "<html>\\(\\displaystyle \\verb|betaNP_trB=| -\\frac{\\sqrt{2} \\overline{z} \\cos\\left({\\theta}\\right)}{4 \\, r z \\sin\\left({\\theta}\\right)}\\)</html>"
      ],
      "text/latex": [
       "$\\displaystyle \\verb|betaNP_trB=| -\\frac{\\sqrt{2} \\overline{z} \\cos\\left({\\theta}\\right)}{4 \\, r z \\sin\\left({\\theta}\\right)}$"
      ],
      "text/plain": [
       "'betaNP_trB=' -1/4*sqrt(2)*conjugate(z)*cos(th)/(r*z*sin(th))"
      ]
     },
     "metadata": {},
     "output_type": "display_data"
    },
    {
     "data": {
      "text/html": [
       "<html>\\(\\displaystyle \\verb|alphaNP_trB=| \\frac{\\sqrt{2} \\overline{z} \\cos\\left({\\theta}\\right)}{4 \\, r z \\sin\\left({\\theta}\\right)}\\)</html>"
      ],
      "text/latex": [
       "$\\displaystyle \\verb|alphaNP_trB=| \\frac{\\sqrt{2} \\overline{z} \\cos\\left({\\theta}\\right)}{4 \\, r z \\sin\\left({\\theta}\\right)}$"
      ],
      "text/plain": [
       "'alphaNP_trB=' 1/4*sqrt(2)*conjugate(z)*cos(th)/(r*z*sin(th))"
      ]
     },
     "metadata": {},
     "output_type": "display_data"
    },
    {
     "data": {
      "text/html": [
       "<html>\\(\\displaystyle \\verb|Psi0NP_trB=| 0\\)</html>"
      ],
      "text/latex": [
       "$\\displaystyle \\verb|Psi0NP_trB=| 0$"
      ],
      "text/plain": [
       "'Psi0NP_trB=' 0"
      ]
     },
     "metadata": {},
     "output_type": "display_data"
    },
    {
     "data": {
      "text/html": [
       "<html>\\(\\displaystyle \\verb|Psi1NP_trB=| 0\\)</html>"
      ],
      "text/latex": [
       "$\\displaystyle \\verb|Psi1NP_trB=| 0$"
      ],
      "text/plain": [
       "'Psi1NP_trB=' 0"
      ]
     },
     "metadata": {},
     "output_type": "display_data"
    },
    {
     "data": {
      "text/html": [
       "<html>\\(\\displaystyle \\verb|Psi2NP_trB=| -\\frac{M z^{2}}{r^{3}}\\)</html>"
      ],
      "text/latex": [
       "$\\displaystyle \\verb|Psi2NP_trB=| -\\frac{M z^{2}}{r^{3}}$"
      ],
      "text/plain": [
       "'Psi2NP_trB=' -M*z^2/r^3"
      ]
     },
     "metadata": {},
     "output_type": "display_data"
    },
    {
     "data": {
      "text/html": [
       "<html>\\(\\displaystyle \\verb|Psi3NP_trB=| 0\\)</html>"
      ],
      "text/latex": [
       "$\\displaystyle \\verb|Psi3NP_trB=| 0$"
      ],
      "text/plain": [
       "'Psi3NP_trB=' 0"
      ]
     },
     "metadata": {},
     "output_type": "display_data"
    },
    {
     "data": {
      "text/html": [
       "<html>\\(\\displaystyle \\verb|Psi4NP_trB=| 0\\)</html>"
      ],
      "text/latex": [
       "$\\displaystyle \\verb|Psi4NP_trB=| 0$"
      ],
      "text/plain": [
       "'Psi4NP_trB=' 0"
      ]
     },
     "metadata": {},
     "output_type": "display_data"
    },
    {
     "data": {
      "text/html": [
       "<html>\\(\\displaystyle \\verb|Phi00NP_trB=| 0\\)</html>"
      ],
      "text/latex": [
       "$\\displaystyle \\verb|Phi00NP_trB=| 0$"
      ],
      "text/plain": [
       "'Phi00NP_trB=' 0"
      ]
     },
     "metadata": {},
     "output_type": "display_data"
    },
    {
     "data": {
      "text/html": [
       "<html>\\(\\displaystyle \\verb|Phi01NP_trB=| 0\\)</html>"
      ],
      "text/latex": [
       "$\\displaystyle \\verb|Phi01NP_trB=| 0$"
      ],
      "text/plain": [
       "'Phi01NP_trB=' 0"
      ]
     },
     "metadata": {},
     "output_type": "display_data"
    },
    {
     "data": {
      "text/html": [
       "<html>\\(\\displaystyle \\verb|Phi02NP_trB=| 0\\)</html>"
      ],
      "text/latex": [
       "$\\displaystyle \\verb|Phi02NP_trB=| 0$"
      ],
      "text/plain": [
       "'Phi02NP_trB=' 0"
      ]
     },
     "metadata": {},
     "output_type": "display_data"
    },
    {
     "data": {
      "text/html": [
       "<html>\\(\\displaystyle \\verb|Phi10NP_trB=| 0\\)</html>"
      ],
      "text/latex": [
       "$\\displaystyle \\verb|Phi10NP_trB=| 0$"
      ],
      "text/plain": [
       "'Phi10NP_trB=' 0"
      ]
     },
     "metadata": {},
     "output_type": "display_data"
    },
    {
     "data": {
      "text/html": [
       "<html>\\(\\displaystyle \\verb|Phi11NP_trB=| 0\\)</html>"
      ],
      "text/latex": [
       "$\\displaystyle \\verb|Phi11NP_trB=| 0$"
      ],
      "text/plain": [
       "'Phi11NP_trB=' 0"
      ]
     },
     "metadata": {},
     "output_type": "display_data"
    },
    {
     "data": {
      "text/html": [
       "<html>\\(\\displaystyle \\verb|Phi12NP_trB=| 0\\)</html>"
      ],
      "text/latex": [
       "$\\displaystyle \\verb|Phi12NP_trB=| 0$"
      ],
      "text/plain": [
       "'Phi12NP_trB=' 0"
      ]
     },
     "metadata": {},
     "output_type": "display_data"
    },
    {
     "data": {
      "text/html": [
       "<html>\\(\\displaystyle \\verb|Phi20NP_trB=| 0\\)</html>"
      ],
      "text/latex": [
       "$\\displaystyle \\verb|Phi20NP_trB=| 0$"
      ],
      "text/plain": [
       "'Phi20NP_trB=' 0"
      ]
     },
     "metadata": {},
     "output_type": "display_data"
    },
    {
     "data": {
      "text/html": [
       "<html>\\(\\displaystyle \\verb|Phi21NP_trB=| 0\\)</html>"
      ],
      "text/latex": [
       "$\\displaystyle \\verb|Phi21NP_trB=| 0$"
      ],
      "text/plain": [
       "'Phi21NP_trB=' 0"
      ]
     },
     "metadata": {},
     "output_type": "display_data"
    },
    {
     "data": {
      "text/html": [
       "<html>\\(\\displaystyle \\verb|Phi22NP_trB=| 0\\)</html>"
      ],
      "text/latex": [
       "$\\displaystyle \\verb|Phi22NP_trB=| 0$"
      ],
      "text/plain": [
       "'Phi22NP_trB=' 0"
      ]
     },
     "metadata": {},
     "output_type": "display_data"
    },
    {
     "data": {
      "text/html": [
       "<html>\\(\\displaystyle \\verb|LambdaNP_trB=| 0\\)</html>"
      ],
      "text/latex": [
       "$\\displaystyle \\verb|LambdaNP_trB=| 0$"
      ],
      "text/plain": [
       "'LambdaNP_trB=' 0"
      ]
     },
     "metadata": {},
     "output_type": "display_data"
    },
    {
     "data": {
      "text/html": [
       "<html>\\(\\displaystyle \\verb|Results|\\verb| |\\verb|of|\\verb| |\\verb|the|\\verb| |\\verb|Type|\\verb| |\\verb|C|\\verb| |\\verb|Transformations:|\\)</html>"
      ],
      "text/latex": [
       "$\\displaystyle \\verb|Results|\\verb| |\\verb|of|\\verb| |\\verb|the|\\verb| |\\verb|Type|\\verb| |\\verb|C|\\verb| |\\verb|Transformations:|$"
      ],
      "text/plain": [
       "'Results of the Type C Transformations:'"
      ]
     },
     "metadata": {},
     "output_type": "display_data"
    },
    {
     "data": {
      "text/html": [
       "<html>\\(\\displaystyle \\verb|lNP_trC=| \\left[-\\frac{{\\left(2 \\, M - r\\right)} z^{2} - 2 \\, r}{2 \\, r}, \\frac{{\\left(2 \\, M - r\\right)} z^{2} + 2 \\, r}{2 \\, {\\left(2 \\, M - r\\right)}}, -\\sqrt{2} r z, 0\\right]\\)</html>"
      ],
      "text/latex": [
       "$\\displaystyle \\verb|lNP_trC=| \\left[-\\frac{{\\left(2 \\, M - r\\right)} z^{2} - 2 \\, r}{2 \\, r}, \\frac{{\\left(2 \\, M - r\\right)} z^{2} + 2 \\, r}{2 \\, {\\left(2 \\, M - r\\right)}}, -\\sqrt{2} r z, 0\\right]$"
      ],
      "text/plain": [
       "'lNP_trC=' [-1/2*((2*M - r)*z^2 - 2*r)/r,\n",
       " 1/2*((2*M - r)*z^2 + 2*r)/(2*M - r),\n",
       " -sqrt(2)*r*z,\n",
       " 0]"
      ]
     },
     "metadata": {},
     "output_type": "display_data"
    },
    {
     "data": {
      "text/html": [
       "<html>\\(\\displaystyle \\verb|nNP_trC=| \\left[-\\frac{2 \\, M r - r^{2}}{2 \\, r^{2}}, \\frac{1}{2}, 0, 0\\right]\\)</html>"
      ],
      "text/latex": [
       "$\\displaystyle \\verb|nNP_trC=| \\left[-\\frac{2 \\, M r - r^{2}}{2 \\, r^{2}}, \\frac{1}{2}, 0, 0\\right]$"
      ],
      "text/plain": [
       "'nNP_trC=' [-1/2*(2*M*r - r^2)/r^2, 1/2, 0, 0]"
      ]
     },
     "metadata": {},
     "output_type": "display_data"
    },
    {
     "data": {
      "text/html": [
       "<html>\\(\\displaystyle \\verb|mNP_trC=| \\left[-\\frac{{\\left(2 \\, M - r\\right)} z}{2 \\, r}, \\frac{1}{2} \\, z, -\\frac{1}{2} \\, \\sqrt{2} r, -\\frac{1}{2} i \\, \\sqrt{2} r \\sin\\left({\\theta}\\right)\\right]\\)</html>"
      ],
      "text/latex": [
       "$\\displaystyle \\verb|mNP_trC=| \\left[-\\frac{{\\left(2 \\, M - r\\right)} z}{2 \\, r}, \\frac{1}{2} \\, z, -\\frac{1}{2} \\, \\sqrt{2} r, -\\frac{1}{2} i \\, \\sqrt{2} r \\sin\\left({\\theta}\\right)\\right]$"
      ],
      "text/plain": [
       "'mNP_trC=' [-1/2*(2*M - r)*z/r, 1/2*z, -1/2*sqrt(2)*r, -1/2*I*sqrt(2)*r*sin(th)]"
      ]
     },
     "metadata": {},
     "output_type": "display_data"
    },
    {
     "data": {
      "text/html": [
       "<html>\\(\\displaystyle \\verb|mbarNP_trC=| \\left[-\\frac{{\\left(2 \\, M - r\\right)} z}{2 \\, r}, \\frac{1}{2} \\, z, -\\frac{1}{2} \\, \\sqrt{2} r, \\frac{1}{2} i \\, \\sqrt{2} r \\sin\\left({\\theta}\\right)\\right]\\)</html>"
      ],
      "text/latex": [
       "$\\displaystyle \\verb|mbarNP_trC=| \\left[-\\frac{{\\left(2 \\, M - r\\right)} z}{2 \\, r}, \\frac{1}{2} \\, z, -\\frac{1}{2} \\, \\sqrt{2} r, \\frac{1}{2} i \\, \\sqrt{2} r \\sin\\left({\\theta}\\right)\\right]$"
      ],
      "text/plain": [
       "'mbarNP_trC=' [-1/2*(2*M - r)*z/r, 1/2*z, -1/2*sqrt(2)*r, 1/2*I*sqrt(2)*r*sin(th)]"
      ]
     },
     "metadata": {},
     "output_type": "display_data"
    },
    {
     "data": {
      "text/html": [
       "<html>\\(\\displaystyle \\verb|kappaNP_trC=| -\\frac{1}{2} \\, z^{2} {\\left(\\frac{2 \\, M - r}{r^{2}} + \\frac{2 \\, M}{r^{2}}\\right)} \\overline{z} + \\frac{\\sqrt{2} z^{2} \\cos\\left({\\theta}\\right)}{2 \\, r \\sin\\left({\\theta}\\right)} - \\frac{\\sqrt{2} z \\overline{z} \\cos\\left({\\theta}\\right)}{4 \\, r \\sin\\left({\\theta}\\right)}\\)</html>"
      ],
      "text/latex": [
       "$\\displaystyle \\verb|kappaNP_trC=| -\\frac{1}{2} \\, z^{2} {\\left(\\frac{2 \\, M - r}{r^{2}} + \\frac{2 \\, M}{r^{2}}\\right)} \\overline{z} + \\frac{\\sqrt{2} z^{2} \\cos\\left({\\theta}\\right)}{2 \\, r \\sin\\left({\\theta}\\right)} - \\frac{\\sqrt{2} z \\overline{z} \\cos\\left({\\theta}\\right)}{4 \\, r \\sin\\left({\\theta}\\right)}$"
      ],
      "text/plain": [
       "'kappaNP_trC=' -1/2*z^2*((2*M - r)/r^2 + 2*M/r^2)*conjugate(z) + 1/2*sqrt(2)*z^2*cos(th)/(r*sin(th)) - 1/4*sqrt(2)*z*conjugate(z)*cos(th)/(r*sin(th))"
      ]
     },
     "metadata": {},
     "output_type": "display_data"
    },
    {
     "data": {
      "text/html": [
       "<html>\\(\\displaystyle \\verb|tauNP_trC=| -\\frac{M z}{r^{2}}\\)</html>"
      ],
      "text/latex": [
       "$\\displaystyle \\verb|tauNP_trC=| -\\frac{M z}{r^{2}}$"
      ],
      "text/plain": [
       "'tauNP_trC=' -M*z/r^2"
      ]
     },
     "metadata": {},
     "output_type": "display_data"
    },
    {
     "data": {
      "text/html": [
       "<html>\\(\\displaystyle \\verb|sigmaNP_trC=| -\\frac{1}{2} \\, z^{2} {\\left(\\frac{2 \\, M - r}{r^{2}} + \\frac{2 \\, M}{r^{2}}\\right)} - \\frac{\\sqrt{2} z \\cos\\left({\\theta}\\right)}{2 \\, r \\sin\\left({\\theta}\\right)}\\)</html>"
      ],
      "text/latex": [
       "$\\displaystyle \\verb|sigmaNP_trC=| -\\frac{1}{2} \\, z^{2} {\\left(\\frac{2 \\, M - r}{r^{2}} + \\frac{2 \\, M}{r^{2}}\\right)} - \\frac{\\sqrt{2} z \\cos\\left({\\theta}\\right)}{2 \\, r \\sin\\left({\\theta}\\right)}$"
      ],
      "text/plain": [
       "'sigmaNP_trC=' -1/2*z^2*((2*M - r)/r^2 + 2*M/r^2) - 1/2*sqrt(2)*z*cos(th)/(r*sin(th))"
      ]
     },
     "metadata": {},
     "output_type": "display_data"
    },
    {
     "data": {
      "text/html": [
       "<html>\\(\\displaystyle \\verb|rhoNP_trC=| -\\frac{{\\left(2 \\, M - r\\right)} z}{2 \\, r^{2}} - \\frac{{\\left(2 \\, M - r\\right)} \\overline{z}}{2 \\, r^{2}} + \\frac{1}{r}\\)</html>"
      ],
      "text/latex": [
       "$\\displaystyle \\verb|rhoNP_trC=| -\\frac{{\\left(2 \\, M - r\\right)} z}{2 \\, r^{2}} - \\frac{{\\left(2 \\, M - r\\right)} \\overline{z}}{2 \\, r^{2}} + \\frac{1}{r}$"
      ],
      "text/plain": [
       "'rhoNP_trC=' -1/2*(2*M - r)*z/r^2 - 1/2*(2*M - r)*conjugate(z)/r^2 + 1/r"
      ]
     },
     "metadata": {},
     "output_type": "display_data"
    },
    {
     "data": {
      "text/html": [
       "<html>\\(\\displaystyle \\verb|piNP_trC=| 0\\)</html>"
      ],
      "text/latex": [
       "$\\displaystyle \\verb|piNP_trC=| 0$"
      ],
      "text/plain": [
       "'piNP_trC=' 0"
      ]
     },
     "metadata": {},
     "output_type": "display_data"
    },
    {
     "data": {
      "text/html": [
       "<html>\\(\\displaystyle \\verb|nuNP_trC=| 0\\)</html>"
      ],
      "text/latex": [
       "$\\displaystyle \\verb|nuNP_trC=| 0$"
      ],
      "text/plain": [
       "'nuNP_trC=' 0"
      ]
     },
     "metadata": {},
     "output_type": "display_data"
    },
    {
     "data": {
      "text/html": [
       "<html>\\(\\displaystyle \\verb|muNP_trC=| -\\frac{M z \\overline{z}}{r^{2}} + \\frac{\\sqrt{2} z \\cos\\left({\\theta}\\right)}{2 \\, r \\sin\\left({\\theta}\\right)} - \\frac{2 \\, M - r}{2 \\, r^{2}}\\)</html>"
      ],
      "text/latex": [
       "$\\displaystyle \\verb|muNP_trC=| -\\frac{M z \\overline{z}}{r^{2}} + \\frac{\\sqrt{2} z \\cos\\left({\\theta}\\right)}{2 \\, r \\sin\\left({\\theta}\\right)} - \\frac{2 \\, M - r}{2 \\, r^{2}}$"
      ],
      "text/plain": [
       "'muNP_trC=' -M*z*conjugate(z)/r^2 + 1/2*sqrt(2)*z*cos(th)/(r*sin(th)) - 1/2*(2*M - r)/r^2"
      ]
     },
     "metadata": {},
     "output_type": "display_data"
    },
    {
     "data": {
      "text/html": [
       "<html>\\(\\displaystyle \\verb|lambdaNP_trC=| 0\\)</html>"
      ],
      "text/latex": [
       "$\\displaystyle \\verb|lambdaNP_trC=| 0$"
      ],
      "text/plain": [
       "'lambdaNP_trC=' 0"
      ]
     },
     "metadata": {},
     "output_type": "display_data"
    },
    {
     "data": {
      "text/html": [
       "<html>\\(\\displaystyle \\verb|epsilonNP_trC=| -\\frac{1}{2} \\, z {\\left(\\frac{2 \\, M - r}{r^{2}} + \\frac{M}{r^{2}}\\right)} \\overline{z} - \\frac{\\sqrt{2} z \\overline{z} \\cos\\left({\\theta}\\right)}{4 \\, r \\sin\\left({\\theta}\\right)} + \\frac{\\sqrt{2} z \\cos\\left({\\theta}\\right)}{4 \\, r \\sin\\left({\\theta}\\right)}\\)</html>"
      ],
      "text/latex": [
       "$\\displaystyle \\verb|epsilonNP_trC=| -\\frac{1}{2} \\, z {\\left(\\frac{2 \\, M - r}{r^{2}} + \\frac{M}{r^{2}}\\right)} \\overline{z} - \\frac{\\sqrt{2} z \\overline{z} \\cos\\left({\\theta}\\right)}{4 \\, r \\sin\\left({\\theta}\\right)} + \\frac{\\sqrt{2} z \\cos\\left({\\theta}\\right)}{4 \\, r \\sin\\left({\\theta}\\right)}$"
      ],
      "text/plain": [
       "'epsilonNP_trC=' -1/2*z*((2*M - r)/r^2 + M/r^2)*conjugate(z) - 1/4*sqrt(2)*z*conjugate(z)*cos(th)/(r*sin(th)) + 1/4*sqrt(2)*z*cos(th)/(r*sin(th))"
      ]
     },
     "metadata": {},
     "output_type": "display_data"
    },
    {
     "data": {
      "text/html": [
       "<html>\\(\\displaystyle \\verb|gammaNP_trC=| -\\frac{M}{2 \\, r^{2}}\\)</html>"
      ],
      "text/latex": [
       "$\\displaystyle \\verb|gammaNP_trC=| -\\frac{M}{2 \\, r^{2}}$"
      ],
      "text/plain": [
       "'gammaNP_trC=' -1/2*M/r^2"
      ]
     },
     "metadata": {},
     "output_type": "display_data"
    },
    {
     "data": {
      "text/html": [
       "<html>\\(\\displaystyle \\verb|betaNP_trC=| -\\frac{{\\left(2 \\, M - r\\right)} z}{2 \\, r^{2}} - \\frac{M z}{2 \\, r^{2}} - \\frac{\\sqrt{2} \\cos\\left({\\theta}\\right)}{4 \\, r \\sin\\left({\\theta}\\right)}\\)</html>"
      ],
      "text/latex": [
       "$\\displaystyle \\verb|betaNP_trC=| -\\frac{{\\left(2 \\, M - r\\right)} z}{2 \\, r^{2}} - \\frac{M z}{2 \\, r^{2}} - \\frac{\\sqrt{2} \\cos\\left({\\theta}\\right)}{4 \\, r \\sin\\left({\\theta}\\right)}$"
      ],
      "text/plain": [
       "'betaNP_trC=' -1/2*(2*M - r)*z/r^2 - 1/2*M*z/r^2 - 1/4*sqrt(2)*cos(th)/(r*sin(th))"
      ]
     },
     "metadata": {},
     "output_type": "display_data"
    },
    {
     "data": {
      "text/html": [
       "<html>\\(\\displaystyle \\verb|alphaNP_trC=| -\\frac{M z}{2 \\, r^{2}} + \\frac{\\sqrt{2} \\cos\\left({\\theta}\\right)}{4 \\, r \\sin\\left({\\theta}\\right)}\\)</html>"
      ],
      "text/latex": [
       "$\\displaystyle \\verb|alphaNP_trC=| -\\frac{M z}{2 \\, r^{2}} + \\frac{\\sqrt{2} \\cos\\left({\\theta}\\right)}{4 \\, r \\sin\\left({\\theta}\\right)}$"
      ],
      "text/plain": [
       "'alphaNP_trC=' -1/2*M*z/r^2 + 1/4*sqrt(2)*cos(th)/(r*sin(th))"
      ]
     },
     "metadata": {},
     "output_type": "display_data"
    },
    {
     "data": {
      "text/html": [
       "<html>\\(\\displaystyle \\verb|Psi0NP_trC=| -\\frac{6 \\, M z^{2}}{r^{3}}\\)</html>"
      ],
      "text/latex": [
       "$\\displaystyle \\verb|Psi0NP_trC=| -\\frac{6 \\, M z^{2}}{r^{3}}$"
      ],
      "text/plain": [
       "'Psi0NP_trC=' -6*M*z^2/r^3"
      ]
     },
     "metadata": {},
     "output_type": "display_data"
    },
    {
     "data": {
      "text/html": [
       "<html>\\(\\displaystyle \\verb|Psi1NP_trC=| -\\frac{3 \\, M z}{r^{3}}\\)</html>"
      ],
      "text/latex": [
       "$\\displaystyle \\verb|Psi1NP_trC=| -\\frac{3 \\, M z}{r^{3}}$"
      ],
      "text/plain": [
       "'Psi1NP_trC=' -3*M*z/r^3"
      ]
     },
     "metadata": {},
     "output_type": "display_data"
    },
    {
     "data": {
      "text/html": [
       "<html>\\(\\displaystyle \\verb|Psi2NP_trC=| -\\frac{M}{r^{3}}\\)</html>"
      ],
      "text/latex": [
       "$\\displaystyle \\verb|Psi2NP_trC=| -\\frac{M}{r^{3}}$"
      ],
      "text/plain": [
       "'Psi2NP_trC=' -M/r^3"
      ]
     },
     "metadata": {},
     "output_type": "display_data"
    },
    {
     "data": {
      "text/html": [
       "<html>\\(\\displaystyle \\verb|Psi3NP_trC=| 0\\)</html>"
      ],
      "text/latex": [
       "$\\displaystyle \\verb|Psi3NP_trC=| 0$"
      ],
      "text/plain": [
       "'Psi3NP_trC=' 0"
      ]
     },
     "metadata": {},
     "output_type": "display_data"
    },
    {
     "data": {
      "text/html": [
       "<html>\\(\\displaystyle \\verb|Psi4NP_trC=| 0\\)</html>"
      ],
      "text/latex": [
       "$\\displaystyle \\verb|Psi4NP_trC=| 0$"
      ],
      "text/plain": [
       "'Psi4NP_trC=' 0"
      ]
     },
     "metadata": {},
     "output_type": "display_data"
    },
    {
     "data": {
      "text/html": [
       "<html>\\(\\displaystyle \\verb|Phi00NP_trC=| 0\\)</html>"
      ],
      "text/latex": [
       "$\\displaystyle \\verb|Phi00NP_trC=| 0$"
      ],
      "text/plain": [
       "'Phi00NP_trC=' 0"
      ]
     },
     "metadata": {},
     "output_type": "display_data"
    },
    {
     "data": {
      "text/html": [
       "<html>\\(\\displaystyle \\verb|Phi01NP_trC=| 0\\)</html>"
      ],
      "text/latex": [
       "$\\displaystyle \\verb|Phi01NP_trC=| 0$"
      ],
      "text/plain": [
       "'Phi01NP_trC=' 0"
      ]
     },
     "metadata": {},
     "output_type": "display_data"
    },
    {
     "data": {
      "text/html": [
       "<html>\\(\\displaystyle \\verb|Phi02NP_trC=| 0\\)</html>"
      ],
      "text/latex": [
       "$\\displaystyle \\verb|Phi02NP_trC=| 0$"
      ],
      "text/plain": [
       "'Phi02NP_trC=' 0"
      ]
     },
     "metadata": {},
     "output_type": "display_data"
    },
    {
     "data": {
      "text/html": [
       "<html>\\(\\displaystyle \\verb|Phi10NP_trC=| 0\\)</html>"
      ],
      "text/latex": [
       "$\\displaystyle \\verb|Phi10NP_trC=| 0$"
      ],
      "text/plain": [
       "'Phi10NP_trC=' 0"
      ]
     },
     "metadata": {},
     "output_type": "display_data"
    },
    {
     "data": {
      "text/html": [
       "<html>\\(\\displaystyle \\verb|Phi11NP_trC=| 0\\)</html>"
      ],
      "text/latex": [
       "$\\displaystyle \\verb|Phi11NP_trC=| 0$"
      ],
      "text/plain": [
       "'Phi11NP_trC=' 0"
      ]
     },
     "metadata": {},
     "output_type": "display_data"
    },
    {
     "data": {
      "text/html": [
       "<html>\\(\\displaystyle \\verb|Phi12NP_trC=| 0\\)</html>"
      ],
      "text/latex": [
       "$\\displaystyle \\verb|Phi12NP_trC=| 0$"
      ],
      "text/plain": [
       "'Phi12NP_trC=' 0"
      ]
     },
     "metadata": {},
     "output_type": "display_data"
    },
    {
     "data": {
      "text/html": [
       "<html>\\(\\displaystyle \\verb|Phi20NP_trC=| 0\\)</html>"
      ],
      "text/latex": [
       "$\\displaystyle \\verb|Phi20NP_trC=| 0$"
      ],
      "text/plain": [
       "'Phi20NP_trC=' 0"
      ]
     },
     "metadata": {},
     "output_type": "display_data"
    },
    {
     "data": {
      "text/html": [
       "<html>\\(\\displaystyle \\verb|Phi21NP_trC=| 0\\)</html>"
      ],
      "text/latex": [
       "$\\displaystyle \\verb|Phi21NP_trC=| 0$"
      ],
      "text/plain": [
       "'Phi21NP_trC=' 0"
      ]
     },
     "metadata": {},
     "output_type": "display_data"
    },
    {
     "data": {
      "text/html": [
       "<html>\\(\\displaystyle \\verb|Phi22NP_trC=| 0\\)</html>"
      ],
      "text/latex": [
       "$\\displaystyle \\verb|Phi22NP_trC=| 0$"
      ],
      "text/plain": [
       "'Phi22NP_trC=' 0"
      ]
     },
     "metadata": {},
     "output_type": "display_data"
    },
    {
     "data": {
      "text/html": [
       "<html>\\(\\displaystyle \\verb|LambdaNP_trC=| 0\\)</html>"
      ],
      "text/latex": [
       "$\\displaystyle \\verb|LambdaNP_trC=| 0$"
      ],
      "text/plain": [
       "'LambdaNP_trC=' 0"
      ]
     },
     "metadata": {},
     "output_type": "display_data"
    }
   ],
   "source": [
    "# Type A:\n",
    "var('z')\n",
    "schw.type_A_transformation(z)\n",
    "schw.show_type_A_transformation()\n",
    "\n",
    "# Type B:\n",
    "schw.type_B_transformation(z)\n",
    "schw.show_type_B_transformation()\n",
    "\n",
    "# Type C:\n",
    "schw.type_C_transformation(z)\n",
    "schw.show_type_C_transformation()"
   ]
  },
  {
   "cell_type": "markdown",
   "id": "a9872363-b6f7-4744-a486-8d24ab7a81e7",
   "metadata": {},
   "source": [
    "# EXAMPLE: Reissner-Nordstrom spacetime\n",
    "\n",
    "In this example, the null-tetrad will be given by **contravariant** elements, namely,\n",
    "\n",
    "$l^{\\mu}=[\\frac{r^2}{\\Delta},1,0,0]$\n",
    "\n",
    "$n^{\\mu}=[\\frac{1}{2},-\\frac{\\Delta}{2r^2},0,0]$\n",
    "\n",
    "$m^{\\mu}=[0,0,\\frac{1}{r \\sqrt{2}},i\\frac{csc(\\theta)}{r\\sqrt{2}}]$\n",
    "\n",
    "$\\overline{m}^{\\mu}=[0,0,\\frac{1}{r \\sqrt{2}},-i\\frac{csc(\\theta)}{r\\sqrt{2}}]$\n",
    "\n",
    "Thus, the keyword **'contravariant'** should be given while defining the object as in the following cell."
   ]
  },
  {
   "cell_type": "code",
   "execution_count": 29,
   "id": "23cbc437-f9a9-4c29-ae6d-058ced32cf9e",
   "metadata": {},
   "outputs": [
    {
     "name": "stdout",
     "output_type": "stream",
     "text": [
      "Inverting tetrad...\n"
     ]
    },
    {
     "data": {
      "text/html": [
       "<html>\\(\\displaystyle \\verb|The|\\verb| |\\verb|metric:|\\)</html>"
      ],
      "text/latex": [
       "$\\displaystyle \\verb|The|\\verb| |\\verb|metric:|$"
      ],
      "text/plain": [
       "'The metric:'"
      ]
     },
     "metadata": {},
     "output_type": "display_data"
    },
    {
     "data": {
      "text/html": [
       "<html>\\(\\displaystyle g = \\left( -\\frac{Q^{2} - 2 \\, M r + r^{2}}{r^{2}} \\right) \\mathrm{d} t\\otimes \\mathrm{d} t + \\left( \\frac{r^{2}}{Q^{2} - 2 \\, M r + r^{2}} \\right) \\mathrm{d} r\\otimes \\mathrm{d} r + r^{2} \\mathrm{d} {\\theta}\\otimes \\mathrm{d} {\\theta} + r^{2} \\sin\\left({\\theta}\\right)^{2} \\mathrm{d} {\\phi}\\otimes \\mathrm{d} {\\phi}\\)</html>"
      ],
      "text/latex": [
       "$\\displaystyle g = \\left( -\\frac{Q^{2} - 2 \\, M r + r^{2}}{r^{2}} \\right) \\mathrm{d} t\\otimes \\mathrm{d} t + \\left( \\frac{r^{2}}{Q^{2} - 2 \\, M r + r^{2}} \\right) \\mathrm{d} r\\otimes \\mathrm{d} r + r^{2} \\mathrm{d} {\\theta}\\otimes \\mathrm{d} {\\theta} + r^{2} \\sin\\left({\\theta}\\right)^{2} \\mathrm{d} {\\phi}\\otimes \\mathrm{d} {\\phi}$"
      ],
      "text/plain": [
       "g = -(Q^2 - 2*M*r + r^2)/r^2 dt⊗dt + r^2/(Q^2 - 2*M*r + r^2) dr⊗dr + r^2 dth⊗dth + r^2*sin(th)^2 dph⊗dph"
      ]
     },
     "metadata": {},
     "output_type": "display_data"
    }
   ],
   "source": [
    "reset()\n",
    "\n",
    "from SageNP import NewmanPenrose\n",
    "\n",
    "##########################################################################\n",
    "# Define 4-dim. the manifold:\n",
    "MyManifold = Manifold(4 , 'MyManifold', r'\\mathcal{Man}')\n",
    "##########################################################################\n",
    "MyCoordinates.<t,r,th,ph> = MyManifold.chart(r't r th:\\theta ph:\\phi')\n",
    "###################################################\n",
    "# Define the metric functions\n",
    "var('M,Q')\n",
    "Delta=r^2-2*M*r+Q^2\n",
    "###################################################\n",
    "# Enter null tetrad elements\n",
    "# These vectors define the Reissner-Nordstrom spacetime\n",
    "lveccont=[(r^2)/Delta,1,0,0]\n",
    "nveccont=[1/2,-Delta/(2*r^2),0,0]\n",
    "mveccont=[0,0,1/(r*sqrt(2)),I*csc(th)/(r*sqrt(2))]\n",
    "mbarveccont=[0,0,1/(r*sqrt(2)),-I*csc(th)/(r*sqrt(2))]\n",
    "##########################################################################\n",
    "\n",
    "# Define the object \"reisnor\" of the class \"SageNP\":\n",
    "reisnor=NewmanPenrose(MyManifold, MyCoordinates, lveccont, nveccont, mveccont, mbarveccont, 'contravariant')"
   ]
  },
  {
   "cell_type": "markdown",
   "id": "93214e69-318f-428d-a2d1-8b64464cb6fc",
   "metadata": {},
   "source": [
    "Let us run **show_allNP()** command to **calculate and display** some NP  expressions:"
   ]
  },
  {
   "cell_type": "code",
   "execution_count": 30,
   "id": "1af5e304-6e71-4a2f-bfbe-3c6a97071cda",
   "metadata": {},
   "outputs": [
    {
     "name": "stdout",
     "output_type": "stream",
     "text": [
      "Calculating spin coefficients...\n"
     ]
    },
    {
     "data": {
      "text/html": [
       "<html>\\(\\displaystyle \\verb|kappaNP=| 0\\)</html>"
      ],
      "text/latex": [
       "$\\displaystyle \\verb|kappaNP=| 0$"
      ],
      "text/plain": [
       "'kappaNP=' 0"
      ]
     },
     "metadata": {},
     "output_type": "display_data"
    },
    {
     "data": {
      "text/html": [
       "<html>\\(\\displaystyle \\verb|tauNP=| 0\\)</html>"
      ],
      "text/latex": [
       "$\\displaystyle \\verb|tauNP=| 0$"
      ],
      "text/plain": [
       "'tauNP=' 0"
      ]
     },
     "metadata": {},
     "output_type": "display_data"
    },
    {
     "data": {
      "text/html": [
       "<html>\\(\\displaystyle \\verb|sigmaNP=| 0\\)</html>"
      ],
      "text/latex": [
       "$\\displaystyle \\verb|sigmaNP=| 0$"
      ],
      "text/plain": [
       "'sigmaNP=' 0"
      ]
     },
     "metadata": {},
     "output_type": "display_data"
    },
    {
     "data": {
      "text/html": [
       "<html>\\(\\displaystyle \\verb|rhoNP=| -\\frac{1}{r}\\)</html>"
      ],
      "text/latex": [
       "$\\displaystyle \\verb|rhoNP=| -\\frac{1}{r}$"
      ],
      "text/plain": [
       "'rhoNP=' -1/r"
      ]
     },
     "metadata": {},
     "output_type": "display_data"
    },
    {
     "data": {
      "text/html": [
       "<html>\\(\\displaystyle \\verb|piNP=| 0\\)</html>"
      ],
      "text/latex": [
       "$\\displaystyle \\verb|piNP=| 0$"
      ],
      "text/plain": [
       "'piNP=' 0"
      ]
     },
     "metadata": {},
     "output_type": "display_data"
    },
    {
     "data": {
      "text/html": [
       "<html>\\(\\displaystyle \\verb|nuNP=| 0\\)</html>"
      ],
      "text/latex": [
       "$\\displaystyle \\verb|nuNP=| 0$"
      ],
      "text/plain": [
       "'nuNP=' 0"
      ]
     },
     "metadata": {},
     "output_type": "display_data"
    },
    {
     "data": {
      "text/html": [
       "<html>\\(\\displaystyle \\verb|muNP=| -\\frac{Q^{2} - 2 \\, M r + r^{2}}{2 \\, r^{3}}\\)</html>"
      ],
      "text/latex": [
       "$\\displaystyle \\verb|muNP=| -\\frac{Q^{2} - 2 \\, M r + r^{2}}{2 \\, r^{3}}$"
      ],
      "text/plain": [
       "'muNP=' -1/2*(Q^2 - 2*M*r + r^2)/r^3"
      ]
     },
     "metadata": {},
     "output_type": "display_data"
    },
    {
     "data": {
      "text/html": [
       "<html>\\(\\displaystyle \\verb|lambdaNP=| 0\\)</html>"
      ],
      "text/latex": [
       "$\\displaystyle \\verb|lambdaNP=| 0$"
      ],
      "text/plain": [
       "'lambdaNP=' 0"
      ]
     },
     "metadata": {},
     "output_type": "display_data"
    },
    {
     "data": {
      "text/html": [
       "<html>\\(\\displaystyle \\verb|epsilonNP=| 0\\)</html>"
      ],
      "text/latex": [
       "$\\displaystyle \\verb|epsilonNP=| 0$"
      ],
      "text/plain": [
       "'epsilonNP=' 0"
      ]
     },
     "metadata": {},
     "output_type": "display_data"
    },
    {
     "data": {
      "text/html": [
       "<html>\\(\\displaystyle \\verb|gammaNP=| -\\frac{Q^{2} - M r}{2 \\, r^{3}}\\)</html>"
      ],
      "text/latex": [
       "$\\displaystyle \\verb|gammaNP=| -\\frac{Q^{2} - M r}{2 \\, r^{3}}$"
      ],
      "text/plain": [
       "'gammaNP=' -1/2*(Q^2 - M*r)/r^3"
      ]
     },
     "metadata": {},
     "output_type": "display_data"
    },
    {
     "data": {
      "text/html": [
       "<html>\\(\\displaystyle \\verb|betaNP=| \\frac{\\sqrt{2} \\cos\\left({\\theta}\\right)}{4 \\, r \\sin\\left({\\theta}\\right)}\\)</html>"
      ],
      "text/latex": [
       "$\\displaystyle \\verb|betaNP=| \\frac{\\sqrt{2} \\cos\\left({\\theta}\\right)}{4 \\, r \\sin\\left({\\theta}\\right)}$"
      ],
      "text/plain": [
       "'betaNP=' 1/4*sqrt(2)*cos(th)/(r*sin(th))"
      ]
     },
     "metadata": {},
     "output_type": "display_data"
    },
    {
     "data": {
      "text/html": [
       "<html>\\(\\displaystyle \\verb|alphaNP=| -\\frac{\\sqrt{2} \\cos\\left({\\theta}\\right)}{4 \\, r \\sin\\left({\\theta}\\right)}\\)</html>"
      ],
      "text/latex": [
       "$\\displaystyle \\verb|alphaNP=| -\\frac{\\sqrt{2} \\cos\\left({\\theta}\\right)}{4 \\, r \\sin\\left({\\theta}\\right)}$"
      ],
      "text/plain": [
       "'alphaNP=' -1/4*sqrt(2)*cos(th)/(r*sin(th))"
      ]
     },
     "metadata": {},
     "output_type": "display_data"
    },
    {
     "name": "stdout",
     "output_type": "stream",
     "text": [
      "Calculating Weyl components...\n"
     ]
    },
    {
     "data": {
      "text/html": [
       "<html>\\(\\displaystyle \\verb|Psi0NP=| 0\\)</html>"
      ],
      "text/latex": [
       "$\\displaystyle \\verb|Psi0NP=| 0$"
      ],
      "text/plain": [
       "'Psi0NP=' 0"
      ]
     },
     "metadata": {},
     "output_type": "display_data"
    },
    {
     "data": {
      "text/html": [
       "<html>\\(\\displaystyle \\verb|Psi1NP=| 0\\)</html>"
      ],
      "text/latex": [
       "$\\displaystyle \\verb|Psi1NP=| 0$"
      ],
      "text/plain": [
       "'Psi1NP=' 0"
      ]
     },
     "metadata": {},
     "output_type": "display_data"
    },
    {
     "data": {
      "text/html": [
       "<html>\\(\\displaystyle \\verb|Psi2NP=| \\frac{Q^{2} - M r}{r^{4}}\\)</html>"
      ],
      "text/latex": [
       "$\\displaystyle \\verb|Psi2NP=| \\frac{Q^{2} - M r}{r^{4}}$"
      ],
      "text/plain": [
       "'Psi2NP=' (Q^2 - M*r)/r^4"
      ]
     },
     "metadata": {},
     "output_type": "display_data"
    },
    {
     "data": {
      "text/html": [
       "<html>\\(\\displaystyle \\verb|Psi3NP=| 0\\)</html>"
      ],
      "text/latex": [
       "$\\displaystyle \\verb|Psi3NP=| 0$"
      ],
      "text/plain": [
       "'Psi3NP=' 0"
      ]
     },
     "metadata": {},
     "output_type": "display_data"
    },
    {
     "data": {
      "text/html": [
       "<html>\\(\\displaystyle \\verb|Psi4NP=| 0\\)</html>"
      ],
      "text/latex": [
       "$\\displaystyle \\verb|Psi4NP=| 0$"
      ],
      "text/plain": [
       "'Psi4NP=' 0"
      ]
     },
     "metadata": {},
     "output_type": "display_data"
    },
    {
     "name": "stdout",
     "output_type": "stream",
     "text": [
      "Calculating Ricci components...\n"
     ]
    },
    {
     "data": {
      "text/html": [
       "<html>\\(\\displaystyle \\verb|Phi00NP=| 0\\)</html>"
      ],
      "text/latex": [
       "$\\displaystyle \\verb|Phi00NP=| 0$"
      ],
      "text/plain": [
       "'Phi00NP=' 0"
      ]
     },
     "metadata": {},
     "output_type": "display_data"
    },
    {
     "data": {
      "text/html": [
       "<html>\\(\\displaystyle \\verb|Phi01NP=| 0\\)</html>"
      ],
      "text/latex": [
       "$\\displaystyle \\verb|Phi01NP=| 0$"
      ],
      "text/plain": [
       "'Phi01NP=' 0"
      ]
     },
     "metadata": {},
     "output_type": "display_data"
    },
    {
     "data": {
      "text/html": [
       "<html>\\(\\displaystyle \\verb|Phi10NP=| 0\\)</html>"
      ],
      "text/latex": [
       "$\\displaystyle \\verb|Phi10NP=| 0$"
      ],
      "text/plain": [
       "'Phi10NP=' 0"
      ]
     },
     "metadata": {},
     "output_type": "display_data"
    },
    {
     "data": {
      "text/html": [
       "<html>\\(\\displaystyle \\verb|Phi02NP=| 0\\)</html>"
      ],
      "text/latex": [
       "$\\displaystyle \\verb|Phi02NP=| 0$"
      ],
      "text/plain": [
       "'Phi02NP=' 0"
      ]
     },
     "metadata": {},
     "output_type": "display_data"
    },
    {
     "data": {
      "text/html": [
       "<html>\\(\\displaystyle \\verb|Phi20NP=| 0\\)</html>"
      ],
      "text/latex": [
       "$\\displaystyle \\verb|Phi20NP=| 0$"
      ],
      "text/plain": [
       "'Phi20NP=' 0"
      ]
     },
     "metadata": {},
     "output_type": "display_data"
    },
    {
     "data": {
      "text/html": [
       "<html>\\(\\displaystyle \\verb|Phi11NP=| \\frac{Q^{2}}{2 \\, r^{4}}\\)</html>"
      ],
      "text/latex": [
       "$\\displaystyle \\verb|Phi11NP=| \\frac{Q^{2}}{2 \\, r^{4}}$"
      ],
      "text/plain": [
       "'Phi11NP=' 1/2*Q^2/r^4"
      ]
     },
     "metadata": {},
     "output_type": "display_data"
    },
    {
     "data": {
      "text/html": [
       "<html>\\(\\displaystyle \\verb|Phi12NP=| 0\\)</html>"
      ],
      "text/latex": [
       "$\\displaystyle \\verb|Phi12NP=| 0$"
      ],
      "text/plain": [
       "'Phi12NP=' 0"
      ]
     },
     "metadata": {},
     "output_type": "display_data"
    },
    {
     "data": {
      "text/html": [
       "<html>\\(\\displaystyle \\verb|Phi21NP=| 0\\)</html>"
      ],
      "text/latex": [
       "$\\displaystyle \\verb|Phi21NP=| 0$"
      ],
      "text/plain": [
       "'Phi21NP=' 0"
      ]
     },
     "metadata": {},
     "output_type": "display_data"
    },
    {
     "data": {
      "text/html": [
       "<html>\\(\\displaystyle \\verb|Phi22NP=| 0\\)</html>"
      ],
      "text/latex": [
       "$\\displaystyle \\verb|Phi22NP=| 0$"
      ],
      "text/plain": [
       "'Phi22NP=' 0"
      ]
     },
     "metadata": {},
     "output_type": "display_data"
    },
    {
     "data": {
      "text/html": [
       "<html>\\(\\displaystyle \\verb|LambdaNP=| 0\\)</html>"
      ],
      "text/latex": [
       "$\\displaystyle \\verb|LambdaNP=| 0$"
      ],
      "text/plain": [
       "'LambdaNP=' 0"
      ]
     },
     "metadata": {},
     "output_type": "display_data"
    },
    {
     "name": "stdout",
     "output_type": "stream",
     "text": [
      "Calculating NP equations...\n"
     ]
    },
    {
     "data": {
      "text/html": [
       "<html>\\(\\displaystyle \\verb|NPeq1=| 0\\)</html>"
      ],
      "text/latex": [
       "$\\displaystyle \\verb|NPeq1=| 0$"
      ],
      "text/plain": [
       "'NPeq1=' 0"
      ]
     },
     "metadata": {},
     "output_type": "display_data"
    },
    {
     "data": {
      "text/html": [
       "<html>\\(\\displaystyle \\verb|NPeq2=| 0\\)</html>"
      ],
      "text/latex": [
       "$\\displaystyle \\verb|NPeq2=| 0$"
      ],
      "text/plain": [
       "'NPeq2=' 0"
      ]
     },
     "metadata": {},
     "output_type": "display_data"
    },
    {
     "data": {
      "text/html": [
       "<html>\\(\\displaystyle \\verb|NPeq3=| 0\\)</html>"
      ],
      "text/latex": [
       "$\\displaystyle \\verb|NPeq3=| 0$"
      ],
      "text/plain": [
       "'NPeq3=' 0"
      ]
     },
     "metadata": {},
     "output_type": "display_data"
    },
    {
     "data": {
      "text/html": [
       "<html>\\(\\displaystyle \\verb|NPeq4=| 0\\)</html>"
      ],
      "text/latex": [
       "$\\displaystyle \\verb|NPeq4=| 0$"
      ],
      "text/plain": [
       "'NPeq4=' 0"
      ]
     },
     "metadata": {},
     "output_type": "display_data"
    },
    {
     "data": {
      "text/html": [
       "<html>\\(\\displaystyle \\verb|NPeq5=| 0\\)</html>"
      ],
      "text/latex": [
       "$\\displaystyle \\verb|NPeq5=| 0$"
      ],
      "text/plain": [
       "'NPeq5=' 0"
      ]
     },
     "metadata": {},
     "output_type": "display_data"
    },
    {
     "data": {
      "text/html": [
       "<html>\\(\\displaystyle \\verb|NPeq6=| 0\\)</html>"
      ],
      "text/latex": [
       "$\\displaystyle \\verb|NPeq6=| 0$"
      ],
      "text/plain": [
       "'NPeq6=' 0"
      ]
     },
     "metadata": {},
     "output_type": "display_data"
    },
    {
     "data": {
      "text/html": [
       "<html>\\(\\displaystyle \\verb|NPeq7=| 0\\)</html>"
      ],
      "text/latex": [
       "$\\displaystyle \\verb|NPeq7=| 0$"
      ],
      "text/plain": [
       "'NPeq7=' 0"
      ]
     },
     "metadata": {},
     "output_type": "display_data"
    },
    {
     "data": {
      "text/html": [
       "<html>\\(\\displaystyle \\verb|NPeq8=| 0\\)</html>"
      ],
      "text/latex": [
       "$\\displaystyle \\verb|NPeq8=| 0$"
      ],
      "text/plain": [
       "'NPeq8=' 0"
      ]
     },
     "metadata": {},
     "output_type": "display_data"
    },
    {
     "data": {
      "text/html": [
       "<html>\\(\\displaystyle \\verb|NPeq9=| 0\\)</html>"
      ],
      "text/latex": [
       "$\\displaystyle \\verb|NPeq9=| 0$"
      ],
      "text/plain": [
       "'NPeq9=' 0"
      ]
     },
     "metadata": {},
     "output_type": "display_data"
    },
    {
     "data": {
      "text/html": [
       "<html>\\(\\displaystyle \\verb|NPeq10=| 0\\)</html>"
      ],
      "text/latex": [
       "$\\displaystyle \\verb|NPeq10=| 0$"
      ],
      "text/plain": [
       "'NPeq10=' 0"
      ]
     },
     "metadata": {},
     "output_type": "display_data"
    },
    {
     "data": {
      "text/html": [
       "<html>\\(\\displaystyle \\verb|NPeq11=| 0\\)</html>"
      ],
      "text/latex": [
       "$\\displaystyle \\verb|NPeq11=| 0$"
      ],
      "text/plain": [
       "'NPeq11=' 0"
      ]
     },
     "metadata": {},
     "output_type": "display_data"
    },
    {
     "data": {
      "text/html": [
       "<html>\\(\\displaystyle \\verb|NPeq12=| 0\\)</html>"
      ],
      "text/latex": [
       "$\\displaystyle \\verb|NPeq12=| 0$"
      ],
      "text/plain": [
       "'NPeq12=' 0"
      ]
     },
     "metadata": {},
     "output_type": "display_data"
    },
    {
     "data": {
      "text/html": [
       "<html>\\(\\displaystyle \\verb|NPeq13=| 0\\)</html>"
      ],
      "text/latex": [
       "$\\displaystyle \\verb|NPeq13=| 0$"
      ],
      "text/plain": [
       "'NPeq13=' 0"
      ]
     },
     "metadata": {},
     "output_type": "display_data"
    },
    {
     "data": {
      "text/html": [
       "<html>\\(\\displaystyle \\verb|NPeq14=| 0\\)</html>"
      ],
      "text/latex": [
       "$\\displaystyle \\verb|NPeq14=| 0$"
      ],
      "text/plain": [
       "'NPeq14=' 0"
      ]
     },
     "metadata": {},
     "output_type": "display_data"
    },
    {
     "data": {
      "text/html": [
       "<html>\\(\\displaystyle \\verb|NPeq15=| 0\\)</html>"
      ],
      "text/latex": [
       "$\\displaystyle \\verb|NPeq15=| 0$"
      ],
      "text/plain": [
       "'NPeq15=' 0"
      ]
     },
     "metadata": {},
     "output_type": "display_data"
    },
    {
     "data": {
      "text/html": [
       "<html>\\(\\displaystyle \\verb|NPeq16=| 0\\)</html>"
      ],
      "text/latex": [
       "$\\displaystyle \\verb|NPeq16=| 0$"
      ],
      "text/plain": [
       "'NPeq16=' 0"
      ]
     },
     "metadata": {},
     "output_type": "display_data"
    },
    {
     "data": {
      "text/html": [
       "<html>\\(\\displaystyle \\verb|NPeq17=| 0\\)</html>"
      ],
      "text/latex": [
       "$\\displaystyle \\verb|NPeq17=| 0$"
      ],
      "text/plain": [
       "'NPeq17=' 0"
      ]
     },
     "metadata": {},
     "output_type": "display_data"
    },
    {
     "data": {
      "text/html": [
       "<html>\\(\\displaystyle \\verb|NPeq18=| 0\\)</html>"
      ],
      "text/latex": [
       "$\\displaystyle \\verb|NPeq18=| 0$"
      ],
      "text/plain": [
       "'NPeq18=' 0"
      ]
     },
     "metadata": {},
     "output_type": "display_data"
    },
    {
     "name": "stdout",
     "output_type": "stream",
     "text": [
      "Calculating Bianchi identities...\n"
     ]
    },
    {
     "data": {
      "text/html": [
       "<html>\\(\\displaystyle \\verb|BI1=| 0\\)</html>"
      ],
      "text/latex": [
       "$\\displaystyle \\verb|BI1=| 0$"
      ],
      "text/plain": [
       "'BI1=' 0"
      ]
     },
     "metadata": {},
     "output_type": "display_data"
    },
    {
     "data": {
      "text/html": [
       "<html>\\(\\displaystyle \\verb|BI2=| 0\\)</html>"
      ],
      "text/latex": [
       "$\\displaystyle \\verb|BI2=| 0$"
      ],
      "text/plain": [
       "'BI2=' 0"
      ]
     },
     "metadata": {},
     "output_type": "display_data"
    },
    {
     "data": {
      "text/html": [
       "<html>\\(\\displaystyle \\verb|BI3=| 0\\)</html>"
      ],
      "text/latex": [
       "$\\displaystyle \\verb|BI3=| 0$"
      ],
      "text/plain": [
       "'BI3=' 0"
      ]
     },
     "metadata": {},
     "output_type": "display_data"
    },
    {
     "data": {
      "text/html": [
       "<html>\\(\\displaystyle \\verb|BI4=| 0\\)</html>"
      ],
      "text/latex": [
       "$\\displaystyle \\verb|BI4=| 0$"
      ],
      "text/plain": [
       "'BI4=' 0"
      ]
     },
     "metadata": {},
     "output_type": "display_data"
    },
    {
     "data": {
      "text/html": [
       "<html>\\(\\displaystyle \\verb|BI5=| 0\\)</html>"
      ],
      "text/latex": [
       "$\\displaystyle \\verb|BI5=| 0$"
      ],
      "text/plain": [
       "'BI5=' 0"
      ]
     },
     "metadata": {},
     "output_type": "display_data"
    },
    {
     "data": {
      "text/html": [
       "<html>\\(\\displaystyle \\verb|BI6=| 0\\)</html>"
      ],
      "text/latex": [
       "$\\displaystyle \\verb|BI6=| 0$"
      ],
      "text/plain": [
       "'BI6=' 0"
      ]
     },
     "metadata": {},
     "output_type": "display_data"
    },
    {
     "data": {
      "text/html": [
       "<html>\\(\\displaystyle \\verb|BI7=| 0\\)</html>"
      ],
      "text/latex": [
       "$\\displaystyle \\verb|BI7=| 0$"
      ],
      "text/plain": [
       "'BI7=' 0"
      ]
     },
     "metadata": {},
     "output_type": "display_data"
    },
    {
     "data": {
      "text/html": [
       "<html>\\(\\displaystyle \\verb|BI8=| 0\\)</html>"
      ],
      "text/latex": [
       "$\\displaystyle \\verb|BI8=| 0$"
      ],
      "text/plain": [
       "'BI8=' 0"
      ]
     },
     "metadata": {},
     "output_type": "display_data"
    },
    {
     "data": {
      "text/html": [
       "<html>\\(\\displaystyle \\verb|BI9=| 0\\)</html>"
      ],
      "text/latex": [
       "$\\displaystyle \\verb|BI9=| 0$"
      ],
      "text/plain": [
       "'BI9=' 0"
      ]
     },
     "metadata": {},
     "output_type": "display_data"
    },
    {
     "data": {
      "text/html": [
       "<html>\\(\\displaystyle \\verb|BI10=| 0\\)</html>"
      ],
      "text/latex": [
       "$\\displaystyle \\verb|BI10=| 0$"
      ],
      "text/plain": [
       "'BI10=' 0"
      ]
     },
     "metadata": {},
     "output_type": "display_data"
    },
    {
     "data": {
      "text/html": [
       "<html>\\(\\displaystyle \\verb|BI11=| 0\\)</html>"
      ],
      "text/latex": [
       "$\\displaystyle \\verb|BI11=| 0$"
      ],
      "text/plain": [
       "'BI11=' 0"
      ]
     },
     "metadata": {},
     "output_type": "display_data"
    },
    {
     "name": "stdout",
     "output_type": "stream",
     "text": [
      "Calculating Petrov Type...\n",
      "Petrov Type D\n",
      "Attention: This procedure depends on the simplification of the structures. Therefore the Petrov type can be simpler.\n",
      "Calculating Petrov Type...\n",
      "Petrov Type D\n",
      "Attention: This procedure depends on the simplification of the structures. Therefore the Petrov type can be simpler.\n"
     ]
    }
   ],
   "source": [
    "reisnor.show_allNP()"
   ]
  },
  {
   "cell_type": "code",
   "execution_count": null,
   "id": "fb18ffba-df63-4cce-9b79-1a14718f07c6",
   "metadata": {},
   "outputs": [],
   "source": []
  }
 ],
 "metadata": {
  "kernelspec": {
   "display_name": "SageMath 10.4",
   "language": "sage",
   "name": "sagemath"
  },
  "language_info": {
   "codemirror_mode": {
    "name": "ipython",
    "version": 3
   },
   "file_extension": ".py",
   "mimetype": "text/x-python",
   "name": "python",
   "nbconvert_exporter": "python",
   "pygments_lexer": "ipython3",
   "version": "3.11.9"
  }
 },
 "nbformat": 4,
 "nbformat_minor": 5
}
