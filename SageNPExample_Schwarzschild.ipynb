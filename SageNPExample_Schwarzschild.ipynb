{
 "cells": [
  {
   "cell_type": "code",
   "execution_count": 1,
   "id": "75e60e3c-f8fc-498f-b8c6-96d6dc5a1bf5",
   "metadata": {},
   "outputs": [],
   "source": [
    "reset()\n",
    "\n",
    "from SageNP import *\n",
    "\n",
    "##########################################################################\n",
    "# Define 4-dim. the manifold:\n",
    "MyManifold = Manifold(4 , 'MyManifold', r'\\mathcal{Man}')\n",
    "##########################################################################\n",
    "MyCoordinates.<t,r,th,ph> = MyManifold.chart(r't r th:\\theta ph:\\phi')\n",
    "###################################################\n",
    "# Define the metric functions\n",
    "var('M')\n",
    "Delta=function('Delta',imag_part_func=0)(r)\n",
    "Delta=r^2-2*M*r\n",
    "###################################################\n",
    "# Enter null tetrad elements\n",
    "# These vectors define the Schwarzschild spacetime\n",
    "lvec=[1,-(r^2)/Delta,0,0]\n",
    "nvec=[Delta/(2*r^2),1/2,0,0]\n",
    "mvec=[0,0,(-r/sqrt(2)),(-I*r/sqrt(2))*sin(th)]\n",
    "mbarvec=[0,0,(-r/sqrt(2)),(I*r/sqrt(2))*sin(th)]\n",
    "##########################################################################"
   ]
  },
  {
   "cell_type": "code",
   "execution_count": 2,
   "id": "ef8b3da8-d1e5-48d0-b5be-476fd0453bcf",
   "metadata": {},
   "outputs": [
    {
     "data": {
      "text/html": [
       "<html>\\(\\displaystyle \\verb|The|\\verb| |\\verb|metric:|\\)</html>"
      ],
      "text/latex": [
       "$\\displaystyle \\verb|The|\\verb| |\\verb|metric:|$"
      ],
      "text/plain": [
       "'The metric:'"
      ]
     },
     "metadata": {},
     "output_type": "display_data"
    },
    {
     "data": {
      "text/html": [
       "<html>\\(\\displaystyle g = \\left( \\frac{2 \\, M - r}{r} \\right) \\mathrm{d} t\\otimes \\mathrm{d} t + \\left( -\\frac{r}{2 \\, M - r} \\right) \\mathrm{d} r\\otimes \\mathrm{d} r + r^{2} \\mathrm{d} {\\theta}\\otimes \\mathrm{d} {\\theta} + r^{2} \\sin\\left({\\theta}\\right)^{2} \\mathrm{d} {\\phi}\\otimes \\mathrm{d} {\\phi}\\)</html>"
      ],
      "text/latex": [
       "$\\displaystyle g = \\left( \\frac{2 \\, M - r}{r} \\right) \\mathrm{d} t\\otimes \\mathrm{d} t + \\left( -\\frac{r}{2 \\, M - r} \\right) \\mathrm{d} r\\otimes \\mathrm{d} r + r^{2} \\mathrm{d} {\\theta}\\otimes \\mathrm{d} {\\theta} + r^{2} \\sin\\left({\\theta}\\right)^{2} \\mathrm{d} {\\phi}\\otimes \\mathrm{d} {\\phi}$"
      ],
      "text/plain": [
       "g = (2*M - r)/r dt⊗dt - r/(2*M - r) dr⊗dr + r^2 dth⊗dth + r^2*sin(th)^2 dph⊗dph"
      ]
     },
     "metadata": {},
     "output_type": "display_data"
    }
   ],
   "source": [
    "# Define the object \"schw\" of the class \"SageNP\":\n",
    "\n",
    "schw=SageNP(MyManifold,MyCoordinates,lvec,nvec,mvec,mbarvec,'covariant')"
   ]
  },
  {
   "cell_type": "code",
   "execution_count": 3,
   "id": "b14db9b3-5c50-4985-8f6c-bf2f231e5fe0",
   "metadata": {},
   "outputs": [
    {
     "name": "stdout",
     "output_type": "stream",
     "text": [
      "Testing null tetrad...\n",
      "PASSED\n"
     ]
    }
   ],
   "source": [
    "# Test the null tetrad with vector products:\n",
    "\n",
    "schw.test_nulltetrad()"
   ]
  },
  {
   "cell_type": "code",
   "execution_count": 4,
   "id": "4ce77af5-dd61-4693-8c9b-ea7c2b3b93eb",
   "metadata": {},
   "outputs": [
    {
     "name": "stdout",
     "output_type": "stream",
     "text": [
      "Calculating spin coefficients...\n"
     ]
    },
    {
     "data": {
      "text/html": [
       "<html>\\(\\displaystyle \\verb|kappaNP=| 0\\)</html>"
      ],
      "text/latex": [
       "$\\displaystyle \\verb|kappaNP=| 0$"
      ],
      "text/plain": [
       "'kappaNP=' 0"
      ]
     },
     "metadata": {},
     "output_type": "display_data"
    },
    {
     "data": {
      "text/html": [
       "<html>\\(\\displaystyle \\verb|tauNP=| 0\\)</html>"
      ],
      "text/latex": [
       "$\\displaystyle \\verb|tauNP=| 0$"
      ],
      "text/plain": [
       "'tauNP=' 0"
      ]
     },
     "metadata": {},
     "output_type": "display_data"
    },
    {
     "data": {
      "text/html": [
       "<html>\\(\\displaystyle \\verb|sigmaNP=| 0\\)</html>"
      ],
      "text/latex": [
       "$\\displaystyle \\verb|sigmaNP=| 0$"
      ],
      "text/plain": [
       "'sigmaNP=' 0"
      ]
     },
     "metadata": {},
     "output_type": "display_data"
    },
    {
     "data": {
      "text/html": [
       "<html>\\(\\displaystyle \\verb|rhoNP=| \\frac{1}{r}\\)</html>"
      ],
      "text/latex": [
       "$\\displaystyle \\verb|rhoNP=| \\frac{1}{r}$"
      ],
      "text/plain": [
       "'rhoNP=' 1/r"
      ]
     },
     "metadata": {},
     "output_type": "display_data"
    },
    {
     "data": {
      "text/html": [
       "<html>\\(\\displaystyle \\verb|piNP=| 0\\)</html>"
      ],
      "text/latex": [
       "$\\displaystyle \\verb|piNP=| 0$"
      ],
      "text/plain": [
       "'piNP=' 0"
      ]
     },
     "metadata": {},
     "output_type": "display_data"
    },
    {
     "data": {
      "text/html": [
       "<html>\\(\\displaystyle \\verb|nuNP=| 0\\)</html>"
      ],
      "text/latex": [
       "$\\displaystyle \\verb|nuNP=| 0$"
      ],
      "text/plain": [
       "'nuNP=' 0"
      ]
     },
     "metadata": {},
     "output_type": "display_data"
    },
    {
     "data": {
      "text/html": [
       "<html>\\(\\displaystyle \\verb|muNP=| -\\frac{2 \\, M - r}{2 \\, r^{2}}\\)</html>"
      ],
      "text/latex": [
       "$\\displaystyle \\verb|muNP=| -\\frac{2 \\, M - r}{2 \\, r^{2}}$"
      ],
      "text/plain": [
       "'muNP=' -1/2*(2*M - r)/r^2"
      ]
     },
     "metadata": {},
     "output_type": "display_data"
    },
    {
     "data": {
      "text/html": [
       "<html>\\(\\displaystyle \\verb|lambdaNP=| 0\\)</html>"
      ],
      "text/latex": [
       "$\\displaystyle \\verb|lambdaNP=| 0$"
      ],
      "text/plain": [
       "'lambdaNP=' 0"
      ]
     },
     "metadata": {},
     "output_type": "display_data"
    },
    {
     "data": {
      "text/html": [
       "<html>\\(\\displaystyle \\verb|epsilonNP=| 0\\)</html>"
      ],
      "text/latex": [
       "$\\displaystyle \\verb|epsilonNP=| 0$"
      ],
      "text/plain": [
       "'epsilonNP=' 0"
      ]
     },
     "metadata": {},
     "output_type": "display_data"
    },
    {
     "data": {
      "text/html": [
       "<html>\\(\\displaystyle \\verb|gammaNP=| -\\frac{M}{2 \\, r^{2}}\\)</html>"
      ],
      "text/latex": [
       "$\\displaystyle \\verb|gammaNP=| -\\frac{M}{2 \\, r^{2}}$"
      ],
      "text/plain": [
       "'gammaNP=' -1/2*M/r^2"
      ]
     },
     "metadata": {},
     "output_type": "display_data"
    },
    {
     "data": {
      "text/html": [
       "<html>\\(\\displaystyle \\verb|betaNP=| -\\frac{\\sqrt{2} \\cos\\left({\\theta}\\right)}{4 \\, r \\sin\\left({\\theta}\\right)}\\)</html>"
      ],
      "text/latex": [
       "$\\displaystyle \\verb|betaNP=| -\\frac{\\sqrt{2} \\cos\\left({\\theta}\\right)}{4 \\, r \\sin\\left({\\theta}\\right)}$"
      ],
      "text/plain": [
       "'betaNP=' -1/4*sqrt(2)*cos(th)/(r*sin(th))"
      ]
     },
     "metadata": {},
     "output_type": "display_data"
    },
    {
     "data": {
      "text/html": [
       "<html>\\(\\displaystyle \\verb|alphaNP=| \\frac{\\sqrt{2} \\cos\\left({\\theta}\\right)}{4 \\, r \\sin\\left({\\theta}\\right)}\\)</html>"
      ],
      "text/latex": [
       "$\\displaystyle \\verb|alphaNP=| \\frac{\\sqrt{2} \\cos\\left({\\theta}\\right)}{4 \\, r \\sin\\left({\\theta}\\right)}$"
      ],
      "text/plain": [
       "'alphaNP=' 1/4*sqrt(2)*cos(th)/(r*sin(th))"
      ]
     },
     "metadata": {},
     "output_type": "display_data"
    }
   ],
   "source": [
    "# Calculate and display the spin coefficients:\n",
    "\n",
    "schw.calculate_spincoefficients()\n",
    "schw.show_spincoefficients()"
   ]
  },
  {
   "cell_type": "code",
   "execution_count": 5,
   "id": "f47bd98e-e297-4178-a80f-8e8f464d186f",
   "metadata": {},
   "outputs": [
    {
     "data": {
      "text/html": [
       "<html>\\(\\displaystyle -\\frac{M}{2 \\, r^{2}}\\)</html>"
      ],
      "text/latex": [
       "$\\displaystyle -\\frac{M}{2 \\, r^{2}}$"
      ],
      "text/plain": [
       "-1/2*M/r^2"
      ]
     },
     "metadata": {},
     "output_type": "display_data"
    }
   ],
   "source": [
    "# Display a single spin coefficient:\n",
    "\n",
    "show(schw.gammaNP.expr())"
   ]
  },
  {
   "cell_type": "code",
   "execution_count": 6,
   "id": "68666031-c4b0-4009-9ab5-62d3f889af7c",
   "metadata": {},
   "outputs": [
    {
     "name": "stdout",
     "output_type": "stream",
     "text": [
      "Calculating Weyl components...\n"
     ]
    },
    {
     "data": {
      "text/html": [
       "<html>\\(\\displaystyle \\verb|Psi0NP=| 0\\)</html>"
      ],
      "text/latex": [
       "$\\displaystyle \\verb|Psi0NP=| 0$"
      ],
      "text/plain": [
       "'Psi0NP=' 0"
      ]
     },
     "metadata": {},
     "output_type": "display_data"
    },
    {
     "data": {
      "text/html": [
       "<html>\\(\\displaystyle \\verb|Psi1NP=| 0\\)</html>"
      ],
      "text/latex": [
       "$\\displaystyle \\verb|Psi1NP=| 0$"
      ],
      "text/plain": [
       "'Psi1NP=' 0"
      ]
     },
     "metadata": {},
     "output_type": "display_data"
    },
    {
     "data": {
      "text/html": [
       "<html>\\(\\displaystyle \\verb|Psi2NP=| -\\frac{M}{r^{3}}\\)</html>"
      ],
      "text/latex": [
       "$\\displaystyle \\verb|Psi2NP=| -\\frac{M}{r^{3}}$"
      ],
      "text/plain": [
       "'Psi2NP=' -M/r^3"
      ]
     },
     "metadata": {},
     "output_type": "display_data"
    },
    {
     "data": {
      "text/html": [
       "<html>\\(\\displaystyle \\verb|Psi3NP=| 0\\)</html>"
      ],
      "text/latex": [
       "$\\displaystyle \\verb|Psi3NP=| 0$"
      ],
      "text/plain": [
       "'Psi3NP=' 0"
      ]
     },
     "metadata": {},
     "output_type": "display_data"
    },
    {
     "data": {
      "text/html": [
       "<html>\\(\\displaystyle \\verb|Psi4NP=| 0\\)</html>"
      ],
      "text/latex": [
       "$\\displaystyle \\verb|Psi4NP=| 0$"
      ],
      "text/plain": [
       "'Psi4NP=' 0"
      ]
     },
     "metadata": {},
     "output_type": "display_data"
    }
   ],
   "source": [
    "# Calculate and display the Weyl tensor components:\n",
    "\n",
    "schw.calculate_Weyl()\n",
    "schw.show_Weyl()"
   ]
  },
  {
   "cell_type": "code",
   "execution_count": 7,
   "id": "2ccd29ea-54c1-4781-8a44-7249569970a4",
   "metadata": {},
   "outputs": [
    {
     "data": {
      "text/html": [
       "<html>\\(\\displaystyle -\\frac{M}{r^{3}}\\)</html>"
      ],
      "text/latex": [
       "$\\displaystyle -\\frac{M}{r^{3}}$"
      ],
      "text/plain": [
       "-M/r^3"
      ]
     },
     "metadata": {},
     "output_type": "display_data"
    }
   ],
   "source": [
    "# Display a single Weyl tensor component:\n",
    "\n",
    "show(schw.Psi2NP.expr())"
   ]
  },
  {
   "cell_type": "code",
   "execution_count": 8,
   "id": "d7b7bc3d-369d-4e61-ad79-45dc0cf47980",
   "metadata": {},
   "outputs": [
    {
     "name": "stdout",
     "output_type": "stream",
     "text": [
      "Calculating Ricci components...\n"
     ]
    },
    {
     "data": {
      "text/html": [
       "<html>\\(\\displaystyle \\verb|Phi00NP=| 0\\)</html>"
      ],
      "text/latex": [
       "$\\displaystyle \\verb|Phi00NP=| 0$"
      ],
      "text/plain": [
       "'Phi00NP=' 0"
      ]
     },
     "metadata": {},
     "output_type": "display_data"
    },
    {
     "data": {
      "text/html": [
       "<html>\\(\\displaystyle \\verb|Phi01NP=| 0\\)</html>"
      ],
      "text/latex": [
       "$\\displaystyle \\verb|Phi01NP=| 0$"
      ],
      "text/plain": [
       "'Phi01NP=' 0"
      ]
     },
     "metadata": {},
     "output_type": "display_data"
    },
    {
     "data": {
      "text/html": [
       "<html>\\(\\displaystyle \\verb|Phi10NP=| 0\\)</html>"
      ],
      "text/latex": [
       "$\\displaystyle \\verb|Phi10NP=| 0$"
      ],
      "text/plain": [
       "'Phi10NP=' 0"
      ]
     },
     "metadata": {},
     "output_type": "display_data"
    },
    {
     "data": {
      "text/html": [
       "<html>\\(\\displaystyle \\verb|Phi02NP=| 0\\)</html>"
      ],
      "text/latex": [
       "$\\displaystyle \\verb|Phi02NP=| 0$"
      ],
      "text/plain": [
       "'Phi02NP=' 0"
      ]
     },
     "metadata": {},
     "output_type": "display_data"
    },
    {
     "data": {
      "text/html": [
       "<html>\\(\\displaystyle \\verb|Phi20NP=| 0\\)</html>"
      ],
      "text/latex": [
       "$\\displaystyle \\verb|Phi20NP=| 0$"
      ],
      "text/plain": [
       "'Phi20NP=' 0"
      ]
     },
     "metadata": {},
     "output_type": "display_data"
    },
    {
     "data": {
      "text/html": [
       "<html>\\(\\displaystyle \\verb|Phi11NP=| 0\\)</html>"
      ],
      "text/latex": [
       "$\\displaystyle \\verb|Phi11NP=| 0$"
      ],
      "text/plain": [
       "'Phi11NP=' 0"
      ]
     },
     "metadata": {},
     "output_type": "display_data"
    },
    {
     "data": {
      "text/html": [
       "<html>\\(\\displaystyle \\verb|Phi12NP=| 0\\)</html>"
      ],
      "text/latex": [
       "$\\displaystyle \\verb|Phi12NP=| 0$"
      ],
      "text/plain": [
       "'Phi12NP=' 0"
      ]
     },
     "metadata": {},
     "output_type": "display_data"
    },
    {
     "data": {
      "text/html": [
       "<html>\\(\\displaystyle \\verb|Phi21NP=| 0\\)</html>"
      ],
      "text/latex": [
       "$\\displaystyle \\verb|Phi21NP=| 0$"
      ],
      "text/plain": [
       "'Phi21NP=' 0"
      ]
     },
     "metadata": {},
     "output_type": "display_data"
    },
    {
     "data": {
      "text/html": [
       "<html>\\(\\displaystyle \\verb|Phi22NP=| 0\\)</html>"
      ],
      "text/latex": [
       "$\\displaystyle \\verb|Phi22NP=| 0$"
      ],
      "text/plain": [
       "'Phi22NP=' 0"
      ]
     },
     "metadata": {},
     "output_type": "display_data"
    },
    {
     "data": {
      "text/html": [
       "<html>\\(\\displaystyle \\verb|LambdaNP=| 0\\)</html>"
      ],
      "text/latex": [
       "$\\displaystyle \\verb|LambdaNP=| 0$"
      ],
      "text/plain": [
       "'LambdaNP=' 0"
      ]
     },
     "metadata": {},
     "output_type": "display_data"
    }
   ],
   "source": [
    "# Calculate and display the Ricci tensor components:\n",
    "\n",
    "schw.calculate_Ricci()\n",
    "schw.show_Ricci()"
   ]
  },
  {
   "cell_type": "code",
   "execution_count": 9,
   "id": "47cfde75-d653-47c6-b881-923822290ae1",
   "metadata": {},
   "outputs": [
    {
     "data": {
      "text/html": [
       "<html>\\(\\displaystyle 0\\)</html>"
      ],
      "text/latex": [
       "$\\displaystyle 0$"
      ],
      "text/plain": [
       "0"
      ]
     },
     "metadata": {},
     "output_type": "display_data"
    }
   ],
   "source": [
    "# Display a single Ricci tensor component:\n",
    "\n",
    "show(schw.Phi00NP.expr())"
   ]
  },
  {
   "cell_type": "code",
   "execution_count": 10,
   "id": "57f6b3cd-83f4-4f88-8bc8-6fb94cea9198",
   "metadata": {},
   "outputs": [
    {
     "name": "stdout",
     "output_type": "stream",
     "text": [
      "Calculating NP equations...\n"
     ]
    },
    {
     "data": {
      "text/html": [
       "<html>\\(\\displaystyle \\verb|NPeq1=| 0\\)</html>"
      ],
      "text/latex": [
       "$\\displaystyle \\verb|NPeq1=| 0$"
      ],
      "text/plain": [
       "'NPeq1=' 0"
      ]
     },
     "metadata": {},
     "output_type": "display_data"
    },
    {
     "data": {
      "text/html": [
       "<html>\\(\\displaystyle \\verb|NPeq2=| 0\\)</html>"
      ],
      "text/latex": [
       "$\\displaystyle \\verb|NPeq2=| 0$"
      ],
      "text/plain": [
       "'NPeq2=' 0"
      ]
     },
     "metadata": {},
     "output_type": "display_data"
    },
    {
     "data": {
      "text/html": [
       "<html>\\(\\displaystyle \\verb|NPeq3=| 0\\)</html>"
      ],
      "text/latex": [
       "$\\displaystyle \\verb|NPeq3=| 0$"
      ],
      "text/plain": [
       "'NPeq3=' 0"
      ]
     },
     "metadata": {},
     "output_type": "display_data"
    },
    {
     "data": {
      "text/html": [
       "<html>\\(\\displaystyle \\verb|NPeq4=| 0\\)</html>"
      ],
      "text/latex": [
       "$\\displaystyle \\verb|NPeq4=| 0$"
      ],
      "text/plain": [
       "'NPeq4=' 0"
      ]
     },
     "metadata": {},
     "output_type": "display_data"
    },
    {
     "data": {
      "text/html": [
       "<html>\\(\\displaystyle \\verb|NPeq5=| 0\\)</html>"
      ],
      "text/latex": [
       "$\\displaystyle \\verb|NPeq5=| 0$"
      ],
      "text/plain": [
       "'NPeq5=' 0"
      ]
     },
     "metadata": {},
     "output_type": "display_data"
    },
    {
     "data": {
      "text/html": [
       "<html>\\(\\displaystyle \\verb|NPeq6=| 0\\)</html>"
      ],
      "text/latex": [
       "$\\displaystyle \\verb|NPeq6=| 0$"
      ],
      "text/plain": [
       "'NPeq6=' 0"
      ]
     },
     "metadata": {},
     "output_type": "display_data"
    },
    {
     "data": {
      "text/html": [
       "<html>\\(\\displaystyle \\verb|NPeq7=| 0\\)</html>"
      ],
      "text/latex": [
       "$\\displaystyle \\verb|NPeq7=| 0$"
      ],
      "text/plain": [
       "'NPeq7=' 0"
      ]
     },
     "metadata": {},
     "output_type": "display_data"
    },
    {
     "data": {
      "text/html": [
       "<html>\\(\\displaystyle \\verb|NPeq8=| 0\\)</html>"
      ],
      "text/latex": [
       "$\\displaystyle \\verb|NPeq8=| 0$"
      ],
      "text/plain": [
       "'NPeq8=' 0"
      ]
     },
     "metadata": {},
     "output_type": "display_data"
    },
    {
     "data": {
      "text/html": [
       "<html>\\(\\displaystyle \\verb|NPeq9=| 0\\)</html>"
      ],
      "text/latex": [
       "$\\displaystyle \\verb|NPeq9=| 0$"
      ],
      "text/plain": [
       "'NPeq9=' 0"
      ]
     },
     "metadata": {},
     "output_type": "display_data"
    },
    {
     "data": {
      "text/html": [
       "<html>\\(\\displaystyle \\verb|NPeq10=| 0\\)</html>"
      ],
      "text/latex": [
       "$\\displaystyle \\verb|NPeq10=| 0$"
      ],
      "text/plain": [
       "'NPeq10=' 0"
      ]
     },
     "metadata": {},
     "output_type": "display_data"
    },
    {
     "data": {
      "text/html": [
       "<html>\\(\\displaystyle \\verb|NPeq11=| 0\\)</html>"
      ],
      "text/latex": [
       "$\\displaystyle \\verb|NPeq11=| 0$"
      ],
      "text/plain": [
       "'NPeq11=' 0"
      ]
     },
     "metadata": {},
     "output_type": "display_data"
    },
    {
     "data": {
      "text/html": [
       "<html>\\(\\displaystyle \\verb|NPeq12=| 0\\)</html>"
      ],
      "text/latex": [
       "$\\displaystyle \\verb|NPeq12=| 0$"
      ],
      "text/plain": [
       "'NPeq12=' 0"
      ]
     },
     "metadata": {},
     "output_type": "display_data"
    },
    {
     "data": {
      "text/html": [
       "<html>\\(\\displaystyle \\verb|NPeq13=| 0\\)</html>"
      ],
      "text/latex": [
       "$\\displaystyle \\verb|NPeq13=| 0$"
      ],
      "text/plain": [
       "'NPeq13=' 0"
      ]
     },
     "metadata": {},
     "output_type": "display_data"
    },
    {
     "data": {
      "text/html": [
       "<html>\\(\\displaystyle \\verb|NPeq14=| 0\\)</html>"
      ],
      "text/latex": [
       "$\\displaystyle \\verb|NPeq14=| 0$"
      ],
      "text/plain": [
       "'NPeq14=' 0"
      ]
     },
     "metadata": {},
     "output_type": "display_data"
    },
    {
     "data": {
      "text/html": [
       "<html>\\(\\displaystyle \\verb|NPeq15=| 0\\)</html>"
      ],
      "text/latex": [
       "$\\displaystyle \\verb|NPeq15=| 0$"
      ],
      "text/plain": [
       "'NPeq15=' 0"
      ]
     },
     "metadata": {},
     "output_type": "display_data"
    },
    {
     "data": {
      "text/html": [
       "<html>\\(\\displaystyle \\verb|NPeq16=| 0\\)</html>"
      ],
      "text/latex": [
       "$\\displaystyle \\verb|NPeq16=| 0$"
      ],
      "text/plain": [
       "'NPeq16=' 0"
      ]
     },
     "metadata": {},
     "output_type": "display_data"
    },
    {
     "data": {
      "text/html": [
       "<html>\\(\\displaystyle \\verb|NPeq17=| 0\\)</html>"
      ],
      "text/latex": [
       "$\\displaystyle \\verb|NPeq17=| 0$"
      ],
      "text/plain": [
       "'NPeq17=' 0"
      ]
     },
     "metadata": {},
     "output_type": "display_data"
    },
    {
     "data": {
      "text/html": [
       "<html>\\(\\displaystyle \\verb|NPeq18=| 0\\)</html>"
      ],
      "text/latex": [
       "$\\displaystyle \\verb|NPeq18=| 0$"
      ],
      "text/plain": [
       "'NPeq18=' 0"
      ]
     },
     "metadata": {},
     "output_type": "display_data"
    }
   ],
   "source": [
    "# Calculate and display the Newman-Penrose equations:\n",
    "\n",
    "schw.calculate_NPeq()\n",
    "schw.show_NPeq()"
   ]
  },
  {
   "cell_type": "code",
   "execution_count": 11,
   "id": "b27feab5-afcf-433e-ac0f-d768ea27d485",
   "metadata": {},
   "outputs": [
    {
     "data": {
      "text/html": [
       "<html>\\(\\displaystyle 0\\)</html>"
      ],
      "text/latex": [
       "$\\displaystyle 0$"
      ],
      "text/plain": [
       "0"
      ]
     },
     "metadata": {},
     "output_type": "display_data"
    }
   ],
   "source": [
    "# Display a single Newman-Penrose equation:\n",
    "\n",
    "show(schw.NPeq8.expr())"
   ]
  },
  {
   "cell_type": "code",
   "execution_count": 12,
   "id": "97318527-9715-43e5-b707-f5c97ba383db",
   "metadata": {},
   "outputs": [
    {
     "name": "stdout",
     "output_type": "stream",
     "text": [
      "Calculating Bianchi identities...\n"
     ]
    },
    {
     "data": {
      "text/html": [
       "<html>\\(\\displaystyle \\verb|BI1=| 0\\)</html>"
      ],
      "text/latex": [
       "$\\displaystyle \\verb|BI1=| 0$"
      ],
      "text/plain": [
       "'BI1=' 0"
      ]
     },
     "metadata": {},
     "output_type": "display_data"
    },
    {
     "data": {
      "text/html": [
       "<html>\\(\\displaystyle \\verb|BI2=| 0\\)</html>"
      ],
      "text/latex": [
       "$\\displaystyle \\verb|BI2=| 0$"
      ],
      "text/plain": [
       "'BI2=' 0"
      ]
     },
     "metadata": {},
     "output_type": "display_data"
    },
    {
     "data": {
      "text/html": [
       "<html>\\(\\displaystyle \\verb|BI3=| 0\\)</html>"
      ],
      "text/latex": [
       "$\\displaystyle \\verb|BI3=| 0$"
      ],
      "text/plain": [
       "'BI3=' 0"
      ]
     },
     "metadata": {},
     "output_type": "display_data"
    },
    {
     "data": {
      "text/html": [
       "<html>\\(\\displaystyle \\verb|BI4=| 0\\)</html>"
      ],
      "text/latex": [
       "$\\displaystyle \\verb|BI4=| 0$"
      ],
      "text/plain": [
       "'BI4=' 0"
      ]
     },
     "metadata": {},
     "output_type": "display_data"
    },
    {
     "data": {
      "text/html": [
       "<html>\\(\\displaystyle \\verb|BI5=| 0\\)</html>"
      ],
      "text/latex": [
       "$\\displaystyle \\verb|BI5=| 0$"
      ],
      "text/plain": [
       "'BI5=' 0"
      ]
     },
     "metadata": {},
     "output_type": "display_data"
    },
    {
     "data": {
      "text/html": [
       "<html>\\(\\displaystyle \\verb|BI6=| 0\\)</html>"
      ],
      "text/latex": [
       "$\\displaystyle \\verb|BI6=| 0$"
      ],
      "text/plain": [
       "'BI6=' 0"
      ]
     },
     "metadata": {},
     "output_type": "display_data"
    },
    {
     "data": {
      "text/html": [
       "<html>\\(\\displaystyle \\verb|BI7=| 0\\)</html>"
      ],
      "text/latex": [
       "$\\displaystyle \\verb|BI7=| 0$"
      ],
      "text/plain": [
       "'BI7=' 0"
      ]
     },
     "metadata": {},
     "output_type": "display_data"
    },
    {
     "data": {
      "text/html": [
       "<html>\\(\\displaystyle \\verb|BI8=| 0\\)</html>"
      ],
      "text/latex": [
       "$\\displaystyle \\verb|BI8=| 0$"
      ],
      "text/plain": [
       "'BI8=' 0"
      ]
     },
     "metadata": {},
     "output_type": "display_data"
    },
    {
     "data": {
      "text/html": [
       "<html>\\(\\displaystyle \\verb|BI9=| 0\\)</html>"
      ],
      "text/latex": [
       "$\\displaystyle \\verb|BI9=| 0$"
      ],
      "text/plain": [
       "'BI9=' 0"
      ]
     },
     "metadata": {},
     "output_type": "display_data"
    },
    {
     "data": {
      "text/html": [
       "<html>\\(\\displaystyle \\verb|BI10=| 0\\)</html>"
      ],
      "text/latex": [
       "$\\displaystyle \\verb|BI10=| 0$"
      ],
      "text/plain": [
       "'BI10=' 0"
      ]
     },
     "metadata": {},
     "output_type": "display_data"
    },
    {
     "data": {
      "text/html": [
       "<html>\\(\\displaystyle \\verb|BI11=| 0\\)</html>"
      ],
      "text/latex": [
       "$\\displaystyle \\verb|BI11=| 0$"
      ],
      "text/plain": [
       "'BI11=' 0"
      ]
     },
     "metadata": {},
     "output_type": "display_data"
    }
   ],
   "source": [
    "# Calculate and display the Bianchi identities:\n",
    "\n",
    "schw.calculate_Bianchi()\n",
    "schw.show_Bianchi()"
   ]
  },
  {
   "cell_type": "code",
   "execution_count": 13,
   "id": "81f47059-c53b-4341-bbda-08520401dbbb",
   "metadata": {},
   "outputs": [
    {
     "data": {
      "text/html": [
       "<html>\\(\\displaystyle 0\\)</html>"
      ],
      "text/latex": [
       "$\\displaystyle 0$"
      ],
      "text/plain": [
       "0"
      ]
     },
     "metadata": {},
     "output_type": "display_data"
    }
   ],
   "source": [
    "# Display a single Bianchi identity:\n",
    "\n",
    "show(schw.BI7.expr())"
   ]
  },
  {
   "cell_type": "code",
   "execution_count": 14,
   "id": "1584d775-a747-469f-97c0-5f014113dc83",
   "metadata": {},
   "outputs": [
    {
     "name": "stdout",
     "output_type": "stream",
     "text": [
      "Calculating Petrov Type...\n",
      "Petrov Type D\n",
      "Attention: This procedure depends on the simplification of the structures. Therefore the Petrov type can be simpler.\n"
     ]
    }
   ],
   "source": [
    "# Find the Petrov class using the Petrov invariants:\n",
    "\n",
    "schw.Petrov_frominvariants()"
   ]
  },
  {
   "cell_type": "code",
   "execution_count": 15,
   "id": "e5c31613-a1ff-41b7-b9e0-22afbf5e88ab",
   "metadata": {},
   "outputs": [
    {
     "name": "stdout",
     "output_type": "stream",
     "text": [
      "Calculating Petrov Type...\n",
      "Petrov Type D\n",
      "Attention: This procedure depends on the simplification of the structures. Therefore the Petrov type can be simpler.\n"
     ]
    }
   ],
   "source": [
    "# Find the Petrov class using the Weyl tensor components:\n",
    "\n",
    "schw.Petrov_fromWeyl()"
   ]
  },
  {
   "cell_type": "code",
   "execution_count": 16,
   "id": "9a0ca55f-4a93-45a8-99a3-ddc8f43a5d31",
   "metadata": {},
   "outputs": [
    {
     "data": {
      "text/html": [
       "<html>\\(\\displaystyle -\\frac{M}{r^{3}}\\)</html>"
      ],
      "text/latex": [
       "$\\displaystyle -\\frac{M}{r^{3}}$"
      ],
      "text/plain": [
       "-M/r^3"
      ]
     },
     "metadata": {},
     "output_type": "display_data"
    },
    {
     "data": {
      "text/html": [
       "<html>\\(\\displaystyle -\\frac{2 \\, M^{2} - M r}{2 \\, r^{4}}\\)</html>"
      ],
      "text/latex": [
       "$\\displaystyle -\\frac{2 \\, M^{2} - M r}{2 \\, r^{4}}$"
      ],
      "text/plain": [
       "-1/2*(2*M^2 - M*r)/r^4"
      ]
     },
     "metadata": {},
     "output_type": "display_data"
    },
    {
     "data": {
      "text/html": [
       "<html>\\(\\displaystyle 0\\)</html>"
      ],
      "text/latex": [
       "$\\displaystyle 0$"
      ],
      "text/plain": [
       "0"
      ]
     },
     "metadata": {},
     "output_type": "display_data"
    },
    {
     "data": {
      "text/html": [
       "<html>\\(\\displaystyle 0\\)</html>"
      ],
      "text/latex": [
       "$\\displaystyle 0$"
      ],
      "text/plain": [
       "0"
      ]
     },
     "metadata": {},
     "output_type": "display_data"
    }
   ],
   "source": [
    "# Calculate and display the directional derivatives \n",
    "# of the spin coefficient gammaNP:\n",
    "\n",
    "show(schw.DlNP(schw.gammaNP).expr())\n",
    "show(schw.DeltanNP(schw.gammaNP).expr())\n",
    "show(schw.deltamNP(schw.gammaNP).expr())\n",
    "show(schw.deltambarNP(schw.gammaNP).expr())"
   ]
  },
  {
   "cell_type": "code",
   "execution_count": 17,
   "id": "68045041-cd95-4653-b545-cb9fcbc08395",
   "metadata": {},
   "outputs": [
    {
     "data": {
      "text/html": [
       "<html>\\(\\displaystyle \\frac{M^{2}}{r^{5}}\\)</html>"
      ],
      "text/latex": [
       "$\\displaystyle \\frac{M^{2}}{r^{5}}$"
      ],
      "text/plain": [
       "M^2/r^5"
      ]
     },
     "metadata": {},
     "output_type": "display_data"
    },
    {
     "data": {
      "text/html": [
       "<html>\\(\\displaystyle 0\\)</html>"
      ],
      "text/latex": [
       "$\\displaystyle 0$"
      ],
      "text/plain": [
       "0"
      ]
     },
     "metadata": {},
     "output_type": "display_data"
    },
    {
     "data": {
      "text/html": [
       "<html>\\(\\displaystyle 0\\)</html>"
      ],
      "text/latex": [
       "$\\displaystyle 0$"
      ],
      "text/plain": [
       "0"
      ]
     },
     "metadata": {},
     "output_type": "display_data"
    },
    {
     "data": {
      "text/html": [
       "<html>\\(\\displaystyle 0\\)</html>"
      ],
      "text/latex": [
       "$\\displaystyle 0$"
      ],
      "text/plain": [
       "0"
      ]
     },
     "metadata": {},
     "output_type": "display_data"
    }
   ],
   "source": [
    "# Calculate and display the commutators \n",
    "# for the spin coefficient gammaNP:\n",
    "\n",
    "show(schw.Deltan_Dl_commNP(schw.gammaNP).expr())\n",
    "show(schw.deltam_Dl_commNP(schw.gammaNP).expr())\n",
    "show(schw.deltam_Deltan_commNP(schw.gammaNP).expr())\n",
    "show(schw.deltambar_deltam_commNP(schw.gammaNP).expr())"
   ]
  },
  {
   "cell_type": "code",
   "execution_count": 18,
   "id": "8730aed2-5c41-4092-8476-86a2da05b1f8",
   "metadata": {},
   "outputs": [
    {
     "name": "stdout",
     "output_type": "stream",
     "text": [
      "Calculating spin coefficients...\n",
      "Calculating Weyl components...\n",
      "Calculating Ricci components...\n",
      "Calculating NP equations...\n",
      "Calculating Bianchi identities...\n",
      "Calculating Petrov Type...\n",
      "Petrov Type D\n",
      "Attention: This procedure depends on the simplification of the structures. Therefore the Petrov type can be simpler.\n",
      "Calculating Petrov Type...\n",
      "Petrov Type D\n",
      "Attention: This procedure depends on the simplification of the structures. Therefore the Petrov type can be simpler.\n"
     ]
    },
    {
     "data": {
      "text/html": [
       "<html>\\(\\displaystyle \\verb|kappaNP=| 0\\)</html>"
      ],
      "text/latex": [
       "$\\displaystyle \\verb|kappaNP=| 0$"
      ],
      "text/plain": [
       "'kappaNP=' 0"
      ]
     },
     "metadata": {},
     "output_type": "display_data"
    },
    {
     "data": {
      "text/html": [
       "<html>\\(\\displaystyle \\verb|tauNP=| 0\\)</html>"
      ],
      "text/latex": [
       "$\\displaystyle \\verb|tauNP=| 0$"
      ],
      "text/plain": [
       "'tauNP=' 0"
      ]
     },
     "metadata": {},
     "output_type": "display_data"
    },
    {
     "data": {
      "text/html": [
       "<html>\\(\\displaystyle \\verb|sigmaNP=| 0\\)</html>"
      ],
      "text/latex": [
       "$\\displaystyle \\verb|sigmaNP=| 0$"
      ],
      "text/plain": [
       "'sigmaNP=' 0"
      ]
     },
     "metadata": {},
     "output_type": "display_data"
    },
    {
     "data": {
      "text/html": [
       "<html>\\(\\displaystyle \\verb|rhoNP=| \\frac{1}{r}\\)</html>"
      ],
      "text/latex": [
       "$\\displaystyle \\verb|rhoNP=| \\frac{1}{r}$"
      ],
      "text/plain": [
       "'rhoNP=' 1/r"
      ]
     },
     "metadata": {},
     "output_type": "display_data"
    },
    {
     "data": {
      "text/html": [
       "<html>\\(\\displaystyle \\verb|piNP=| 0\\)</html>"
      ],
      "text/latex": [
       "$\\displaystyle \\verb|piNP=| 0$"
      ],
      "text/plain": [
       "'piNP=' 0"
      ]
     },
     "metadata": {},
     "output_type": "display_data"
    },
    {
     "data": {
      "text/html": [
       "<html>\\(\\displaystyle \\verb|nuNP=| 0\\)</html>"
      ],
      "text/latex": [
       "$\\displaystyle \\verb|nuNP=| 0$"
      ],
      "text/plain": [
       "'nuNP=' 0"
      ]
     },
     "metadata": {},
     "output_type": "display_data"
    },
    {
     "data": {
      "text/html": [
       "<html>\\(\\displaystyle \\verb|muNP=| -\\frac{2 \\, M - r}{2 \\, r^{2}}\\)</html>"
      ],
      "text/latex": [
       "$\\displaystyle \\verb|muNP=| -\\frac{2 \\, M - r}{2 \\, r^{2}}$"
      ],
      "text/plain": [
       "'muNP=' -1/2*(2*M - r)/r^2"
      ]
     },
     "metadata": {},
     "output_type": "display_data"
    },
    {
     "data": {
      "text/html": [
       "<html>\\(\\displaystyle \\verb|lambdaNP=| 0\\)</html>"
      ],
      "text/latex": [
       "$\\displaystyle \\verb|lambdaNP=| 0$"
      ],
      "text/plain": [
       "'lambdaNP=' 0"
      ]
     },
     "metadata": {},
     "output_type": "display_data"
    },
    {
     "data": {
      "text/html": [
       "<html>\\(\\displaystyle \\verb|epsilonNP=| 0\\)</html>"
      ],
      "text/latex": [
       "$\\displaystyle \\verb|epsilonNP=| 0$"
      ],
      "text/plain": [
       "'epsilonNP=' 0"
      ]
     },
     "metadata": {},
     "output_type": "display_data"
    },
    {
     "data": {
      "text/html": [
       "<html>\\(\\displaystyle \\verb|gammaNP=| -\\frac{M}{2 \\, r^{2}}\\)</html>"
      ],
      "text/latex": [
       "$\\displaystyle \\verb|gammaNP=| -\\frac{M}{2 \\, r^{2}}$"
      ],
      "text/plain": [
       "'gammaNP=' -1/2*M/r^2"
      ]
     },
     "metadata": {},
     "output_type": "display_data"
    },
    {
     "data": {
      "text/html": [
       "<html>\\(\\displaystyle \\verb|betaNP=| -\\frac{\\sqrt{2} \\cos\\left({\\theta}\\right)}{4 \\, r \\sin\\left({\\theta}\\right)}\\)</html>"
      ],
      "text/latex": [
       "$\\displaystyle \\verb|betaNP=| -\\frac{\\sqrt{2} \\cos\\left({\\theta}\\right)}{4 \\, r \\sin\\left({\\theta}\\right)}$"
      ],
      "text/plain": [
       "'betaNP=' -1/4*sqrt(2)*cos(th)/(r*sin(th))"
      ]
     },
     "metadata": {},
     "output_type": "display_data"
    },
    {
     "data": {
      "text/html": [
       "<html>\\(\\displaystyle \\verb|alphaNP=| \\frac{\\sqrt{2} \\cos\\left({\\theta}\\right)}{4 \\, r \\sin\\left({\\theta}\\right)}\\)</html>"
      ],
      "text/latex": [
       "$\\displaystyle \\verb|alphaNP=| \\frac{\\sqrt{2} \\cos\\left({\\theta}\\right)}{4 \\, r \\sin\\left({\\theta}\\right)}$"
      ],
      "text/plain": [
       "'alphaNP=' 1/4*sqrt(2)*cos(th)/(r*sin(th))"
      ]
     },
     "metadata": {},
     "output_type": "display_data"
    },
    {
     "data": {
      "text/html": [
       "<html>\\(\\displaystyle \\verb|Psi0NP=| 0\\)</html>"
      ],
      "text/latex": [
       "$\\displaystyle \\verb|Psi0NP=| 0$"
      ],
      "text/plain": [
       "'Psi0NP=' 0"
      ]
     },
     "metadata": {},
     "output_type": "display_data"
    },
    {
     "data": {
      "text/html": [
       "<html>\\(\\displaystyle \\verb|Psi1NP=| 0\\)</html>"
      ],
      "text/latex": [
       "$\\displaystyle \\verb|Psi1NP=| 0$"
      ],
      "text/plain": [
       "'Psi1NP=' 0"
      ]
     },
     "metadata": {},
     "output_type": "display_data"
    },
    {
     "data": {
      "text/html": [
       "<html>\\(\\displaystyle \\verb|Psi2NP=| -\\frac{M}{r^{3}}\\)</html>"
      ],
      "text/latex": [
       "$\\displaystyle \\verb|Psi2NP=| -\\frac{M}{r^{3}}$"
      ],
      "text/plain": [
       "'Psi2NP=' -M/r^3"
      ]
     },
     "metadata": {},
     "output_type": "display_data"
    },
    {
     "data": {
      "text/html": [
       "<html>\\(\\displaystyle \\verb|Psi3NP=| 0\\)</html>"
      ],
      "text/latex": [
       "$\\displaystyle \\verb|Psi3NP=| 0$"
      ],
      "text/plain": [
       "'Psi3NP=' 0"
      ]
     },
     "metadata": {},
     "output_type": "display_data"
    },
    {
     "data": {
      "text/html": [
       "<html>\\(\\displaystyle \\verb|Psi4NP=| 0\\)</html>"
      ],
      "text/latex": [
       "$\\displaystyle \\verb|Psi4NP=| 0$"
      ],
      "text/plain": [
       "'Psi4NP=' 0"
      ]
     },
     "metadata": {},
     "output_type": "display_data"
    },
    {
     "data": {
      "text/html": [
       "<html>\\(\\displaystyle \\verb|Phi00NP=| 0\\)</html>"
      ],
      "text/latex": [
       "$\\displaystyle \\verb|Phi00NP=| 0$"
      ],
      "text/plain": [
       "'Phi00NP=' 0"
      ]
     },
     "metadata": {},
     "output_type": "display_data"
    },
    {
     "data": {
      "text/html": [
       "<html>\\(\\displaystyle \\verb|Phi01NP=| 0\\)</html>"
      ],
      "text/latex": [
       "$\\displaystyle \\verb|Phi01NP=| 0$"
      ],
      "text/plain": [
       "'Phi01NP=' 0"
      ]
     },
     "metadata": {},
     "output_type": "display_data"
    },
    {
     "data": {
      "text/html": [
       "<html>\\(\\displaystyle \\verb|Phi10NP=| 0\\)</html>"
      ],
      "text/latex": [
       "$\\displaystyle \\verb|Phi10NP=| 0$"
      ],
      "text/plain": [
       "'Phi10NP=' 0"
      ]
     },
     "metadata": {},
     "output_type": "display_data"
    },
    {
     "data": {
      "text/html": [
       "<html>\\(\\displaystyle \\verb|Phi02NP=| 0\\)</html>"
      ],
      "text/latex": [
       "$\\displaystyle \\verb|Phi02NP=| 0$"
      ],
      "text/plain": [
       "'Phi02NP=' 0"
      ]
     },
     "metadata": {},
     "output_type": "display_data"
    },
    {
     "data": {
      "text/html": [
       "<html>\\(\\displaystyle \\verb|Phi20NP=| 0\\)</html>"
      ],
      "text/latex": [
       "$\\displaystyle \\verb|Phi20NP=| 0$"
      ],
      "text/plain": [
       "'Phi20NP=' 0"
      ]
     },
     "metadata": {},
     "output_type": "display_data"
    },
    {
     "data": {
      "text/html": [
       "<html>\\(\\displaystyle \\verb|Phi11NP=| 0\\)</html>"
      ],
      "text/latex": [
       "$\\displaystyle \\verb|Phi11NP=| 0$"
      ],
      "text/plain": [
       "'Phi11NP=' 0"
      ]
     },
     "metadata": {},
     "output_type": "display_data"
    },
    {
     "data": {
      "text/html": [
       "<html>\\(\\displaystyle \\verb|Phi12NP=| 0\\)</html>"
      ],
      "text/latex": [
       "$\\displaystyle \\verb|Phi12NP=| 0$"
      ],
      "text/plain": [
       "'Phi12NP=' 0"
      ]
     },
     "metadata": {},
     "output_type": "display_data"
    },
    {
     "data": {
      "text/html": [
       "<html>\\(\\displaystyle \\verb|Phi21NP=| 0\\)</html>"
      ],
      "text/latex": [
       "$\\displaystyle \\verb|Phi21NP=| 0$"
      ],
      "text/plain": [
       "'Phi21NP=' 0"
      ]
     },
     "metadata": {},
     "output_type": "display_data"
    },
    {
     "data": {
      "text/html": [
       "<html>\\(\\displaystyle \\verb|Phi22NP=| 0\\)</html>"
      ],
      "text/latex": [
       "$\\displaystyle \\verb|Phi22NP=| 0$"
      ],
      "text/plain": [
       "'Phi22NP=' 0"
      ]
     },
     "metadata": {},
     "output_type": "display_data"
    },
    {
     "data": {
      "text/html": [
       "<html>\\(\\displaystyle \\verb|LambdaNP=| 0\\)</html>"
      ],
      "text/latex": [
       "$\\displaystyle \\verb|LambdaNP=| 0$"
      ],
      "text/plain": [
       "'LambdaNP=' 0"
      ]
     },
     "metadata": {},
     "output_type": "display_data"
    },
    {
     "data": {
      "text/html": [
       "<html>\\(\\displaystyle \\verb|NPeq1=| 0\\)</html>"
      ],
      "text/latex": [
       "$\\displaystyle \\verb|NPeq1=| 0$"
      ],
      "text/plain": [
       "'NPeq1=' 0"
      ]
     },
     "metadata": {},
     "output_type": "display_data"
    },
    {
     "data": {
      "text/html": [
       "<html>\\(\\displaystyle \\verb|NPeq2=| 0\\)</html>"
      ],
      "text/latex": [
       "$\\displaystyle \\verb|NPeq2=| 0$"
      ],
      "text/plain": [
       "'NPeq2=' 0"
      ]
     },
     "metadata": {},
     "output_type": "display_data"
    },
    {
     "data": {
      "text/html": [
       "<html>\\(\\displaystyle \\verb|NPeq3=| 0\\)</html>"
      ],
      "text/latex": [
       "$\\displaystyle \\verb|NPeq3=| 0$"
      ],
      "text/plain": [
       "'NPeq3=' 0"
      ]
     },
     "metadata": {},
     "output_type": "display_data"
    },
    {
     "data": {
      "text/html": [
       "<html>\\(\\displaystyle \\verb|NPeq4=| 0\\)</html>"
      ],
      "text/latex": [
       "$\\displaystyle \\verb|NPeq4=| 0$"
      ],
      "text/plain": [
       "'NPeq4=' 0"
      ]
     },
     "metadata": {},
     "output_type": "display_data"
    },
    {
     "data": {
      "text/html": [
       "<html>\\(\\displaystyle \\verb|NPeq5=| 0\\)</html>"
      ],
      "text/latex": [
       "$\\displaystyle \\verb|NPeq5=| 0$"
      ],
      "text/plain": [
       "'NPeq5=' 0"
      ]
     },
     "metadata": {},
     "output_type": "display_data"
    },
    {
     "data": {
      "text/html": [
       "<html>\\(\\displaystyle \\verb|NPeq6=| 0\\)</html>"
      ],
      "text/latex": [
       "$\\displaystyle \\verb|NPeq6=| 0$"
      ],
      "text/plain": [
       "'NPeq6=' 0"
      ]
     },
     "metadata": {},
     "output_type": "display_data"
    },
    {
     "data": {
      "text/html": [
       "<html>\\(\\displaystyle \\verb|NPeq7=| 0\\)</html>"
      ],
      "text/latex": [
       "$\\displaystyle \\verb|NPeq7=| 0$"
      ],
      "text/plain": [
       "'NPeq7=' 0"
      ]
     },
     "metadata": {},
     "output_type": "display_data"
    },
    {
     "data": {
      "text/html": [
       "<html>\\(\\displaystyle \\verb|NPeq8=| 0\\)</html>"
      ],
      "text/latex": [
       "$\\displaystyle \\verb|NPeq8=| 0$"
      ],
      "text/plain": [
       "'NPeq8=' 0"
      ]
     },
     "metadata": {},
     "output_type": "display_data"
    },
    {
     "data": {
      "text/html": [
       "<html>\\(\\displaystyle \\verb|NPeq9=| 0\\)</html>"
      ],
      "text/latex": [
       "$\\displaystyle \\verb|NPeq9=| 0$"
      ],
      "text/plain": [
       "'NPeq9=' 0"
      ]
     },
     "metadata": {},
     "output_type": "display_data"
    },
    {
     "data": {
      "text/html": [
       "<html>\\(\\displaystyle \\verb|NPeq10=| 0\\)</html>"
      ],
      "text/latex": [
       "$\\displaystyle \\verb|NPeq10=| 0$"
      ],
      "text/plain": [
       "'NPeq10=' 0"
      ]
     },
     "metadata": {},
     "output_type": "display_data"
    },
    {
     "data": {
      "text/html": [
       "<html>\\(\\displaystyle \\verb|NPeq11=| 0\\)</html>"
      ],
      "text/latex": [
       "$\\displaystyle \\verb|NPeq11=| 0$"
      ],
      "text/plain": [
       "'NPeq11=' 0"
      ]
     },
     "metadata": {},
     "output_type": "display_data"
    },
    {
     "data": {
      "text/html": [
       "<html>\\(\\displaystyle \\verb|NPeq12=| 0\\)</html>"
      ],
      "text/latex": [
       "$\\displaystyle \\verb|NPeq12=| 0$"
      ],
      "text/plain": [
       "'NPeq12=' 0"
      ]
     },
     "metadata": {},
     "output_type": "display_data"
    },
    {
     "data": {
      "text/html": [
       "<html>\\(\\displaystyle \\verb|NPeq13=| 0\\)</html>"
      ],
      "text/latex": [
       "$\\displaystyle \\verb|NPeq13=| 0$"
      ],
      "text/plain": [
       "'NPeq13=' 0"
      ]
     },
     "metadata": {},
     "output_type": "display_data"
    },
    {
     "data": {
      "text/html": [
       "<html>\\(\\displaystyle \\verb|NPeq14=| 0\\)</html>"
      ],
      "text/latex": [
       "$\\displaystyle \\verb|NPeq14=| 0$"
      ],
      "text/plain": [
       "'NPeq14=' 0"
      ]
     },
     "metadata": {},
     "output_type": "display_data"
    },
    {
     "data": {
      "text/html": [
       "<html>\\(\\displaystyle \\verb|NPeq15=| 0\\)</html>"
      ],
      "text/latex": [
       "$\\displaystyle \\verb|NPeq15=| 0$"
      ],
      "text/plain": [
       "'NPeq15=' 0"
      ]
     },
     "metadata": {},
     "output_type": "display_data"
    },
    {
     "data": {
      "text/html": [
       "<html>\\(\\displaystyle \\verb|NPeq16=| 0\\)</html>"
      ],
      "text/latex": [
       "$\\displaystyle \\verb|NPeq16=| 0$"
      ],
      "text/plain": [
       "'NPeq16=' 0"
      ]
     },
     "metadata": {},
     "output_type": "display_data"
    },
    {
     "data": {
      "text/html": [
       "<html>\\(\\displaystyle \\verb|NPeq17=| 0\\)</html>"
      ],
      "text/latex": [
       "$\\displaystyle \\verb|NPeq17=| 0$"
      ],
      "text/plain": [
       "'NPeq17=' 0"
      ]
     },
     "metadata": {},
     "output_type": "display_data"
    },
    {
     "data": {
      "text/html": [
       "<html>\\(\\displaystyle \\verb|NPeq18=| 0\\)</html>"
      ],
      "text/latex": [
       "$\\displaystyle \\verb|NPeq18=| 0$"
      ],
      "text/plain": [
       "'NPeq18=' 0"
      ]
     },
     "metadata": {},
     "output_type": "display_data"
    },
    {
     "data": {
      "text/html": [
       "<html>\\(\\displaystyle \\verb|BI1=| 0\\)</html>"
      ],
      "text/latex": [
       "$\\displaystyle \\verb|BI1=| 0$"
      ],
      "text/plain": [
       "'BI1=' 0"
      ]
     },
     "metadata": {},
     "output_type": "display_data"
    },
    {
     "data": {
      "text/html": [
       "<html>\\(\\displaystyle \\verb|BI2=| 0\\)</html>"
      ],
      "text/latex": [
       "$\\displaystyle \\verb|BI2=| 0$"
      ],
      "text/plain": [
       "'BI2=' 0"
      ]
     },
     "metadata": {},
     "output_type": "display_data"
    },
    {
     "data": {
      "text/html": [
       "<html>\\(\\displaystyle \\verb|BI3=| 0\\)</html>"
      ],
      "text/latex": [
       "$\\displaystyle \\verb|BI3=| 0$"
      ],
      "text/plain": [
       "'BI3=' 0"
      ]
     },
     "metadata": {},
     "output_type": "display_data"
    },
    {
     "data": {
      "text/html": [
       "<html>\\(\\displaystyle \\verb|BI4=| 0\\)</html>"
      ],
      "text/latex": [
       "$\\displaystyle \\verb|BI4=| 0$"
      ],
      "text/plain": [
       "'BI4=' 0"
      ]
     },
     "metadata": {},
     "output_type": "display_data"
    },
    {
     "data": {
      "text/html": [
       "<html>\\(\\displaystyle \\verb|BI5=| 0\\)</html>"
      ],
      "text/latex": [
       "$\\displaystyle \\verb|BI5=| 0$"
      ],
      "text/plain": [
       "'BI5=' 0"
      ]
     },
     "metadata": {},
     "output_type": "display_data"
    },
    {
     "data": {
      "text/html": [
       "<html>\\(\\displaystyle \\verb|BI6=| 0\\)</html>"
      ],
      "text/latex": [
       "$\\displaystyle \\verb|BI6=| 0$"
      ],
      "text/plain": [
       "'BI6=' 0"
      ]
     },
     "metadata": {},
     "output_type": "display_data"
    },
    {
     "data": {
      "text/html": [
       "<html>\\(\\displaystyle \\verb|BI7=| 0\\)</html>"
      ],
      "text/latex": [
       "$\\displaystyle \\verb|BI7=| 0$"
      ],
      "text/plain": [
       "'BI7=' 0"
      ]
     },
     "metadata": {},
     "output_type": "display_data"
    },
    {
     "data": {
      "text/html": [
       "<html>\\(\\displaystyle \\verb|BI8=| 0\\)</html>"
      ],
      "text/latex": [
       "$\\displaystyle \\verb|BI8=| 0$"
      ],
      "text/plain": [
       "'BI8=' 0"
      ]
     },
     "metadata": {},
     "output_type": "display_data"
    },
    {
     "data": {
      "text/html": [
       "<html>\\(\\displaystyle \\verb|BI9=| 0\\)</html>"
      ],
      "text/latex": [
       "$\\displaystyle \\verb|BI9=| 0$"
      ],
      "text/plain": [
       "'BI9=' 0"
      ]
     },
     "metadata": {},
     "output_type": "display_data"
    },
    {
     "data": {
      "text/html": [
       "<html>\\(\\displaystyle \\verb|BI10=| 0\\)</html>"
      ],
      "text/latex": [
       "$\\displaystyle \\verb|BI10=| 0$"
      ],
      "text/plain": [
       "'BI10=' 0"
      ]
     },
     "metadata": {},
     "output_type": "display_data"
    },
    {
     "data": {
      "text/html": [
       "<html>\\(\\displaystyle \\verb|BI11=| 0\\)</html>"
      ],
      "text/latex": [
       "$\\displaystyle \\verb|BI11=| 0$"
      ],
      "text/plain": [
       "'BI11=' 0"
      ]
     },
     "metadata": {},
     "output_type": "display_data"
    },
    {
     "name": "stdout",
     "output_type": "stream",
     "text": [
      "Calculating Petrov Type...\n",
      "Petrov Type D\n",
      "Attention: This procedure depends on the simplification of the structures. Therefore the Petrov type can be simpler.\n",
      "Calculating Petrov Type...\n",
      "Petrov Type D\n",
      "Attention: This procedure depends on the simplification of the structures. Therefore the Petrov type can be simpler.\n"
     ]
    }
   ],
   "source": [
    "# Use these functions to calculate and display\n",
    "# spin coefficients, Weyl components , Ricci components,\n",
    "# Newman-Penrose equations, Bianchi identities,\n",
    "# Petrov class using the Petrov invariants,\n",
    "# Petrov class using the Weyl tensor components\n",
    "\n",
    "schw.calculate_allNP()\n",
    "schw.show_allNP()"
   ]
  },
  {
   "cell_type": "code",
   "execution_count": null,
   "id": "a8be5c9e-8393-4dfa-8e32-dba922f72d0f",
   "metadata": {},
   "outputs": [],
   "source": []
  }
 ],
 "metadata": {
  "kernelspec": {
   "display_name": "SageMath 10.3",
   "language": "sage",
   "name": "sagemath"
  },
  "language_info": {
   "codemirror_mode": {
    "name": "ipython",
    "version": 3
   },
   "file_extension": ".py",
   "mimetype": "text/x-python",
   "name": "python",
   "nbconvert_exporter": "python",
   "pygments_lexer": "ipython3",
   "version": "3.10.14"
  }
 },
 "nbformat": 4,
 "nbformat_minor": 5
}
